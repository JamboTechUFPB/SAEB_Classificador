{
 "cells": [
  {
   "cell_type": "code",
   "execution_count": 24,
   "metadata": {},
   "outputs": [],
   "source": [
    "from sklearn.preprocessing import OneHotEncoder\n",
    "from sklearn.model_selection import train_test_split\n",
    "from sklearn.preprocessing import OneHotEncoder\n",
    "from keras.models import Sequential\n",
    "from keras.layers import Dense\n",
    "from keras import optimizers\n",
    "from keras import regularizers\n",
    "from keras.callbacks import EarlyStopping\n",
    "from sklearn.metrics import accuracy_score\n",
    "from IPython.display import clear_output\n",
    "import matplotlib.pyplot as plt\n",
    "import pandas as pd\n",
    "import numpy as np\n",
    "\n",
    "clear_output()"
   ]
  },
  {
   "cell_type": "code",
   "execution_count": 25,
   "metadata": {},
   "outputs": [
    {
     "data": {
      "text/html": [
       "<div>\n",
       "<style scoped>\n",
       "    .dataframe tbody tr th:only-of-type {\n",
       "        vertical-align: middle;\n",
       "    }\n",
       "\n",
       "    .dataframe tbody tr th {\n",
       "        vertical-align: top;\n",
       "    }\n",
       "\n",
       "    .dataframe thead th {\n",
       "        text-align: right;\n",
       "    }\n",
       "</style>\n",
       "<table border=\"1\" class=\"dataframe\">\n",
       "  <thead>\n",
       "    <tr style=\"text-align: right;\">\n",
       "      <th></th>\n",
       "      <th>ano</th>\n",
       "      <th>sigla_uf</th>\n",
       "      <th>escola_publica</th>\n",
       "      <th>id_aluno</th>\n",
       "      <th>situacao_censo</th>\n",
       "      <th>disciplina</th>\n",
       "      <th>amostra</th>\n",
       "      <th>proficiencia</th>\n",
       "      <th>erro_padrao</th>\n",
       "      <th>proficiencia_saeb</th>\n",
       "      <th>...</th>\n",
       "      <th>escolaridade_pai_5</th>\n",
       "      <th>escolaridade_pai_6</th>\n",
       "      <th>forma_chegada_escola_0</th>\n",
       "      <th>forma_chegada_escola_1</th>\n",
       "      <th>forma_chegada_escola_2</th>\n",
       "      <th>forma_chegada_escola_3</th>\n",
       "      <th>forma_chegada_escola_4</th>\n",
       "      <th>forma_chegada_escola_5</th>\n",
       "      <th>forma_chegada_escola_6</th>\n",
       "      <th>forma_chegada_escola_7</th>\n",
       "    </tr>\n",
       "  </thead>\n",
       "  <tbody>\n",
       "    <tr>\n",
       "      <th>69</th>\n",
       "      <td>2021</td>\n",
       "      <td>PB</td>\n",
       "      <td>1</td>\n",
       "      <td>43575034</td>\n",
       "      <td>1</td>\n",
       "      <td>MT</td>\n",
       "      <td>0</td>\n",
       "      <td>-0.220310</td>\n",
       "      <td>0.350673</td>\n",
       "      <td>237.650742</td>\n",
       "      <td>...</td>\n",
       "      <td>0.0</td>\n",
       "      <td>0.0</td>\n",
       "      <td>0.0</td>\n",
       "      <td>0.0</td>\n",
       "      <td>0.0</td>\n",
       "      <td>1.0</td>\n",
       "      <td>0.0</td>\n",
       "      <td>0.0</td>\n",
       "      <td>0.0</td>\n",
       "      <td>0.0</td>\n",
       "    </tr>\n",
       "    <tr>\n",
       "      <th>70</th>\n",
       "      <td>2021</td>\n",
       "      <td>PB</td>\n",
       "      <td>1</td>\n",
       "      <td>43575034</td>\n",
       "      <td>1</td>\n",
       "      <td>LP</td>\n",
       "      <td>0</td>\n",
       "      <td>-1.053385</td>\n",
       "      <td>0.447439</td>\n",
       "      <td>191.950468</td>\n",
       "      <td>...</td>\n",
       "      <td>1.0</td>\n",
       "      <td>0.0</td>\n",
       "      <td>0.0</td>\n",
       "      <td>0.0</td>\n",
       "      <td>0.0</td>\n",
       "      <td>1.0</td>\n",
       "      <td>0.0</td>\n",
       "      <td>0.0</td>\n",
       "      <td>0.0</td>\n",
       "      <td>0.0</td>\n",
       "    </tr>\n",
       "    <tr>\n",
       "      <th>71</th>\n",
       "      <td>2021</td>\n",
       "      <td>PB</td>\n",
       "      <td>1</td>\n",
       "      <td>49370848</td>\n",
       "      <td>1</td>\n",
       "      <td>LP</td>\n",
       "      <td>0</td>\n",
       "      <td>-0.785038</td>\n",
       "      <td>0.389307</td>\n",
       "      <td>206.734607</td>\n",
       "      <td>...</td>\n",
       "      <td>0.0</td>\n",
       "      <td>0.0</td>\n",
       "      <td>0.0</td>\n",
       "      <td>0.0</td>\n",
       "      <td>0.0</td>\n",
       "      <td>1.0</td>\n",
       "      <td>0.0</td>\n",
       "      <td>0.0</td>\n",
       "      <td>0.0</td>\n",
       "      <td>0.0</td>\n",
       "    </tr>\n",
       "    <tr>\n",
       "      <th>126</th>\n",
       "      <td>2021</td>\n",
       "      <td>PB</td>\n",
       "      <td>1</td>\n",
       "      <td>43517493</td>\n",
       "      <td>1</td>\n",
       "      <td>MT</td>\n",
       "      <td>0</td>\n",
       "      <td>-0.357253</td>\n",
       "      <td>0.377772</td>\n",
       "      <td>229.996679</td>\n",
       "      <td>...</td>\n",
       "      <td>0.0</td>\n",
       "      <td>0.0</td>\n",
       "      <td>1.0</td>\n",
       "      <td>0.0</td>\n",
       "      <td>0.0</td>\n",
       "      <td>0.0</td>\n",
       "      <td>0.0</td>\n",
       "      <td>0.0</td>\n",
       "      <td>0.0</td>\n",
       "      <td>0.0</td>\n",
       "    </tr>\n",
       "    <tr>\n",
       "      <th>127</th>\n",
       "      <td>2021</td>\n",
       "      <td>PB</td>\n",
       "      <td>1</td>\n",
       "      <td>43509591</td>\n",
       "      <td>1</td>\n",
       "      <td>MT</td>\n",
       "      <td>0</td>\n",
       "      <td>1.000746</td>\n",
       "      <td>0.363297</td>\n",
       "      <td>305.898405</td>\n",
       "      <td>...</td>\n",
       "      <td>1.0</td>\n",
       "      <td>0.0</td>\n",
       "      <td>1.0</td>\n",
       "      <td>0.0</td>\n",
       "      <td>0.0</td>\n",
       "      <td>0.0</td>\n",
       "      <td>0.0</td>\n",
       "      <td>0.0</td>\n",
       "      <td>0.0</td>\n",
       "      <td>0.0</td>\n",
       "    </tr>\n",
       "  </tbody>\n",
       "</table>\n",
       "<p>5 rows × 52 columns</p>\n",
       "</div>"
      ],
      "text/plain": [
       "      ano sigla_uf  escola_publica  id_aluno  situacao_censo disciplina  \\\n",
       "69   2021       PB               1  43575034               1         MT   \n",
       "70   2021       PB               1  43575034               1         LP   \n",
       "71   2021       PB               1  49370848               1         LP   \n",
       "126  2021       PB               1  43517493               1         MT   \n",
       "127  2021       PB               1  43509591               1         MT   \n",
       "\n",
       "     amostra  proficiencia  erro_padrao  proficiencia_saeb  ...  \\\n",
       "69         0     -0.220310     0.350673         237.650742  ...   \n",
       "70         0     -1.053385     0.447439         191.950468  ...   \n",
       "71         0     -0.785038     0.389307         206.734607  ...   \n",
       "126        0     -0.357253     0.377772         229.996679  ...   \n",
       "127        0      1.000746     0.363297         305.898405  ...   \n",
       "\n",
       "     escolaridade_pai_5 escolaridade_pai_6 forma_chegada_escola_0  \\\n",
       "69                  0.0                0.0                    0.0   \n",
       "70                  1.0                0.0                    0.0   \n",
       "71                  0.0                0.0                    0.0   \n",
       "126                 0.0                0.0                    1.0   \n",
       "127                 1.0                0.0                    1.0   \n",
       "\n",
       "    forma_chegada_escola_1  forma_chegada_escola_2  forma_chegada_escola_3  \\\n",
       "69                     0.0                     0.0                     1.0   \n",
       "70                     0.0                     0.0                     1.0   \n",
       "71                     0.0                     0.0                     1.0   \n",
       "126                    0.0                     0.0                     0.0   \n",
       "127                    0.0                     0.0                     0.0   \n",
       "\n",
       "     forma_chegada_escola_4  forma_chegada_escola_5  forma_chegada_escola_6  \\\n",
       "69                      0.0                     0.0                     0.0   \n",
       "70                      0.0                     0.0                     0.0   \n",
       "71                      0.0                     0.0                     0.0   \n",
       "126                     0.0                     0.0                     0.0   \n",
       "127                     0.0                     0.0                     0.0   \n",
       "\n",
       "     forma_chegada_escola_7  \n",
       "69                      0.0  \n",
       "70                      0.0  \n",
       "71                      0.0  \n",
       "126                     0.0  \n",
       "127                     0.0  \n",
       "\n",
       "[5 rows x 52 columns]"
      ]
     },
     "execution_count": 25,
     "metadata": {},
     "output_type": "execute_result"
    }
   ],
   "source": [
    "df = pd.read_pickle('data/saeb_treated.pkl')\n",
    "df.head()"
   ]
  },
  {
   "cell_type": "code",
   "execution_count": 26,
   "metadata": {},
   "outputs": [],
   "source": [
    "# save unique columns to file\n",
    "with open('data/unique_columns.txt', 'w') as f:\n",
    "    for item in df.columns:\n",
    "        f.write(\"%s\\n\" % item)"
   ]
  },
  {
   "cell_type": "code",
   "execution_count": 27,
   "metadata": {},
   "outputs": [
    {
     "name": "stdout",
     "output_type": "stream",
     "text": [
      "(155841, 52)\n"
     ]
    }
   ],
   "source": [
    "print(df.shape)"
   ]
  },
  {
   "cell_type": "code",
   "execution_count": 28,
   "metadata": {},
   "outputs": [],
   "source": [
    "df = df[df['disciplina'] == 'MT']"
   ]
  },
  {
   "cell_type": "code",
   "execution_count": 31,
   "metadata": {},
   "outputs": [],
   "source": [
    "columns_oi = ['possui_eletrecidade', 'possui_escrivaninha', 'responsaveis_leem', 'responsaveis_incentivam_realizacao_licao_casa', 'responsaveis_incentivam_estudos', 'responsaveis_incentivam_comparecer_aulas', 'tempo_chegada_escola', 'transporte_escolar']\n",
    "columns_oi += [f'escolaridade_mae_{i}' for i in range(1, 6)]\n",
    "columns_oi += [f'escolaridade_pai_{i}' for i in range(1, 7)]\n",
    "columns_oi += [f'forma_chegada_escola_{i}' for i in range(1, 8)]\n",
    "\n",
    "\n",
    "# filter columns_oi to exclude ones with dtype different than object\n",
    "#columns_oi = [col for col in columns_oi if df[col].dtype == 'object']"
   ]
  },
  {
   "cell_type": "code",
   "execution_count": 32,
   "metadata": {},
   "outputs": [
    {
     "name": "stdout",
     "output_type": "stream",
     "text": [
      "possui_eletrecidade [1. 0.]\n",
      "possui_escrivaninha [0. 1.]\n",
      "responsaveis_leem [ 0.  1.  2. nan]\n",
      "responsaveis_incentivam_realizacao_licao_casa [2. 1. 0.]\n",
      "responsaveis_incentivam_estudos [2. 1. 0.]\n",
      "responsaveis_incentivam_comparecer_aulas [2. 0. 1.]\n",
      "tempo_chegada_escola [0. 1. 2.]\n",
      "transporte_escolar [ 0.  1. nan]\n",
      "escolaridade_mae_1 [ 0.  1. nan]\n",
      "escolaridade_mae_2 [ 0.  1. nan]\n",
      "escolaridade_mae_3 [ 0.  1. nan]\n",
      "escolaridade_mae_4 [ 0.  1. nan]\n",
      "escolaridade_mae_5 [ 0.  1. nan]\n",
      "escolaridade_pai_1 [ 0.  1. nan]\n",
      "escolaridade_pai_2 [ 0.  1. nan]\n",
      "escolaridade_pai_3 [ 0.  1. nan]\n",
      "escolaridade_pai_4 [ 0.  1. nan]\n",
      "escolaridade_pai_5 [ 0.  1. nan]\n",
      "escolaridade_pai_6 [ 0.  1. nan]\n",
      "forma_chegada_escola_1 [ 0.  1. nan]\n",
      "forma_chegada_escola_2 [ 0.  1. nan]\n",
      "forma_chegada_escola_3 [ 1.  0. nan]\n",
      "forma_chegada_escola_4 [ 0.  1. nan]\n",
      "forma_chegada_escola_5 [ 0.  1. nan]\n",
      "forma_chegada_escola_6 [ 0.  1. nan]\n",
      "forma_chegada_escola_7 [ 0.  1. nan]\n"
     ]
    }
   ],
   "source": [
    "for column in columns_oi:\n",
    "    print(column, df[column].unique())"
   ]
  },
  {
   "cell_type": "code",
   "execution_count": 33,
   "metadata": {},
   "outputs": [],
   "source": [
    "X = df[columns_oi]\n",
    "y = df['desempenho_aluno_cat']"
   ]
  },
  {
   "cell_type": "code",
   "execution_count": 39,
   "metadata": {},
   "outputs": [
    {
     "name": "stdout",
     "output_type": "stream",
     "text": [
      "(55557, 26) (55557,)\n"
     ]
    }
   ],
   "source": [
    "print(X.shape, y.shape)"
   ]
  },
  {
   "cell_type": "code",
   "execution_count": 45,
   "metadata": {},
   "outputs": [
    {
     "name": "stderr",
     "output_type": "stream",
     "text": [
      "/home/erlo/miniconda3/envs/aprendizagem/lib/python3.9/site-packages/keras/src/layers/core/dense.py:87: UserWarning: Do not pass an `input_shape`/`input_dim` argument to a layer. When using Sequential models, prefer using an `Input(shape)` object as the first layer in the model instead.\n",
      "  super().__init__(activity_regularizer=activity_regularizer, **kwargs)\n"
     ]
    },
    {
     "data": {
      "text/html": [
       "<pre style=\"white-space:pre;overflow-x:auto;line-height:normal;font-family:Menlo,'DejaVu Sans Mono',consolas,'Courier New',monospace\"><span style=\"font-weight: bold\">Model: \"sequential_7\"</span>\n",
       "</pre>\n"
      ],
      "text/plain": [
       "\u001b[1mModel: \"sequential_7\"\u001b[0m\n"
      ]
     },
     "metadata": {},
     "output_type": "display_data"
    },
    {
     "data": {
      "text/html": [
       "<pre style=\"white-space:pre;overflow-x:auto;line-height:normal;font-family:Menlo,'DejaVu Sans Mono',consolas,'Courier New',monospace\">┏━━━━━━━━━━━━━━━━━━━━━━━━━━━━━━━━━┳━━━━━━━━━━━━━━━━━━━━━━━━┳━━━━━━━━━━━━━━━┓\n",
       "┃<span style=\"font-weight: bold\"> Layer (type)                    </span>┃<span style=\"font-weight: bold\"> Output Shape           </span>┃<span style=\"font-weight: bold\">       Param # </span>┃\n",
       "┡━━━━━━━━━━━━━━━━━━━━━━━━━━━━━━━━━╇━━━━━━━━━━━━━━━━━━━━━━━━╇━━━━━━━━━━━━━━━┩\n",
       "│ dense_20 (<span style=\"color: #0087ff; text-decoration-color: #0087ff\">Dense</span>)                │ (<span style=\"color: #00d7ff; text-decoration-color: #00d7ff\">None</span>, <span style=\"color: #00af00; text-decoration-color: #00af00\">12</span>)             │           <span style=\"color: #00af00; text-decoration-color: #00af00\">324</span> │\n",
       "├─────────────────────────────────┼────────────────────────┼───────────────┤\n",
       "│ dense_21 (<span style=\"color: #0087ff; text-decoration-color: #0087ff\">Dense</span>)                │ (<span style=\"color: #00d7ff; text-decoration-color: #00d7ff\">None</span>, <span style=\"color: #00af00; text-decoration-color: #00af00\">16</span>)             │           <span style=\"color: #00af00; text-decoration-color: #00af00\">208</span> │\n",
       "├─────────────────────────────────┼────────────────────────┼───────────────┤\n",
       "│ dense_22 (<span style=\"color: #0087ff; text-decoration-color: #0087ff\">Dense</span>)                │ (<span style=\"color: #00d7ff; text-decoration-color: #00d7ff\">None</span>, <span style=\"color: #00af00; text-decoration-color: #00af00\">4</span>)              │            <span style=\"color: #00af00; text-decoration-color: #00af00\">68</span> │\n",
       "└─────────────────────────────────┴────────────────────────┴───────────────┘\n",
       "</pre>\n"
      ],
      "text/plain": [
       "┏━━━━━━━━━━━━━━━━━━━━━━━━━━━━━━━━━┳━━━━━━━━━━━━━━━━━━━━━━━━┳━━━━━━━━━━━━━━━┓\n",
       "┃\u001b[1m \u001b[0m\u001b[1mLayer (type)                   \u001b[0m\u001b[1m \u001b[0m┃\u001b[1m \u001b[0m\u001b[1mOutput Shape          \u001b[0m\u001b[1m \u001b[0m┃\u001b[1m \u001b[0m\u001b[1m      Param #\u001b[0m\u001b[1m \u001b[0m┃\n",
       "┡━━━━━━━━━━━━━━━━━━━━━━━━━━━━━━━━━╇━━━━━━━━━━━━━━━━━━━━━━━━╇━━━━━━━━━━━━━━━┩\n",
       "│ dense_20 (\u001b[38;5;33mDense\u001b[0m)                │ (\u001b[38;5;45mNone\u001b[0m, \u001b[38;5;34m12\u001b[0m)             │           \u001b[38;5;34m324\u001b[0m │\n",
       "├─────────────────────────────────┼────────────────────────┼───────────────┤\n",
       "│ dense_21 (\u001b[38;5;33mDense\u001b[0m)                │ (\u001b[38;5;45mNone\u001b[0m, \u001b[38;5;34m16\u001b[0m)             │           \u001b[38;5;34m208\u001b[0m │\n",
       "├─────────────────────────────────┼────────────────────────┼───────────────┤\n",
       "│ dense_22 (\u001b[38;5;33mDense\u001b[0m)                │ (\u001b[38;5;45mNone\u001b[0m, \u001b[38;5;34m4\u001b[0m)              │            \u001b[38;5;34m68\u001b[0m │\n",
       "└─────────────────────────────────┴────────────────────────┴───────────────┘\n"
      ]
     },
     "metadata": {},
     "output_type": "display_data"
    },
    {
     "data": {
      "text/html": [
       "<pre style=\"white-space:pre;overflow-x:auto;line-height:normal;font-family:Menlo,'DejaVu Sans Mono',consolas,'Courier New',monospace\"><span style=\"font-weight: bold\"> Total params: </span><span style=\"color: #00af00; text-decoration-color: #00af00\">600</span> (2.34 KB)\n",
       "</pre>\n"
      ],
      "text/plain": [
       "\u001b[1m Total params: \u001b[0m\u001b[38;5;34m600\u001b[0m (2.34 KB)\n"
      ]
     },
     "metadata": {},
     "output_type": "display_data"
    },
    {
     "data": {
      "text/html": [
       "<pre style=\"white-space:pre;overflow-x:auto;line-height:normal;font-family:Menlo,'DejaVu Sans Mono',consolas,'Courier New',monospace\"><span style=\"font-weight: bold\"> Trainable params: </span><span style=\"color: #00af00; text-decoration-color: #00af00\">600</span> (2.34 KB)\n",
       "</pre>\n"
      ],
      "text/plain": [
       "\u001b[1m Trainable params: \u001b[0m\u001b[38;5;34m600\u001b[0m (2.34 KB)\n"
      ]
     },
     "metadata": {},
     "output_type": "display_data"
    },
    {
     "data": {
      "text/html": [
       "<pre style=\"white-space:pre;overflow-x:auto;line-height:normal;font-family:Menlo,'DejaVu Sans Mono',consolas,'Courier New',monospace\"><span style=\"font-weight: bold\"> Non-trainable params: </span><span style=\"color: #00af00; text-decoration-color: #00af00\">0</span> (0.00 B)\n",
       "</pre>\n"
      ],
      "text/plain": [
       "\u001b[1m Non-trainable params: \u001b[0m\u001b[38;5;34m0\u001b[0m (0.00 B)\n"
      ]
     },
     "metadata": {},
     "output_type": "display_data"
    }
   ],
   "source": [
    "X_train, X_test, y_train, y_test = train_test_split(X, y, test_size=0.2, random_state=42)\n",
    "\n",
    "X_train, X_val, y_train, y_val = train_test_split(X_train, y_train, test_size=0.2, random_state=42)\n",
    "\n",
    "model = Sequential()\n",
    "model.add(Dense(12, input_dim=X.shape[1], activation='relu'))\n",
    "model.add(Dense(16, activation='relu'))\n",
    "\n",
    "# desempenho_aluno_cat has 4 classes\n",
    "model.add(Dense(4, activation='softmax'))\n",
    "\n",
    "es = EarlyStopping(monitor='val_loss', mode='min', verbose=1, patience=20)\n",
    "\n",
    "model.summary()\n",
    "\n",
    "# compile model\n",
    "model.compile(optimizer='adam', loss='sparse_categorical_crossentropy', metrics=['accuracy'])"
   ]
  },
  {
   "cell_type": "code",
   "execution_count": 46,
   "metadata": {},
   "outputs": [
    {
     "name": "stdout",
     "output_type": "stream",
     "text": [
      "Epoch 1/100\n",
      "\u001b[1m356/356\u001b[0m \u001b[32m━━━━━━━━━━━━━━━━━━━━\u001b[0m\u001b[37m\u001b[0m \u001b[1m1s\u001b[0m 1ms/step - accuracy: 0.5500 - loss: 1.2711 - val_accuracy: 0.5624 - val_loss: 1.0147\n",
      "Epoch 2/100\n",
      "\u001b[1m356/356\u001b[0m \u001b[32m━━━━━━━━━━━━━━━━━━━━\u001b[0m\u001b[37m\u001b[0m \u001b[1m0s\u001b[0m 921us/step - accuracy: 0.5576 - loss: 1.0121 - val_accuracy: 0.5624 - val_loss: 0.9950\n",
      "Epoch 3/100\n",
      "\u001b[1m356/356\u001b[0m \u001b[32m━━━━━━━━━━━━━━━━━━━━\u001b[0m\u001b[37m\u001b[0m \u001b[1m0s\u001b[0m 861us/step - accuracy: 0.5608 - loss: 1.0006 - val_accuracy: 0.5624 - val_loss: 0.9932\n",
      "Epoch 4/100\n",
      "\u001b[1m356/356\u001b[0m \u001b[32m━━━━━━━━━━━━━━━━━━━━\u001b[0m\u001b[37m\u001b[0m \u001b[1m0s\u001b[0m 992us/step - accuracy: 0.5641 - loss: 0.9966 - val_accuracy: 0.5624 - val_loss: 0.9929\n",
      "Epoch 5/100\n",
      "\u001b[1m356/356\u001b[0m \u001b[32m━━━━━━━━━━━━━━━━━━━━\u001b[0m\u001b[37m\u001b[0m \u001b[1m0s\u001b[0m 940us/step - accuracy: 0.5602 - loss: 1.0013 - val_accuracy: 0.5624 - val_loss: 0.9931\n",
      "Epoch 6/100\n",
      "\u001b[1m356/356\u001b[0m \u001b[32m━━━━━━━━━━━━━━━━━━━━\u001b[0m\u001b[37m\u001b[0m \u001b[1m0s\u001b[0m 917us/step - accuracy: 0.5607 - loss: 1.0001 - val_accuracy: 0.5624 - val_loss: 0.9932\n",
      "Epoch 7/100\n",
      "\u001b[1m356/356\u001b[0m \u001b[32m━━━━━━━━━━━━━━━━━━━━\u001b[0m\u001b[37m\u001b[0m \u001b[1m0s\u001b[0m 843us/step - accuracy: 0.5627 - loss: 0.9939 - val_accuracy: 0.5624 - val_loss: 0.9933\n",
      "Epoch 8/100\n",
      "\u001b[1m356/356\u001b[0m \u001b[32m━━━━━━━━━━━━━━━━━━━━\u001b[0m\u001b[37m\u001b[0m \u001b[1m0s\u001b[0m 878us/step - accuracy: 0.5622 - loss: 0.9942 - val_accuracy: 0.5624 - val_loss: 0.9932\n",
      "Epoch 9/100\n",
      "\u001b[1m356/356\u001b[0m \u001b[32m━━━━━━━━━━━━━━━━━━━━\u001b[0m\u001b[37m\u001b[0m \u001b[1m0s\u001b[0m 822us/step - accuracy: 0.5591 - loss: 0.9974 - val_accuracy: 0.5624 - val_loss: 0.9931\n",
      "Epoch 10/100\n",
      "\u001b[1m356/356\u001b[0m \u001b[32m━━━━━━━━━━━━━━━━━━━━\u001b[0m\u001b[37m\u001b[0m \u001b[1m0s\u001b[0m 1ms/step - accuracy: 0.5600 - loss: 1.0023 - val_accuracy: 0.5624 - val_loss: 0.9930\n",
      "Epoch 11/100\n",
      "\u001b[1m356/356\u001b[0m \u001b[32m━━━━━━━━━━━━━━━━━━━━\u001b[0m\u001b[37m\u001b[0m \u001b[1m0s\u001b[0m 1ms/step - accuracy: 0.5674 - loss: 0.9933 - val_accuracy: 0.5624 - val_loss: 0.9931\n",
      "Epoch 12/100\n",
      "\u001b[1m356/356\u001b[0m \u001b[32m━━━━━━━━━━━━━━━━━━━━\u001b[0m\u001b[37m\u001b[0m \u001b[1m0s\u001b[0m 1ms/step - accuracy: 0.5616 - loss: 0.9960 - val_accuracy: 0.5624 - val_loss: 0.9933\n",
      "Epoch 13/100\n",
      "\u001b[1m356/356\u001b[0m \u001b[32m━━━━━━━━━━━━━━━━━━━━\u001b[0m\u001b[37m\u001b[0m \u001b[1m0s\u001b[0m 1ms/step - accuracy: 0.5629 - loss: 0.9999 - val_accuracy: 0.5624 - val_loss: 0.9930\n",
      "Epoch 14/100\n",
      "\u001b[1m356/356\u001b[0m \u001b[32m━━━━━━━━━━━━━━━━━━━━\u001b[0m\u001b[37m\u001b[0m \u001b[1m0s\u001b[0m 1ms/step - accuracy: 0.5653 - loss: 0.9936 - val_accuracy: 0.5624 - val_loss: 0.9934\n",
      "Epoch 15/100\n",
      "\u001b[1m356/356\u001b[0m \u001b[32m━━━━━━━━━━━━━━━━━━━━\u001b[0m\u001b[37m\u001b[0m \u001b[1m0s\u001b[0m 1ms/step - accuracy: 0.5592 - loss: 1.0043 - val_accuracy: 0.5624 - val_loss: 0.9930\n",
      "Epoch 16/100\n",
      "\u001b[1m356/356\u001b[0m \u001b[32m━━━━━━━━━━━━━━━━━━━━\u001b[0m\u001b[37m\u001b[0m \u001b[1m0s\u001b[0m 956us/step - accuracy: 0.5597 - loss: 0.9980 - val_accuracy: 0.5624 - val_loss: 0.9932\n",
      "Epoch 17/100\n",
      "\u001b[1m356/356\u001b[0m \u001b[32m━━━━━━━━━━━━━━━━━━━━\u001b[0m\u001b[37m\u001b[0m \u001b[1m0s\u001b[0m 1ms/step - accuracy: 0.5601 - loss: 1.0002 - val_accuracy: 0.5624 - val_loss: 0.9929\n",
      "Epoch 18/100\n",
      "\u001b[1m356/356\u001b[0m \u001b[32m━━━━━━━━━━━━━━━━━━━━\u001b[0m\u001b[37m\u001b[0m \u001b[1m0s\u001b[0m 1ms/step - accuracy: 0.5607 - loss: 0.9955 - val_accuracy: 0.5624 - val_loss: 0.9931\n",
      "Epoch 19/100\n",
      "\u001b[1m356/356\u001b[0m \u001b[32m━━━━━━━━━━━━━━━━━━━━\u001b[0m\u001b[37m\u001b[0m \u001b[1m0s\u001b[0m 1ms/step - accuracy: 0.5635 - loss: 0.9934 - val_accuracy: 0.5624 - val_loss: 0.9934\n",
      "Epoch 20/100\n",
      "\u001b[1m356/356\u001b[0m \u001b[32m━━━━━━━━━━━━━━━━━━━━\u001b[0m\u001b[37m\u001b[0m \u001b[1m0s\u001b[0m 1ms/step - accuracy: 0.5657 - loss: 0.9913 - val_accuracy: 0.5624 - val_loss: 0.9930\n",
      "Epoch 21/100\n",
      "\u001b[1m356/356\u001b[0m \u001b[32m━━━━━━━━━━━━━━━━━━━━\u001b[0m\u001b[37m\u001b[0m \u001b[1m0s\u001b[0m 1ms/step - accuracy: 0.5613 - loss: 0.9983 - val_accuracy: 0.5624 - val_loss: 0.9934\n",
      "Epoch 22/100\n",
      "\u001b[1m356/356\u001b[0m \u001b[32m━━━━━━━━━━━━━━━━━━━━\u001b[0m\u001b[37m\u001b[0m \u001b[1m0s\u001b[0m 1ms/step - accuracy: 0.5632 - loss: 0.9985 - val_accuracy: 0.5624 - val_loss: 0.9931\n",
      "Epoch 23/100\n",
      "\u001b[1m356/356\u001b[0m \u001b[32m━━━━━━━━━━━━━━━━━━━━\u001b[0m\u001b[37m\u001b[0m \u001b[1m0s\u001b[0m 845us/step - accuracy: 0.5631 - loss: 0.9978 - val_accuracy: 0.5624 - val_loss: 0.9931\n",
      "Epoch 24/100\n",
      "\u001b[1m356/356\u001b[0m \u001b[32m━━━━━━━━━━━━━━━━━━━━\u001b[0m\u001b[37m\u001b[0m \u001b[1m0s\u001b[0m 847us/step - accuracy: 0.5605 - loss: 0.9994 - val_accuracy: 0.5624 - val_loss: 0.9931\n",
      "Epoch 24: early stopping\n"
     ]
    }
   ],
   "source": [
    "history = model.fit(X_train, y_train, epochs=100, batch_size=100, validation_data=(X_val, y_val), callbacks=[es])"
   ]
  },
  {
   "cell_type": "code",
   "execution_count": 47,
   "metadata": {},
   "outputs": [
    {
     "data": {
      "image/png": "[encoded data removed]",
      "text/plain": [
       "<Figure size 640x480 with 1 Axes>"
      ]
     },
     "metadata": {},
     "output_type": "display_data"
    },
    {
     "name": "stdout",
     "output_type": "stream",
     "text": [
      "\u001b[1m1112/1112\u001b[0m \u001b[32m━━━━━━━━━━━━━━━━━━━━\u001b[0m\u001b[37m\u001b[0m \u001b[1m1s\u001b[0m 681us/step\n",
      "\u001b[1m278/278\u001b[0m \u001b[32m━━━━━━━━━━━━━━━━━━━━\u001b[0m\u001b[37m\u001b[0m \u001b[1m0s\u001b[0m 668us/step\n",
      "\n",
      "--> Acuracia (treino): 0.5613\n",
      "--> Acuracia (validacao): 0.5624\n"
     ]
    }
   ],
   "source": [
    "plt.plot(history.history['loss'])\n",
    "plt.plot(history.history['val_loss'])\n",
    "plt.title('Metrica de erro')\n",
    "plt.ylabel('Erro')\n",
    "plt.xlabel('Epoca')\n",
    "plt.legend(['Treinamento', 'Validacao'])\n",
    "plt.show()\n",
    "\n",
    "# Convert the predictions to class indices\n",
    "pred_train = np.argmax(model.predict(X_train), axis=1)\n",
    "pred_val = np.argmax(model.predict(X_val), axis=1)\n",
    "\n",
    "# Ensure that the true labels are in the correct format (which is already integer-encoded)\n",
    "y_train = y_train.astype(int)\n",
    "y_val = y_val.astype(int)\n",
    "\n",
    "# Calculate accuracy\n",
    "acc_train = accuracy_score(y_train, pred_train)\n",
    "acc_val = accuracy_score(y_val, pred_val)\n",
    "\n",
    "print(f'\\n--> Acuracia (treino): {acc_train:.4f}')\n",
    "print(f'--> Acuracia (validacao): {acc_val:.4f}')"
   ]
  },
  {
   "cell_type": "code",
   "execution_count": 52,
   "metadata": {},
   "outputs": [],
   "source": [
    "# another strategy: splitting the target from range(0, 4) to 0, 1\n",
    "# by 0, 1: 0 and 1, 2: 1\n",
    "\n",
    "y_train = y_train.apply(lambda x: 0 if x == 0 else 1)\n",
    "y_val = y_val.apply(lambda x: 0 if x == 0 else 1)\n",
    "\n",
    "model = Sequential()\n",
    "model.add(Dense(12, input_dim=X.shape[1], activation='relu'))\n",
    "model.add(Dense(8, activation='relu'))\n",
    "model.add(Dense(1, activation='sigmoid'))\n",
    "\n",
    "es = EarlyStopping(monitor='val_loss', mode='min', verbose=1, patience=20)\n",
    "\n",
    "# compile model\n",
    "model.compile(optimizer='adam', loss='binary_crossentropy', metrics=['accuracy'])"
   ]
  },
  {
   "cell_type": "code",
   "execution_count": 53,
   "metadata": {},
   "outputs": [
    {
     "name": "stdout",
     "output_type": "stream",
     "text": [
      "Epoch 1/100\n",
      "\u001b[1m356/356\u001b[0m \u001b[32m━━━━━━━━━━━━━━━━━━━━\u001b[0m\u001b[37m\u001b[0m \u001b[1m1s\u001b[0m 1ms/step - accuracy: 0.6917 - loss: 0.6699 - val_accuracy: 0.6911 - val_loss: 0.6247\n",
      "Epoch 2/100\n",
      "\u001b[1m356/356\u001b[0m \u001b[32m━━━━━━━━━━━━━━━━━━━━\u001b[0m\u001b[37m\u001b[0m \u001b[1m0s\u001b[0m 900us/step - accuracy: 0.6944 - loss: 0.6191 - val_accuracy: 0.6911 - val_loss: 0.6182\n",
      "Epoch 3/100\n",
      "\u001b[1m356/356\u001b[0m \u001b[32m━━━━━━━━━━━━━━━━━━━━\u001b[0m\u001b[37m\u001b[0m \u001b[1m0s\u001b[0m 880us/step - accuracy: 0.6965 - loss: 0.6139 - val_accuracy: 0.6911 - val_loss: 0.6183\n",
      "Epoch 4/100\n",
      "\u001b[1m356/356\u001b[0m \u001b[32m━━━━━━━━━━━━━━━━━━━━\u001b[0m\u001b[37m\u001b[0m \u001b[1m0s\u001b[0m 790us/step - accuracy: 0.6928 - loss: 0.6169 - val_accuracy: 0.6911 - val_loss: 0.6183\n",
      "Epoch 5/100\n",
      "\u001b[1m356/356\u001b[0m \u001b[32m━━━━━━━━━━━━━━━━━━━━\u001b[0m\u001b[37m\u001b[0m \u001b[1m0s\u001b[0m 1ms/step - accuracy: 0.7000 - loss: 0.6109 - val_accuracy: 0.6911 - val_loss: 0.6182\n",
      "Epoch 6/100\n",
      "\u001b[1m356/356\u001b[0m \u001b[32m━━━━━━━━━━━━━━━━━━━━\u001b[0m\u001b[37m\u001b[0m \u001b[1m0s\u001b[0m 1ms/step - accuracy: 0.6946 - loss: 0.6154 - val_accuracy: 0.6911 - val_loss: 0.6182\n",
      "Epoch 7/100\n",
      "\u001b[1m356/356\u001b[0m \u001b[32m━━━━━━━━━━━━━━━━━━━━\u001b[0m\u001b[37m\u001b[0m \u001b[1m0s\u001b[0m 987us/step - accuracy: 0.6938 - loss: 0.6160 - val_accuracy: 0.6911 - val_loss: 0.6184\n",
      "Epoch 8/100\n",
      "\u001b[1m356/356\u001b[0m \u001b[32m━━━━━━━━━━━━━━━━━━━━\u001b[0m\u001b[37m\u001b[0m \u001b[1m0s\u001b[0m 1ms/step - accuracy: 0.6909 - loss: 0.6185 - val_accuracy: 0.6911 - val_loss: 0.6182\n",
      "Epoch 9/100\n",
      "\u001b[1m356/356\u001b[0m \u001b[32m━━━━━━━━━━━━━━━━━━━━\u001b[0m\u001b[37m\u001b[0m \u001b[1m0s\u001b[0m 1ms/step - accuracy: 0.6958 - loss: 0.6144 - val_accuracy: 0.6911 - val_loss: 0.6183\n",
      "Epoch 10/100\n",
      "\u001b[1m356/356\u001b[0m \u001b[32m━━━━━━━━━━━━━━━━━━━━\u001b[0m\u001b[37m\u001b[0m \u001b[1m0s\u001b[0m 982us/step - accuracy: 0.6929 - loss: 0.6169 - val_accuracy: 0.6911 - val_loss: 0.6182\n",
      "Epoch 11/100\n",
      "\u001b[1m356/356\u001b[0m \u001b[32m━━━━━━━━━━━━━━━━━━━━\u001b[0m\u001b[37m\u001b[0m \u001b[1m0s\u001b[0m 997us/step - accuracy: 0.6945 - loss: 0.6155 - val_accuracy: 0.6911 - val_loss: 0.6183\n",
      "Epoch 12/100\n",
      "\u001b[1m356/356\u001b[0m \u001b[32m━━━━━━━━━━━━━━━━━━━━\u001b[0m\u001b[37m\u001b[0m \u001b[1m0s\u001b[0m 1ms/step - accuracy: 0.6973 - loss: 0.6132 - val_accuracy: 0.6911 - val_loss: 0.6182\n",
      "Epoch 13/100\n",
      "\u001b[1m356/356\u001b[0m \u001b[32m━━━━━━━━━━━━━━━━━━━━\u001b[0m\u001b[37m\u001b[0m \u001b[1m0s\u001b[0m 1ms/step - accuracy: 0.6963 - loss: 0.6140 - val_accuracy: 0.6911 - val_loss: 0.6183\n",
      "Epoch 14/100\n",
      "\u001b[1m356/356\u001b[0m \u001b[32m━━━━━━━━━━━━━━━━━━━━\u001b[0m\u001b[37m\u001b[0m \u001b[1m0s\u001b[0m 1ms/step - accuracy: 0.6936 - loss: 0.6162 - val_accuracy: 0.6911 - val_loss: 0.6182\n",
      "Epoch 15/100\n",
      "\u001b[1m356/356\u001b[0m \u001b[32m━━━━━━━━━━━━━━━━━━━━\u001b[0m\u001b[37m\u001b[0m \u001b[1m0s\u001b[0m 927us/step - accuracy: 0.6924 - loss: 0.6172 - val_accuracy: 0.6911 - val_loss: 0.6183\n",
      "Epoch 16/100\n",
      "\u001b[1m356/356\u001b[0m \u001b[32m━━━━━━━━━━━━━━━━━━━━\u001b[0m\u001b[37m\u001b[0m \u001b[1m0s\u001b[0m 1ms/step - accuracy: 0.6975 - loss: 0.6130 - val_accuracy: 0.6911 - val_loss: 0.6182\n",
      "Epoch 17/100\n",
      "\u001b[1m356/356\u001b[0m \u001b[32m━━━━━━━━━━━━━━━━━━━━\u001b[0m\u001b[37m\u001b[0m \u001b[1m0s\u001b[0m 1ms/step - accuracy: 0.6953 - loss: 0.6148 - val_accuracy: 0.6911 - val_loss: 0.6182\n",
      "Epoch 18/100\n",
      "\u001b[1m356/356\u001b[0m \u001b[32m━━━━━━━━━━━━━━━━━━━━\u001b[0m\u001b[37m\u001b[0m \u001b[1m0s\u001b[0m 1ms/step - accuracy: 0.6957 - loss: 0.6145 - val_accuracy: 0.6911 - val_loss: 0.6182\n",
      "Epoch 19/100\n",
      "\u001b[1m356/356\u001b[0m \u001b[32m━━━━━━━━━━━━━━━━━━━━\u001b[0m\u001b[37m\u001b[0m \u001b[1m0s\u001b[0m 813us/step - accuracy: 0.6897 - loss: 0.6194 - val_accuracy: 0.6911 - val_loss: 0.6184\n",
      "Epoch 20/100\n",
      "\u001b[1m356/356\u001b[0m \u001b[32m━━━━━━━━━━━━━━━━━━━━\u001b[0m\u001b[37m\u001b[0m \u001b[1m0s\u001b[0m 902us/step - accuracy: 0.6972 - loss: 0.6132 - val_accuracy: 0.6911 - val_loss: 0.6183\n",
      "Epoch 21/100\n",
      "\u001b[1m356/356\u001b[0m \u001b[32m━━━━━━━━━━━━━━━━━━━━\u001b[0m\u001b[37m\u001b[0m \u001b[1m0s\u001b[0m 933us/step - accuracy: 0.6940 - loss: 0.6159 - val_accuracy: 0.6911 - val_loss: 0.6182\n",
      "Epoch 22/100\n",
      "\u001b[1m356/356\u001b[0m \u001b[32m━━━━━━━━━━━━━━━━━━━━\u001b[0m\u001b[37m\u001b[0m \u001b[1m0s\u001b[0m 1ms/step - accuracy: 0.6940 - loss: 0.6159 - val_accuracy: 0.6911 - val_loss: 0.6183\n",
      "Epoch 23/100\n",
      "\u001b[1m356/356\u001b[0m \u001b[32m━━━━━━━━━━━━━━━━━━━━\u001b[0m\u001b[37m\u001b[0m \u001b[1m0s\u001b[0m 791us/step - accuracy: 0.6991 - loss: 0.6117 - val_accuracy: 0.6911 - val_loss: 0.6183\n",
      "Epoch 24/100\n",
      "\u001b[1m356/356\u001b[0m \u001b[32m━━━━━━━━━━━━━━━━━━━━\u001b[0m\u001b[37m\u001b[0m \u001b[1m0s\u001b[0m 1ms/step - accuracy: 0.6925 - loss: 0.6171 - val_accuracy: 0.6911 - val_loss: 0.6183\n",
      "Epoch 25/100\n",
      "\u001b[1m356/356\u001b[0m \u001b[32m━━━━━━━━━━━━━━━━━━━━\u001b[0m\u001b[37m\u001b[0m \u001b[1m0s\u001b[0m 894us/step - accuracy: 0.6955 - loss: 0.6146 - val_accuracy: 0.6911 - val_loss: 0.6182\n",
      "Epoch 25: early stopping\n"
     ]
    }
   ],
   "source": [
    "history = model.fit(X_train, y_train, epochs=100, batch_size=100, validation_data=(X_val, y_val), callbacks=[es])"
   ]
  },
  {
   "cell_type": "code",
   "execution_count": 55,
   "metadata": {},
   "outputs": [
    {
     "data": {
      "image/png": "[encoded data removed]",
      "text/plain": [
       "<Figure size 640x480 with 1 Axes>"
      ]
     },
     "metadata": {},
     "output_type": "display_data"
    },
    {
     "name": "stdout",
     "output_type": "stream",
     "text": [
      "\u001b[1m1112/1112\u001b[0m \u001b[32m━━━━━━━━━━━━━━━━━━━━\u001b[0m\u001b[37m\u001b[0m \u001b[1m1s\u001b[0m 570us/step\n",
      "\u001b[1m278/278\u001b[0m \u001b[32m━━━━━━━━━━━━━━━━━━━━\u001b[0m\u001b[37m\u001b[0m \u001b[1m0s\u001b[0m 505us/step\n",
      "\n",
      "--> Acuracia (treino): 0.6943\n",
      "--> Acuracia (validacao): 0.6911\n"
     ]
    }
   ],
   "source": [
    "plt.plot(history.history['loss'])\n",
    "plt.plot(history.history['val_loss'])\n",
    "plt.title('Metrica de erro')\n",
    "plt.ylabel('Erro')\n",
    "plt.xlabel('Epoca')\n",
    "plt.legend(['Treinamento', 'Validacao'])\n",
    "plt.show()\n",
    "\n",
    "# Convert the predictions to class indices\n",
    "pred_train = np.round(model.predict(X_train))\n",
    "pred_val = np.round(model.predict(X_val))\n",
    "\n",
    "# Ensure that the true labels are in the correct format (which is already integer-encoded)\n",
    "y_train = y_train.astype(int)\n",
    "y_val = y_val.astype(int)\n",
    "\n",
    "# Calculate accuracy\n",
    "acc_train = accuracy_score(y_train, pred_train)\n",
    "acc_val = accuracy_score(y_val, pred_val)\n",
    "\n",
    "print(f'\\n--> Acuracia (treino): {acc_train:.4f}')\n",
    "print(f'--> Acuracia (validacao): {acc_val:.4f}')"
   ]
  }
 ],
 "metadata": {
  "kernelspec": {
   "display_name": "aprendizagem",
   "language": "python",
   "name": "python3"
  },
  "language_info": {
   "codemirror_mode": {
    "name": "ipython",
    "version": 3
   },
   "file_extension": ".py",
   "mimetype": "text/x-python",
   "name": "python",
   "nbconvert_exporter": "python",
   "pygments_lexer": "ipython3",
   "version": "3.9.20"
  }
 },
 "nbformat": 4,
 "nbformat_minor": 2
}
