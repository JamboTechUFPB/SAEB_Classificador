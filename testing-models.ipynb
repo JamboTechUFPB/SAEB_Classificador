{
 "cells": [
  {
   "cell_type": "code",
   "execution_count": 46,
   "metadata": {},
   "outputs": [],
   "source": [
    "from sklearn.preprocessing import OneHotEncoder\n",
    "from sklearn.model_selection import train_test_split\n",
    "from sklearn.preprocessing import OneHotEncoder\n",
    "from keras.models import Sequential\n",
    "from keras.layers import Dropout\n",
    "from keras.layers import Dense\n",
    "from keras import optimizers\n",
    "from keras import regularizers\n",
    "from keras.callbacks import EarlyStopping\n",
    "from sklearn.metrics import accuracy_score\n",
    "from IPython.display import clear_output\n",
    "import matplotlib.pyplot as plt\n",
    "import pandas as pd\n",
    "import numpy as np\n",
    "\n",
    "clear_output()"
   ]
  },
  {
   "cell_type": "code",
   "execution_count": 47,
   "metadata": {},
   "outputs": [
    {
     "data": {
      "text/html": [
       "<div>\n",
       "<style scoped>\n",
       "    .dataframe tbody tr th:only-of-type {\n",
       "        vertical-align: middle;\n",
       "    }\n",
       "\n",
       "    .dataframe tbody tr th {\n",
       "        vertical-align: top;\n",
       "    }\n",
       "\n",
       "    .dataframe thead th {\n",
       "        text-align: right;\n",
       "    }\n",
       "</style>\n",
       "<table border=\"1\" class=\"dataframe\">\n",
       "  <thead>\n",
       "    <tr style=\"text-align: right;\">\n",
       "      <th></th>\n",
       "      <th>ano</th>\n",
       "      <th>sigla_uf</th>\n",
       "      <th>escola_publica</th>\n",
       "      <th>id_aluno</th>\n",
       "      <th>situacao_censo</th>\n",
       "      <th>disciplina</th>\n",
       "      <th>proficiencia</th>\n",
       "      <th>erro_padrao</th>\n",
       "      <th>proficiencia_saeb</th>\n",
       "      <th>erro_padrao_saeb</th>\n",
       "      <th>...</th>\n",
       "      <th>correcao_licao_casa_0</th>\n",
       "      <th>correcao_licao_casa_1</th>\n",
       "      <th>correcao_licao_casa_2</th>\n",
       "      <th>correcao_licao_casa_3</th>\n",
       "      <th>correcao_licao_casa_4</th>\n",
       "      <th>utiliza_biblioteca_escola_0</th>\n",
       "      <th>utiliza_biblioteca_escola_1</th>\n",
       "      <th>utiliza_biblioteca_escola_2</th>\n",
       "      <th>utiliza_biblioteca_escola_3</th>\n",
       "      <th>utiliza_biblioteca_escola_4</th>\n",
       "    </tr>\n",
       "  </thead>\n",
       "  <tbody>\n",
       "    <tr>\n",
       "      <th>274</th>\n",
       "      <td>2015</td>\n",
       "      <td>PB</td>\n",
       "      <td>1</td>\n",
       "      <td>17518688</td>\n",
       "      <td>0</td>\n",
       "      <td>MT</td>\n",
       "      <td>-0.472096</td>\n",
       "      <td>0.538400</td>\n",
       "      <td>223.577837</td>\n",
       "      <td>30.092429</td>\n",
       "      <td>...</td>\n",
       "      <td>1.0</td>\n",
       "      <td>0.0</td>\n",
       "      <td>0.0</td>\n",
       "      <td>0.0</td>\n",
       "      <td>0.0</td>\n",
       "      <td>0.0</td>\n",
       "      <td>0.0</td>\n",
       "      <td>1.0</td>\n",
       "      <td>0.0</td>\n",
       "      <td>0.0</td>\n",
       "    </tr>\n",
       "    <tr>\n",
       "      <th>348</th>\n",
       "      <td>2015</td>\n",
       "      <td>PB</td>\n",
       "      <td>1</td>\n",
       "      <td>17518163</td>\n",
       "      <td>0</td>\n",
       "      <td>MT</td>\n",
       "      <td>-0.809452</td>\n",
       "      <td>0.580177</td>\n",
       "      <td>204.722224</td>\n",
       "      <td>32.427443</td>\n",
       "      <td>...</td>\n",
       "      <td>1.0</td>\n",
       "      <td>0.0</td>\n",
       "      <td>0.0</td>\n",
       "      <td>0.0</td>\n",
       "      <td>0.0</td>\n",
       "      <td>0.0</td>\n",
       "      <td>1.0</td>\n",
       "      <td>0.0</td>\n",
       "      <td>0.0</td>\n",
       "      <td>0.0</td>\n",
       "    </tr>\n",
       "    <tr>\n",
       "      <th>408</th>\n",
       "      <td>2015</td>\n",
       "      <td>PB</td>\n",
       "      <td>1</td>\n",
       "      <td>17491526</td>\n",
       "      <td>0</td>\n",
       "      <td>LP</td>\n",
       "      <td>-0.828752</td>\n",
       "      <td>0.366511</td>\n",
       "      <td>204.326255</td>\n",
       "      <td>20.192323</td>\n",
       "      <td>...</td>\n",
       "      <td>1.0</td>\n",
       "      <td>0.0</td>\n",
       "      <td>0.0</td>\n",
       "      <td>0.0</td>\n",
       "      <td>0.0</td>\n",
       "      <td>0.0</td>\n",
       "      <td>1.0</td>\n",
       "      <td>0.0</td>\n",
       "      <td>0.0</td>\n",
       "      <td>0.0</td>\n",
       "    </tr>\n",
       "    <tr>\n",
       "      <th>417</th>\n",
       "      <td>2015</td>\n",
       "      <td>PB</td>\n",
       "      <td>1</td>\n",
       "      <td>17523365</td>\n",
       "      <td>0</td>\n",
       "      <td>LP</td>\n",
       "      <td>-0.564052</td>\n",
       "      <td>0.351783</td>\n",
       "      <td>218.909469</td>\n",
       "      <td>19.380908</td>\n",
       "      <td>...</td>\n",
       "      <td>1.0</td>\n",
       "      <td>0.0</td>\n",
       "      <td>0.0</td>\n",
       "      <td>0.0</td>\n",
       "      <td>0.0</td>\n",
       "      <td>0.0</td>\n",
       "      <td>1.0</td>\n",
       "      <td>0.0</td>\n",
       "      <td>0.0</td>\n",
       "      <td>0.0</td>\n",
       "    </tr>\n",
       "    <tr>\n",
       "      <th>1008</th>\n",
       "      <td>2015</td>\n",
       "      <td>PB</td>\n",
       "      <td>1</td>\n",
       "      <td>17508044</td>\n",
       "      <td>0</td>\n",
       "      <td>LP</td>\n",
       "      <td>-0.775107</td>\n",
       "      <td>0.449797</td>\n",
       "      <td>207.281739</td>\n",
       "      <td>24.780829</td>\n",
       "      <td>...</td>\n",
       "      <td>1.0</td>\n",
       "      <td>0.0</td>\n",
       "      <td>0.0</td>\n",
       "      <td>0.0</td>\n",
       "      <td>0.0</td>\n",
       "      <td>0.0</td>\n",
       "      <td>1.0</td>\n",
       "      <td>0.0</td>\n",
       "      <td>0.0</td>\n",
       "      <td>0.0</td>\n",
       "    </tr>\n",
       "  </tbody>\n",
       "</table>\n",
       "<p>5 rows × 83 columns</p>\n",
       "</div>"
      ],
      "text/plain": [
       "       ano sigla_uf  escola_publica  id_aluno  situacao_censo disciplina  \\\n",
       "274   2015       PB               1  17518688               0         MT   \n",
       "348   2015       PB               1  17518163               0         MT   \n",
       "408   2015       PB               1  17491526               0         LP   \n",
       "417   2015       PB               1  17523365               0         LP   \n",
       "1008  2015       PB               1  17508044               0         LP   \n",
       "\n",
       "      proficiencia  erro_padrao  proficiencia_saeb  erro_padrao_saeb  ...  \\\n",
       "274      -0.472096     0.538400         223.577837         30.092429  ...   \n",
       "348      -0.809452     0.580177         204.722224         32.427443  ...   \n",
       "408      -0.828752     0.366511         204.326255         20.192323  ...   \n",
       "417      -0.564052     0.351783         218.909469         19.380908  ...   \n",
       "1008     -0.775107     0.449797         207.281739         24.780829  ...   \n",
       "\n",
       "     correcao_licao_casa_0  correcao_licao_casa_1  correcao_licao_casa_2  \\\n",
       "274                    1.0                    0.0                    0.0   \n",
       "348                    1.0                    0.0                    0.0   \n",
       "408                    1.0                    0.0                    0.0   \n",
       "417                    1.0                    0.0                    0.0   \n",
       "1008                   1.0                    0.0                    0.0   \n",
       "\n",
       "      correcao_licao_casa_3  correcao_licao_casa_4  \\\n",
       "274                     0.0                    0.0   \n",
       "348                     0.0                    0.0   \n",
       "408                     0.0                    0.0   \n",
       "417                     0.0                    0.0   \n",
       "1008                    0.0                    0.0   \n",
       "\n",
       "      utiliza_biblioteca_escola_0  utiliza_biblioteca_escola_1  \\\n",
       "274                           0.0                          0.0   \n",
       "348                           0.0                          1.0   \n",
       "408                           0.0                          1.0   \n",
       "417                           0.0                          1.0   \n",
       "1008                          0.0                          1.0   \n",
       "\n",
       "      utiliza_biblioteca_escola_2  utiliza_biblioteca_escola_3  \\\n",
       "274                           1.0                          0.0   \n",
       "348                           0.0                          0.0   \n",
       "408                           0.0                          0.0   \n",
       "417                           0.0                          0.0   \n",
       "1008                          0.0                          0.0   \n",
       "\n",
       "      utiliza_biblioteca_escola_4  \n",
       "274                           0.0  \n",
       "348                           0.0  \n",
       "408                           0.0  \n",
       "417                           0.0  \n",
       "1008                          0.0  \n",
       "\n",
       "[5 rows x 83 columns]"
      ]
     },
     "execution_count": 47,
     "metadata": {},
     "output_type": "execute_result"
    }
   ],
   "source": [
    "df = pd.read_pickle('data/saeb_treated.pkl')\n",
    "df.head()"
   ]
  },
  {
   "cell_type": "code",
   "execution_count": 48,
   "metadata": {},
   "outputs": [
    {
     "name": "stdout",
     "output_type": "stream",
     "text": [
      "(133774, 83)\n"
     ]
    }
   ],
   "source": [
    "df = df.dropna(subset=['desempenho_aluno_cat'])\n",
    "print(df.shape)"
   ]
  },
  {
   "cell_type": "code",
   "execution_count": 49,
   "metadata": {},
   "outputs": [],
   "source": [
    "df = df[df['disciplina'] == 'MT']"
   ]
  },
  {
   "cell_type": "code",
   "execution_count": 50,
   "metadata": {},
   "outputs": [
    {
     "name": "stdout",
     "output_type": "stream",
     "text": [
      "Index(['ano', 'sigla_uf', 'escola_publica', 'id_aluno', 'situacao_censo',\n",
      "       'disciplina', 'proficiencia', 'erro_padrao', 'proficiencia_saeb',\n",
      "       'erro_padrao_saeb', 'desempenho_aluno', 'sexo', 'raca_cor',\n",
      "       'ano_nascimento', 'idade', 'mae_sabe_ler_escrever', 'mae_le',\n",
      "       'pai_sabe_ler_escrever', 'pai_le',\n",
      "       'responsaveis_incentivam_realizacao_licao_casa',\n",
      "       'responsaveis_incentivam_estudos', 'responsaveis_incentivam_leitura',\n",
      "       'responsaveis_incentivam_comparecer_aulas', 'leitura_jornais',\n",
      "       'leitura_livros_geral', 'leitura_literatura_infantojuvenil',\n",
      "       'leitura_historia_quadrinhos', 'leitura_revista_comportamento',\n",
      "       'leitura_revistas_geral', 'leitura_internet', 'frequenta_biblioteca',\n",
      "       'frequenta_cinema', 'frequenta_espetaculo_exposicao',\n",
      "       'frequenta_festas_comunidade', 'gosta_estudar_disciplina', 'rede',\n",
      "       'id_escola', 'serie', 'turno', 'desempenho_aluno_cat',\n",
      "       'escolaridade_mae_0', 'escolaridade_mae_1', 'escolaridade_mae_2',\n",
      "       'escolaridade_mae_3', 'escolaridade_mae_4', 'escolaridade_mae_5',\n",
      "       'escolaridade_mae_6', 'escolaridade_mae_7', 'escolaridade_pai_0',\n",
      "       'escolaridade_pai_1', 'escolaridade_pai_2', 'escolaridade_pai_3',\n",
      "       'escolaridade_pai_4', 'escolaridade_pai_5', 'escolaridade_pai_6',\n",
      "       'escolaridade_pai_7', 'possui_computador_0', 'possui_computador_1',\n",
      "       'possui_computador_2', 'possui_computador_3', 'possui_computador_4',\n",
      "       'possui_computador_5', 'tempo_lazer_0', 'tempo_lazer_1',\n",
      "       'tempo_lazer_2', 'tempo_lazer_3', 'tempo_lazer_4', 'tempo_lazer_5',\n",
      "       'faz_licao_casa_0', 'faz_licao_casa_1', 'faz_licao_casa_2',\n",
      "       'faz_licao_casa_3', 'faz_licao_casa_4', 'correcao_licao_casa_0',\n",
      "       'correcao_licao_casa_1', 'correcao_licao_casa_2',\n",
      "       'correcao_licao_casa_3', 'correcao_licao_casa_4',\n",
      "       'utiliza_biblioteca_escola_0', 'utiliza_biblioteca_escola_1',\n",
      "       'utiliza_biblioteca_escola_2', 'utiliza_biblioteca_escola_3',\n",
      "       'utiliza_biblioteca_escola_4'],\n",
      "      dtype='object')\n"
     ]
    }
   ],
   "source": [
    "print(df.columns)"
   ]
  },
  {
   "cell_type": "code",
   "execution_count": 51,
   "metadata": {},
   "outputs": [],
   "source": [
    "exclude = ['ano', 'sigla_uf', 'id_aluno', 'situacao_censo', 'disciplina', 'proficiencia', 'erro_padrao', 'proficiencia_saeb',\n",
    "       'erro_padrao_saeb', 'desempenho_aluno', 'sexo', 'raca_cor','ano_nascimento', 'rede', 'id_escola', 'serie', 'turno']"
   ]
  },
  {
   "cell_type": "code",
   "execution_count": 52,
   "metadata": {},
   "outputs": [
    {
     "data": {
      "text/plain": [
       "dtype('int64')"
      ]
     },
     "execution_count": 52,
     "metadata": {},
     "output_type": "execute_result"
    }
   ],
   "source": [
    "df['escola_publica'] = df['escola_publica'].astype('int64')\n",
    "df['escola_publica'].dtype"
   ]
  },
  {
   "cell_type": "code",
   "execution_count": 53,
   "metadata": {},
   "outputs": [
    {
     "data": {
      "text/plain": [
       "dtype('int64')"
      ]
     },
     "execution_count": 53,
     "metadata": {},
     "output_type": "execute_result"
    }
   ],
   "source": [
    "df['mae_le'].dtype"
   ]
  },
  {
   "cell_type": "code",
   "execution_count": 54,
   "metadata": {},
   "outputs": [
    {
     "name": "stdout",
     "output_type": "stream",
     "text": [
      "escola_publica [1 0]\n",
      "idade [15 18 17 16 14 13]\n",
      "mae_sabe_ler_escrever [1 0]\n",
      "mae_le [1 0]\n",
      "pai_sabe_ler_escrever [1 0]\n",
      "pai_le [1 0]\n",
      "responsaveis_incentivam_realizacao_licao_casa [ 0. nan  1.]\n",
      "responsaveis_incentivam_estudos [ 0. nan  1.]\n",
      "responsaveis_incentivam_leitura [ 0.  1. nan]\n",
      "responsaveis_incentivam_comparecer_aulas [ 0. nan  1.]\n",
      "leitura_jornais [ 1.  0. nan]\n",
      "leitura_livros_geral [ 1.  0. nan]\n",
      "leitura_literatura_infantojuvenil [ 1.  0. nan]\n",
      "leitura_historia_quadrinhos [ 1. nan  0.]\n",
      "leitura_revista_comportamento [ 1. nan  0.]\n",
      "leitura_revistas_geral [ 1.  0. nan]\n",
      "leitura_internet [ 0.  1. nan]\n",
      "frequenta_biblioteca [ 1.  0. nan]\n",
      "frequenta_cinema [ 1.  0. nan]\n",
      "frequenta_espetaculo_exposicao [ 1. nan  0.]\n",
      "frequenta_festas_comunidade [ 1.  0. nan]\n",
      "gosta_estudar_disciplina [ 0.  1. nan]\n",
      "desempenho_aluno_cat [0 1 2 3]\n",
      "escolaridade_mae_0 [0. 1.]\n",
      "escolaridade_mae_1 [1. 0.]\n",
      "escolaridade_mae_2 [0. 1.]\n",
      "escolaridade_mae_3 [0. 1.]\n",
      "escolaridade_mae_4 [0. 1.]\n",
      "escolaridade_mae_5 [0. 1.]\n",
      "escolaridade_mae_6 [0. 1.]\n",
      "escolaridade_mae_7 [0. 1.]\n",
      "escolaridade_pai_0 [0. 1.]\n",
      "escolaridade_pai_1 [1. 0.]\n",
      "escolaridade_pai_2 [0. 1.]\n",
      "escolaridade_pai_3 [0. 1.]\n",
      "escolaridade_pai_4 [0. 1.]\n",
      "escolaridade_pai_5 [0. 1.]\n",
      "escolaridade_pai_6 [0. 1.]\n",
      "escolaridade_pai_7 [0. 1.]\n",
      "possui_computador_0 [1. 0.]\n",
      "possui_computador_1 [0. 1.]\n",
      "possui_computador_2 [0. 1.]\n",
      "possui_computador_3 [0. 1.]\n",
      "possui_computador_4 [0. 1.]\n",
      "possui_computador_5 [0. 1.]\n",
      "tempo_lazer_0 [0. 1.]\n",
      "tempo_lazer_1 [0. 1.]\n",
      "tempo_lazer_2 [0. 1.]\n",
      "tempo_lazer_3 [0. 1.]\n",
      "tempo_lazer_4 [1. 0.]\n",
      "tempo_lazer_5 [0. 1.]\n",
      "faz_licao_casa_0 [1. 0.]\n",
      "faz_licao_casa_1 [0. 1.]\n",
      "faz_licao_casa_2 [0. 1.]\n",
      "faz_licao_casa_3 [0. 1.]\n",
      "faz_licao_casa_4 [0. 1.]\n",
      "correcao_licao_casa_0 [1. 0.]\n",
      "correcao_licao_casa_1 [0. 1.]\n",
      "correcao_licao_casa_2 [0. 1.]\n",
      "correcao_licao_casa_3 [0. 1.]\n",
      "correcao_licao_casa_4 [0. 1.]\n",
      "utiliza_biblioteca_escola_0 [0. 1.]\n",
      "utiliza_biblioteca_escola_1 [0. 1.]\n",
      "utiliza_biblioteca_escola_2 [1. 0.]\n",
      "utiliza_biblioteca_escola_3 [0. 1.]\n",
      "utiliza_biblioteca_escola_4 [0. 1.]\n"
     ]
    }
   ],
   "source": [
    "# print unique values for each column excluding exclude columns\n",
    "for col in df.columns:\n",
    "    if col not in exclude:\n",
    "        print(col, df[col].unique())"
   ]
  },
  {
   "cell_type": "markdown",
   "metadata": {},
   "source": [
    "Filtering unimportant columns"
   ]
  },
  {
   "cell_type": "code",
   "execution_count": 55,
   "metadata": {},
   "outputs": [],
   "source": [
    "# colunas:\n",
    "# idade, leitura_jornais, leitura_revista_comportamento,\n",
    "# escolaridade_mae_0, escolaridade_mae_1, escolaridade_mae_4, escolaridade_mae_5, escolaridade_mae_6\n",
    "# escolaridade_pai_0, escolaridade_pai_4, escolaridade_pai_5\n",
    "# possui_computador_0, possui_computador_1, possui_computador_2\n",
    "# mae_sabe_ler_escrever, pai_sabe_ler_escrever\n",
    "\n",
    "# conjunto 1:\n",
    "# idade, frequenta_espetaculo_exposicao, frequenta_festas_comunidade, frequenta_biblioteca\n",
    "# tempo_lazer, gosta_estudar_disciplina, faz_licao_casa, correcao_licao_casa, utiliza_biblioteca_escola\n",
    "\n",
    "# conjunto 2:\n",
    "# idade, leitura_jornais, leitura_revista_comportamento, mae_sabe_ler_escrever, pai_sabe_ler_escrever\n",
    "# frequenta_biblioteca, utiliza_biblioteca_escola\n",
    "\n",
    "# conjunto 3:\n",
    "# idade, escolaridade_mae_0, escolaridade_mae_1, escolaridade_mae_4, escolaridade_mae_5, escolaridade_mae_6\n",
    "# escolaridade_pai_0, escolaridade_pai_4, escolaridade_pai_5, mae_sabe_ler_escrever, pai_sabe_ler_escrever\n",
    "\n",
    "# conjunto 4:\n",
    "# idade, faz_licao_casa, correcao_licao_casa, utiliza_biblioteca_escola, gosta_estudar_disciplina\n",
    "\n",
    "# conjunto 5:\n",
    "# idade, possui_computador_0, possui_computador_1, possui_computador_2, mae_sabe_ler_escrever, pai_sabe_ler_escrever\n",
    "# gosta_estudar_disciplina, faz_licao_casa, correcao_licao_casa"
   ]
  },
  {
   "cell_type": "code",
   "execution_count": 56,
   "metadata": {},
   "outputs": [
    {
     "data": {
      "text/plain": [
       "Index(['ano', 'sigla_uf', 'escola_publica', 'id_aluno', 'situacao_censo',\n",
       "       'disciplina', 'proficiencia', 'erro_padrao', 'proficiencia_saeb',\n",
       "       'erro_padrao_saeb', 'desempenho_aluno', 'sexo', 'raca_cor',\n",
       "       'ano_nascimento', 'idade', 'mae_sabe_ler_escrever', 'mae_le',\n",
       "       'pai_sabe_ler_escrever', 'pai_le',\n",
       "       'responsaveis_incentivam_realizacao_licao_casa',\n",
       "       'responsaveis_incentivam_estudos', 'responsaveis_incentivam_leitura',\n",
       "       'responsaveis_incentivam_comparecer_aulas', 'leitura_jornais',\n",
       "       'leitura_livros_geral', 'leitura_literatura_infantojuvenil',\n",
       "       'leitura_historia_quadrinhos', 'leitura_revista_comportamento',\n",
       "       'leitura_revistas_geral', 'leitura_internet', 'frequenta_biblioteca',\n",
       "       'frequenta_cinema', 'frequenta_espetaculo_exposicao',\n",
       "       'frequenta_festas_comunidade', 'gosta_estudar_disciplina', 'rede',\n",
       "       'id_escola', 'serie', 'turno', 'desempenho_aluno_cat',\n",
       "       'escolaridade_mae_0', 'escolaridade_mae_1', 'escolaridade_mae_2',\n",
       "       'escolaridade_mae_3', 'escolaridade_mae_4', 'escolaridade_mae_5',\n",
       "       'escolaridade_mae_6', 'escolaridade_mae_7', 'escolaridade_pai_0',\n",
       "       'escolaridade_pai_1', 'escolaridade_pai_2', 'escolaridade_pai_3',\n",
       "       'escolaridade_pai_4', 'escolaridade_pai_5', 'escolaridade_pai_6',\n",
       "       'escolaridade_pai_7', 'possui_computador_0', 'possui_computador_1',\n",
       "       'possui_computador_2', 'possui_computador_3', 'possui_computador_4',\n",
       "       'possui_computador_5', 'tempo_lazer_0', 'tempo_lazer_1',\n",
       "       'tempo_lazer_2', 'tempo_lazer_3', 'tempo_lazer_4', 'tempo_lazer_5',\n",
       "       'faz_licao_casa_0', 'faz_licao_casa_1', 'faz_licao_casa_2',\n",
       "       'faz_licao_casa_3', 'faz_licao_casa_4', 'correcao_licao_casa_0',\n",
       "       'correcao_licao_casa_1', 'correcao_licao_casa_2',\n",
       "       'correcao_licao_casa_3', 'correcao_licao_casa_4',\n",
       "       'utiliza_biblioteca_escola_0', 'utiliza_biblioteca_escola_1',\n",
       "       'utiliza_biblioteca_escola_2', 'utiliza_biblioteca_escola_3',\n",
       "       'utiliza_biblioteca_escola_4'],\n",
       "      dtype='object')"
      ]
     },
     "execution_count": 56,
     "metadata": {},
     "output_type": "execute_result"
    }
   ],
   "source": [
    "df.columns"
   ]
  },
  {
   "cell_type": "code",
   "execution_count": 57,
   "metadata": {},
   "outputs": [
    {
     "data": {
      "text/plain": [
       "rede\n",
       "1    37403\n",
       "0    27728\n",
       "2     1756\n",
       "Name: count, dtype: int64"
      ]
     },
     "execution_count": 57,
     "metadata": {},
     "output_type": "execute_result"
    }
   ],
   "source": [
    "df['rede'].value_counts()"
   ]
  },
  {
   "cell_type": "code",
   "execution_count": 58,
   "metadata": {},
   "outputs": [
    {
     "data": {
      "text/plain": [
       "turno\n",
       "0    35624\n",
       "1    30567\n",
       "2      696\n",
       "Name: count, dtype: int64"
      ]
     },
     "execution_count": 58,
     "metadata": {},
     "output_type": "execute_result"
    }
   ],
   "source": [
    "df['turno'].value_counts()"
   ]
  },
  {
   "cell_type": "code",
   "execution_count": 59,
   "metadata": {},
   "outputs": [
    {
     "data": {
      "text/plain": [
       "desempenho_aluno\n",
       "Básico          33972\n",
       "Insuficiente    27368\n",
       "Proficiente      4962\n",
       "Avançado          585\n",
       "Name: count, dtype: int64"
      ]
     },
     "execution_count": 59,
     "metadata": {},
     "output_type": "execute_result"
    }
   ],
   "source": [
    "df['desempenho_aluno'].value_counts() # estão desbalanceados"
   ]
  },
  {
   "cell_type": "code",
   "execution_count": 60,
   "metadata": {},
   "outputs": [],
   "source": [
    "_df = df.dropna()"
   ]
  },
  {
   "cell_type": "code",
   "execution_count": 61,
   "metadata": {},
   "outputs": [
    {
     "name": "stdout",
     "output_type": "stream",
     "text": [
      "desempenho_aluno_cat\n",
      "3    5190\n",
      "1    4429\n",
      "0    1998\n",
      "2    1025\n",
      "Name: count, dtype: int64\n"
     ]
    }
   ],
   "source": [
    "# aplicando smote\n",
    "from imblearn.combine import SMOTEENN\n",
    "features = ['frequenta_espetaculo_exposicao', 'frequenta_festas_comunidade', 'frequenta_biblioteca', 'gosta_estudar_disciplina']\n",
    "features += [col for col in _df.columns if 'tempo_lazer' in col]\n",
    "features += [col for col in _df.columns if 'faz_licao_casa' in col]\n",
    "features += [col for col in _df.columns if 'correcao_licao_casa' in col]\n",
    "features += [col for col in _df.columns if 'utiliza_biblioteca_escola' in col]\n",
    "\n",
    "X = _df[features]\n",
    "\n",
    "y = _df['desempenho_aluno_cat']\n",
    "\n",
    "X_train, X_test, y_train, y_test = train_test_split(X, y, test_size=0.2, random_state=42, stratify=y)\n",
    "\n",
    "# Aplicar SMOTEENN\n",
    "smote_enn = SMOTEENN(random_state=42)\n",
    "X_resampled, y_resampled = smote_enn.fit_resample(X_train, y_train)\n",
    "\n",
    "# Verificar a distribuição das classes após o balanceamento\n",
    "print(y_resampled.value_counts())"
   ]
  },
  {
   "cell_type": "code",
   "execution_count": 62,
   "metadata": {},
   "outputs": [
    {
     "data": {
      "text/plain": [
       "Index(['escola_publica', 'idade', 'mae_sabe_ler_escrever', 'mae_le',\n",
       "       'pai_sabe_ler_escrever', 'pai_le',\n",
       "       'responsaveis_incentivam_realizacao_licao_casa',\n",
       "       'responsaveis_incentivam_estudos', 'responsaveis_incentivam_leitura',\n",
       "       'responsaveis_incentivam_comparecer_aulas', 'leitura_jornais',\n",
       "       'leitura_livros_geral', 'leitura_literatura_infantojuvenil',\n",
       "       'leitura_historia_quadrinhos', 'leitura_revista_comportamento',\n",
       "       'leitura_revistas_geral', 'leitura_internet', 'frequenta_biblioteca',\n",
       "       'frequenta_cinema', 'frequenta_espetaculo_exposicao',\n",
       "       'frequenta_festas_comunidade', 'gosta_estudar_disciplina',\n",
       "       'escolaridade_mae_0', 'escolaridade_mae_1', 'escolaridade_mae_2',\n",
       "       'escolaridade_mae_3', 'escolaridade_mae_4', 'escolaridade_mae_5',\n",
       "       'escolaridade_mae_6', 'escolaridade_mae_7', 'escolaridade_pai_0',\n",
       "       'escolaridade_pai_1', 'escolaridade_pai_2', 'escolaridade_pai_3',\n",
       "       'escolaridade_pai_4', 'escolaridade_pai_5', 'escolaridade_pai_6',\n",
       "       'escolaridade_pai_7', 'possui_computador_0', 'possui_computador_1',\n",
       "       'possui_computador_2', 'possui_computador_3', 'possui_computador_4',\n",
       "       'possui_computador_5', 'tempo_lazer_0', 'tempo_lazer_1',\n",
       "       'tempo_lazer_2', 'tempo_lazer_3', 'tempo_lazer_4', 'tempo_lazer_5',\n",
       "       'faz_licao_casa_0', 'faz_licao_casa_1', 'faz_licao_casa_2',\n",
       "       'faz_licao_casa_3', 'faz_licao_casa_4', 'correcao_licao_casa_0',\n",
       "       'correcao_licao_casa_1', 'correcao_licao_casa_2',\n",
       "       'correcao_licao_casa_3', 'correcao_licao_casa_4',\n",
       "       'utiliza_biblioteca_escola_0', 'utiliza_biblioteca_escola_1',\n",
       "       'utiliza_biblioteca_escola_2', 'utiliza_biblioteca_escola_3',\n",
       "       'utiliza_biblioteca_escola_4'],\n",
       "      dtype='object')"
      ]
     },
     "execution_count": 62,
     "metadata": {},
     "output_type": "execute_result"
    }
   ],
   "source": [
    "_df.drop(columns=exclude + ['desempenho_aluno', 'desempenho_aluno_cat']).columns"
   ]
  },
  {
   "cell_type": "code",
   "execution_count": 63,
   "metadata": {},
   "outputs": [
    {
     "name": "stdout",
     "output_type": "stream",
     "text": [
      "For fold 1:\n",
      "Accuracy: 0.5163688824769725\n",
      "f-score: 0.5003915980779275\n",
      "For fold 2:\n",
      "Accuracy: 0.5216957052491399\n",
      "f-score: 0.49473411337948797\n",
      "For fold 3:\n",
      "Accuracy: 0.5120976692563818\n",
      "f-score: 0.4526014853333508\n",
      "For fold 4:\n",
      "Accuracy: 0.5221975582685905\n",
      "f-score: 0.4860069717558783\n",
      "For fold 5:\n",
      "Accuracy: 0.5269700332963374\n",
      "f-score: 0.5075362238504038\n"
     ]
    }
   ],
   "source": [
    "from sklearn.ensemble import RandomForestClassifier\n",
    "from sklearn.metrics import f1_score\n",
    "from sklearn.model_selection import StratifiedKFold\n",
    "from imblearn.over_sampling import SMOTE\n",
    "import numpy as np\n",
    "\n",
    "X = _df.drop(columns=exclude + ['desempenho_aluno', 'desempenho_aluno_cat'])\n",
    "y = _df['desempenho_aluno_cat']\n",
    "\n",
    "cv = StratifiedKFold(n_splits=5)\n",
    "\n",
    "for fold, (train_idx, test_idx) in enumerate(cv.split(X, y), 1):\n",
    "    X_train, X_test = X.iloc[train_idx], X.iloc[test_idx]\n",
    "    y_train, y_test = y.iloc[train_idx], y.iloc[test_idx]\n",
    "    \n",
    "    sm = SMOTE(random_state=42)\n",
    "    X_train_oversampled, y_train_oversampled = sm.fit_resample(X_train, y_train)\n",
    "    \n",
    "    model = RandomForestClassifier(random_state=42)\n",
    "    model.fit(X_train_oversampled, y_train_oversampled)\n",
    "    \n",
    "    y_pred = model.predict(X_test)\n",
    "    \n",
    "    print(f'For fold {fold}:')\n",
    "    print(f'Accuracy: {model.score(X_test, y_test)}')\n",
    "    print(f'f-score: {f1_score(y_test, y_pred, average=\"weighted\")}')"
   ]
  },
  {
   "cell_type": "code",
   "execution_count": 64,
   "metadata": {},
   "outputs": [
    {
     "name": "stdout",
     "output_type": "stream",
     "text": [
      "(12642, 25) (12642,)\n"
     ]
    },
    {
     "name": "stderr",
     "output_type": "stream",
     "text": [
      "/home/erlo/.local/lib/python3.12/site-packages/keras/src/layers/core/dense.py:87: UserWarning: Do not pass an `input_shape`/`input_dim` argument to a layer. When using Sequential models, prefer using an `Input(shape)` object as the first layer in the model instead.\n",
      "  super().__init__(activity_regularizer=activity_regularizer, **kwargs)\n"
     ]
    },
    {
     "data": {
      "text/html": [
       "<pre style=\"white-space:pre;overflow-x:auto;line-height:normal;font-family:Menlo,'DejaVu Sans Mono',consolas,'Courier New',monospace\"><span style=\"font-weight: bold\">Model: \"sequential\"</span>\n",
       "</pre>\n"
      ],
      "text/plain": [
       "\u001b[1mModel: \"sequential\"\u001b[0m\n"
      ]
     },
     "metadata": {},
     "output_type": "display_data"
    },
    {
     "data": {
      "text/html": [
       "<pre style=\"white-space:pre;overflow-x:auto;line-height:normal;font-family:Menlo,'DejaVu Sans Mono',consolas,'Courier New',monospace\">┏━━━━━━━━━━━━━━━━━━━━━━━━━━━━━━━━━┳━━━━━━━━━━━━━━━━━━━━━━━━┳━━━━━━━━━━━━━━━┓\n",
       "┃<span style=\"font-weight: bold\"> Layer (type)                    </span>┃<span style=\"font-weight: bold\"> Output Shape           </span>┃<span style=\"font-weight: bold\">       Param # </span>┃\n",
       "┡━━━━━━━━━━━━━━━━━━━━━━━━━━━━━━━━━╇━━━━━━━━━━━━━━━━━━━━━━━━╇━━━━━━━━━━━━━━━┩\n",
       "│ dense (<span style=\"color: #0087ff; text-decoration-color: #0087ff\">Dense</span>)                   │ (<span style=\"color: #00d7ff; text-decoration-color: #00d7ff\">None</span>, <span style=\"color: #00af00; text-decoration-color: #00af00\">8</span>)              │           <span style=\"color: #00af00; text-decoration-color: #00af00\">208</span> │\n",
       "├─────────────────────────────────┼────────────────────────┼───────────────┤\n",
       "│ dense_1 (<span style=\"color: #0087ff; text-decoration-color: #0087ff\">Dense</span>)                 │ (<span style=\"color: #00d7ff; text-decoration-color: #00d7ff\">None</span>, <span style=\"color: #00af00; text-decoration-color: #00af00\">8</span>)              │            <span style=\"color: #00af00; text-decoration-color: #00af00\">72</span> │\n",
       "├─────────────────────────────────┼────────────────────────┼───────────────┤\n",
       "│ dense_2 (<span style=\"color: #0087ff; text-decoration-color: #0087ff\">Dense</span>)                 │ (<span style=\"color: #00d7ff; text-decoration-color: #00d7ff\">None</span>, <span style=\"color: #00af00; text-decoration-color: #00af00\">8</span>)              │            <span style=\"color: #00af00; text-decoration-color: #00af00\">72</span> │\n",
       "├─────────────────────────────────┼────────────────────────┼───────────────┤\n",
       "│ dense_3 (<span style=\"color: #0087ff; text-decoration-color: #0087ff\">Dense</span>)                 │ (<span style=\"color: #00d7ff; text-decoration-color: #00d7ff\">None</span>, <span style=\"color: #00af00; text-decoration-color: #00af00\">4</span>)              │            <span style=\"color: #00af00; text-decoration-color: #00af00\">36</span> │\n",
       "└─────────────────────────────────┴────────────────────────┴───────────────┘\n",
       "</pre>\n"
      ],
      "text/plain": [
       "┏━━━━━━━━━━━━━━━━━━━━━━━━━━━━━━━━━┳━━━━━━━━━━━━━━━━━━━━━━━━┳━━━━━━━━━━━━━━━┓\n",
       "┃\u001b[1m \u001b[0m\u001b[1mLayer (type)                   \u001b[0m\u001b[1m \u001b[0m┃\u001b[1m \u001b[0m\u001b[1mOutput Shape          \u001b[0m\u001b[1m \u001b[0m┃\u001b[1m \u001b[0m\u001b[1m      Param #\u001b[0m\u001b[1m \u001b[0m┃\n",
       "┡━━━━━━━━━━━━━━━━━━━━━━━━━━━━━━━━━╇━━━━━━━━━━━━━━━━━━━━━━━━╇━━━━━━━━━━━━━━━┩\n",
       "│ dense (\u001b[38;5;33mDense\u001b[0m)                   │ (\u001b[38;5;45mNone\u001b[0m, \u001b[38;5;34m8\u001b[0m)              │           \u001b[38;5;34m208\u001b[0m │\n",
       "├─────────────────────────────────┼────────────────────────┼───────────────┤\n",
       "│ dense_1 (\u001b[38;5;33mDense\u001b[0m)                 │ (\u001b[38;5;45mNone\u001b[0m, \u001b[38;5;34m8\u001b[0m)              │            \u001b[38;5;34m72\u001b[0m │\n",
       "├─────────────────────────────────┼────────────────────────┼───────────────┤\n",
       "│ dense_2 (\u001b[38;5;33mDense\u001b[0m)                 │ (\u001b[38;5;45mNone\u001b[0m, \u001b[38;5;34m8\u001b[0m)              │            \u001b[38;5;34m72\u001b[0m │\n",
       "├─────────────────────────────────┼────────────────────────┼───────────────┤\n",
       "│ dense_3 (\u001b[38;5;33mDense\u001b[0m)                 │ (\u001b[38;5;45mNone\u001b[0m, \u001b[38;5;34m4\u001b[0m)              │            \u001b[38;5;34m36\u001b[0m │\n",
       "└─────────────────────────────────┴────────────────────────┴───────────────┘\n"
      ]
     },
     "metadata": {},
     "output_type": "display_data"
    },
    {
     "data": {
      "text/html": [
       "<pre style=\"white-space:pre;overflow-x:auto;line-height:normal;font-family:Menlo,'DejaVu Sans Mono',consolas,'Courier New',monospace\"><span style=\"font-weight: bold\"> Total params: </span><span style=\"color: #00af00; text-decoration-color: #00af00\">388</span> (1.52 KB)\n",
       "</pre>\n"
      ],
      "text/plain": [
       "\u001b[1m Total params: \u001b[0m\u001b[38;5;34m388\u001b[0m (1.52 KB)\n"
      ]
     },
     "metadata": {},
     "output_type": "display_data"
    },
    {
     "data": {
      "text/html": [
       "<pre style=\"white-space:pre;overflow-x:auto;line-height:normal;font-family:Menlo,'DejaVu Sans Mono',consolas,'Courier New',monospace\"><span style=\"font-weight: bold\"> Trainable params: </span><span style=\"color: #00af00; text-decoration-color: #00af00\">388</span> (1.52 KB)\n",
       "</pre>\n"
      ],
      "text/plain": [
       "\u001b[1m Trainable params: \u001b[0m\u001b[38;5;34m388\u001b[0m (1.52 KB)\n"
      ]
     },
     "metadata": {},
     "output_type": "display_data"
    },
    {
     "data": {
      "text/html": [
       "<pre style=\"white-space:pre;overflow-x:auto;line-height:normal;font-family:Menlo,'DejaVu Sans Mono',consolas,'Courier New',monospace\"><span style=\"font-weight: bold\"> Non-trainable params: </span><span style=\"color: #00af00; text-decoration-color: #00af00\">0</span> (0.00 B)\n",
       "</pre>\n"
      ],
      "text/plain": [
       "\u001b[1m Non-trainable params: \u001b[0m\u001b[38;5;34m0\u001b[0m (0.00 B)\n"
      ]
     },
     "metadata": {},
     "output_type": "display_data"
    }
   ],
   "source": [
    "# treinar o modelo\n",
    "\n",
    "print(X_resampled.shape, y_resampled.shape)\n",
    "\n",
    "model = Sequential()\n",
    "model.add(Dense(8, input_dim=X_resampled.shape[1], activation='relu', kernel_regularizer=regularizers.l2(0.01)))\n",
    "model.add(Dense(8, activation='relu'))\n",
    "model.add(Dense(8, activation='relu'))\n",
    "\n",
    "# desempenho_aluno_cat has 4 classes\n",
    "model.add(Dense(4, activation='softmax'))\n",
    "\n",
    "model.summary()\n",
    "\n",
    "# compile model\n",
    "model.compile(optimizer='adam', loss='sparse_categorical_crossentropy', metrics=['accuracy'])"
   ]
  },
  {
   "cell_type": "code",
   "execution_count": 65,
   "metadata": {},
   "outputs": [
    {
     "name": "stdout",
     "output_type": "stream",
     "text": [
      "Epoch 1/100\n",
      "\u001b[1m264/264\u001b[0m \u001b[32m━━━━━━━━━━━━━━━━━━━━\u001b[0m\u001b[37m\u001b[0m \u001b[1m1s\u001b[0m 571us/step - accuracy: 0.4421 - loss: 1.3733\n",
      "Epoch 2/100\n",
      "\u001b[1m264/264\u001b[0m \u001b[32m━━━━━━━━━━━━━━━━━━━━\u001b[0m\u001b[37m\u001b[0m \u001b[1m0s\u001b[0m 718us/step - accuracy: 0.5237 - loss: 1.0250\n",
      "Epoch 3/100\n",
      "\u001b[1m264/264\u001b[0m \u001b[32m━━━━━━━━━━━━━━━━━━━━\u001b[0m\u001b[37m\u001b[0m \u001b[1m0s\u001b[0m 554us/step - accuracy: 0.6294 - loss: 0.9134\n",
      "Epoch 4/100\n",
      "\u001b[1m264/264\u001b[0m \u001b[32m━━━━━━━━━━━━━━━━━━━━\u001b[0m\u001b[37m\u001b[0m \u001b[1m0s\u001b[0m 586us/step - accuracy: 0.6696 - loss: 0.8415\n",
      "Epoch 5/100\n",
      "\u001b[1m264/264\u001b[0m \u001b[32m━━━━━━━━━━━━━━━━━━━━\u001b[0m\u001b[37m\u001b[0m \u001b[1m0s\u001b[0m 550us/step - accuracy: 0.6898 - loss: 0.8091\n",
      "Epoch 6/100\n",
      "\u001b[1m264/264\u001b[0m \u001b[32m━━━━━━━━━━━━━━━━━━━━\u001b[0m\u001b[37m\u001b[0m \u001b[1m0s\u001b[0m 636us/step - accuracy: 0.7075 - loss: 0.7701\n",
      "Epoch 7/100\n",
      "\u001b[1m264/264\u001b[0m \u001b[32m━━━━━━━━━━━━━━━━━━━━\u001b[0m\u001b[37m\u001b[0m \u001b[1m0s\u001b[0m 608us/step - accuracy: 0.7157 - loss: 0.7619\n",
      "Epoch 8/100\n",
      "\u001b[1m264/264\u001b[0m \u001b[32m━━━━━━━━━━━━━━━━━━━━\u001b[0m\u001b[37m\u001b[0m \u001b[1m0s\u001b[0m 602us/step - accuracy: 0.7195 - loss: 0.7522\n",
      "Epoch 9/100\n",
      "\u001b[1m264/264\u001b[0m \u001b[32m━━━━━━━━━━━━━━━━━━━━\u001b[0m\u001b[37m\u001b[0m \u001b[1m0s\u001b[0m 555us/step - accuracy: 0.7179 - loss: 0.7459\n",
      "Epoch 10/100\n",
      "\u001b[1m264/264\u001b[0m \u001b[32m━━━━━━━━━━━━━━━━━━━━\u001b[0m\u001b[37m\u001b[0m \u001b[1m0s\u001b[0m 600us/step - accuracy: 0.7269 - loss: 0.7248\n",
      "Epoch 11/100\n",
      "\u001b[1m264/264\u001b[0m \u001b[32m━━━━━━━━━━━━━━━━━━━━\u001b[0m\u001b[37m\u001b[0m \u001b[1m0s\u001b[0m 612us/step - accuracy: 0.7312 - loss: 0.7117\n",
      "Epoch 12/100\n",
      "\u001b[1m264/264\u001b[0m \u001b[32m━━━━━━━━━━━━━━━━━━━━\u001b[0m\u001b[37m\u001b[0m \u001b[1m0s\u001b[0m 610us/step - accuracy: 0.7372 - loss: 0.6989\n",
      "Epoch 13/100\n",
      "\u001b[1m264/264\u001b[0m \u001b[32m━━━━━━━━━━━━━━━━━━━━\u001b[0m\u001b[37m\u001b[0m \u001b[1m0s\u001b[0m 849us/step - accuracy: 0.7320 - loss: 0.7068\n",
      "Epoch 14/100\n",
      "\u001b[1m264/264\u001b[0m \u001b[32m━━━━━━━━━━━━━━━━━━━━\u001b[0m\u001b[37m\u001b[0m \u001b[1m0s\u001b[0m 581us/step - accuracy: 0.7398 - loss: 0.6909\n",
      "Epoch 15/100\n",
      "\u001b[1m264/264\u001b[0m \u001b[32m━━━━━━━━━━━━━━━━━━━━\u001b[0m\u001b[37m\u001b[0m \u001b[1m0s\u001b[0m 706us/step - accuracy: 0.7449 - loss: 0.6787\n",
      "Epoch 16/100\n",
      "\u001b[1m264/264\u001b[0m \u001b[32m━━━━━━━━━━━━━━━━━━━━\u001b[0m\u001b[37m\u001b[0m \u001b[1m0s\u001b[0m 599us/step - accuracy: 0.7489 - loss: 0.6679\n",
      "Epoch 17/100\n",
      "\u001b[1m264/264\u001b[0m \u001b[32m━━━━━━━━━━━━━━━━━━━━\u001b[0m\u001b[37m\u001b[0m \u001b[1m0s\u001b[0m 634us/step - accuracy: 0.7490 - loss: 0.6601\n",
      "Epoch 18/100\n",
      "\u001b[1m264/264\u001b[0m \u001b[32m━━━━━━━━━━━━━━━━━━━━\u001b[0m\u001b[37m\u001b[0m \u001b[1m0s\u001b[0m 587us/step - accuracy: 0.7571 - loss: 0.6430\n",
      "Epoch 19/100\n",
      "\u001b[1m264/264\u001b[0m \u001b[32m━━━━━━━━━━━━━━━━━━━━\u001b[0m\u001b[37m\u001b[0m \u001b[1m0s\u001b[0m 601us/step - accuracy: 0.7662 - loss: 0.6303\n",
      "Epoch 20/100\n",
      "\u001b[1m264/264\u001b[0m \u001b[32m━━━━━━━━━━━━━━━━━━━━\u001b[0m\u001b[37m\u001b[0m \u001b[1m0s\u001b[0m 558us/step - accuracy: 0.7645 - loss: 0.6173\n",
      "Epoch 21/100\n",
      "\u001b[1m264/264\u001b[0m \u001b[32m━━━━━━━━━━━━━━━━━━━━\u001b[0m\u001b[37m\u001b[0m \u001b[1m0s\u001b[0m 545us/step - accuracy: 0.7724 - loss: 0.6204\n",
      "Epoch 22/100\n",
      "\u001b[1m264/264\u001b[0m \u001b[32m━━━━━━━━━━━━━━━━━━━━\u001b[0m\u001b[37m\u001b[0m \u001b[1m0s\u001b[0m 633us/step - accuracy: 0.7784 - loss: 0.6115\n",
      "Epoch 23/100\n",
      "\u001b[1m264/264\u001b[0m \u001b[32m━━━━━━━━━━━━━━━━━━━━\u001b[0m\u001b[37m\u001b[0m \u001b[1m0s\u001b[0m 608us/step - accuracy: 0.7801 - loss: 0.6061\n",
      "Epoch 24/100\n",
      "\u001b[1m264/264\u001b[0m \u001b[32m━━━━━━━━━━━━━━━━━━━━\u001b[0m\u001b[37m\u001b[0m \u001b[1m0s\u001b[0m 564us/step - accuracy: 0.7836 - loss: 0.5984\n",
      "Epoch 25/100\n",
      "\u001b[1m264/264\u001b[0m \u001b[32m━━━━━━━━━━━━━━━━━━━━\u001b[0m\u001b[37m\u001b[0m \u001b[1m0s\u001b[0m 611us/step - accuracy: 0.7770 - loss: 0.5969\n",
      "Epoch 26/100\n",
      "\u001b[1m264/264\u001b[0m \u001b[32m━━━━━━━━━━━━━━━━━━━━\u001b[0m\u001b[37m\u001b[0m \u001b[1m0s\u001b[0m 799us/step - accuracy: 0.7810 - loss: 0.5888\n",
      "Epoch 27/100\n",
      "\u001b[1m264/264\u001b[0m \u001b[32m━━━━━━━━━━━━━━━━━━━━\u001b[0m\u001b[37m\u001b[0m \u001b[1m0s\u001b[0m 585us/step - accuracy: 0.7863 - loss: 0.5831\n",
      "Epoch 28/100\n",
      "\u001b[1m264/264\u001b[0m \u001b[32m━━━━━━━━━━━━━━━━━━━━\u001b[0m\u001b[37m\u001b[0m \u001b[1m0s\u001b[0m 571us/step - accuracy: 0.7889 - loss: 0.5832\n",
      "Epoch 29/100\n",
      "\u001b[1m264/264\u001b[0m \u001b[32m━━━━━━━━━━━━━━━━━━━━\u001b[0m\u001b[37m\u001b[0m \u001b[1m0s\u001b[0m 551us/step - accuracy: 0.7890 - loss: 0.5720\n",
      "Epoch 30/100\n",
      "\u001b[1m264/264\u001b[0m \u001b[32m━━━━━━━━━━━━━━━━━━━━\u001b[0m\u001b[37m\u001b[0m \u001b[1m0s\u001b[0m 654us/step - accuracy: 0.7943 - loss: 0.5719\n",
      "Epoch 31/100\n",
      "\u001b[1m264/264\u001b[0m \u001b[32m━━━━━━━━━━━━━━━━━━━━\u001b[0m\u001b[37m\u001b[0m \u001b[1m0s\u001b[0m 583us/step - accuracy: 0.7957 - loss: 0.5601\n",
      "Epoch 32/100\n",
      "\u001b[1m264/264\u001b[0m \u001b[32m━━━━━━━━━━━━━━━━━━━━\u001b[0m\u001b[37m\u001b[0m \u001b[1m0s\u001b[0m 625us/step - accuracy: 0.7964 - loss: 0.5632\n",
      "Epoch 33/100\n",
      "\u001b[1m264/264\u001b[0m \u001b[32m━━━━━━━━━━━━━━━━━━━━\u001b[0m\u001b[37m\u001b[0m \u001b[1m0s\u001b[0m 594us/step - accuracy: 0.8078 - loss: 0.5405\n",
      "Epoch 34/100\n",
      "\u001b[1m264/264\u001b[0m \u001b[32m━━━━━━━━━━━━━━━━━━━━\u001b[0m\u001b[37m\u001b[0m \u001b[1m0s\u001b[0m 615us/step - accuracy: 0.8102 - loss: 0.5441\n",
      "Epoch 35/100\n",
      "\u001b[1m264/264\u001b[0m \u001b[32m━━━━━━━━━━━━━━━━━━━━\u001b[0m\u001b[37m\u001b[0m \u001b[1m0s\u001b[0m 636us/step - accuracy: 0.8111 - loss: 0.5440\n",
      "Epoch 36/100\n",
      "\u001b[1m264/264\u001b[0m \u001b[32m━━━━━━━━━━━━━━━━━━━━\u001b[0m\u001b[37m\u001b[0m \u001b[1m0s\u001b[0m 589us/step - accuracy: 0.8136 - loss: 0.5399\n",
      "Epoch 37/100\n",
      "\u001b[1m264/264\u001b[0m \u001b[32m━━━━━━━━━━━━━━━━━━━━\u001b[0m\u001b[37m\u001b[0m \u001b[1m0s\u001b[0m 625us/step - accuracy: 0.8156 - loss: 0.5359\n",
      "Epoch 38/100\n",
      "\u001b[1m264/264\u001b[0m \u001b[32m━━━━━━━━━━━━━━━━━━━━\u001b[0m\u001b[37m\u001b[0m \u001b[1m0s\u001b[0m 872us/step - accuracy: 0.8218 - loss: 0.5332\n",
      "Epoch 39/100\n",
      "\u001b[1m264/264\u001b[0m \u001b[32m━━━━━━━━━━━━━━━━━━━━\u001b[0m\u001b[37m\u001b[0m \u001b[1m0s\u001b[0m 578us/step - accuracy: 0.8211 - loss: 0.5221\n",
      "Epoch 40/100\n",
      "\u001b[1m264/264\u001b[0m \u001b[32m━━━━━━━━━━━━━━━━━━━━\u001b[0m\u001b[37m\u001b[0m \u001b[1m0s\u001b[0m 549us/step - accuracy: 0.8217 - loss: 0.5225\n",
      "Epoch 41/100\n",
      "\u001b[1m264/264\u001b[0m \u001b[32m━━━━━━━━━━━━━━━━━━━━\u001b[0m\u001b[37m\u001b[0m \u001b[1m0s\u001b[0m 570us/step - accuracy: 0.8248 - loss: 0.5178\n",
      "Epoch 42/100\n",
      "\u001b[1m264/264\u001b[0m \u001b[32m━━━━━━━━━━━━━━━━━━━━\u001b[0m\u001b[37m\u001b[0m \u001b[1m0s\u001b[0m 601us/step - accuracy: 0.8256 - loss: 0.5098\n",
      "Epoch 43/100\n",
      "\u001b[1m264/264\u001b[0m \u001b[32m━━━━━━━━━━━━━━━━━━━━\u001b[0m\u001b[37m\u001b[0m \u001b[1m0s\u001b[0m 590us/step - accuracy: 0.8266 - loss: 0.5039\n",
      "Epoch 44/100\n",
      "\u001b[1m264/264\u001b[0m \u001b[32m━━━━━━━━━━━━━━━━━━━━\u001b[0m\u001b[37m\u001b[0m \u001b[1m0s\u001b[0m 606us/step - accuracy: 0.8349 - loss: 0.5018\n",
      "Epoch 45/100\n",
      "\u001b[1m264/264\u001b[0m \u001b[32m━━━━━━━━━━━━━━━━━━━━\u001b[0m\u001b[37m\u001b[0m \u001b[1m0s\u001b[0m 656us/step - accuracy: 0.8257 - loss: 0.5195\n",
      "Epoch 46/100\n",
      "\u001b[1m264/264\u001b[0m \u001b[32m━━━━━━━━━━━━━━━━━━━━\u001b[0m\u001b[37m\u001b[0m \u001b[1m0s\u001b[0m 533us/step - accuracy: 0.8260 - loss: 0.5129\n",
      "Epoch 47/100\n",
      "\u001b[1m264/264\u001b[0m \u001b[32m━━━━━━━━━━━━━━━━━━━━\u001b[0m\u001b[37m\u001b[0m \u001b[1m0s\u001b[0m 592us/step - accuracy: 0.8273 - loss: 0.5073\n",
      "Epoch 48/100\n",
      "\u001b[1m264/264\u001b[0m \u001b[32m━━━━━━━━━━━━━━━━━━━━\u001b[0m\u001b[37m\u001b[0m \u001b[1m0s\u001b[0m 592us/step - accuracy: 0.8356 - loss: 0.4970\n",
      "Epoch 49/100\n",
      "\u001b[1m264/264\u001b[0m \u001b[32m━━━━━━━━━━━━━━━━━━━━\u001b[0m\u001b[37m\u001b[0m \u001b[1m0s\u001b[0m 624us/step - accuracy: 0.8359 - loss: 0.4977\n",
      "Epoch 50/100\n",
      "\u001b[1m264/264\u001b[0m \u001b[32m━━━━━━━━━━━━━━━━━━━━\u001b[0m\u001b[37m\u001b[0m \u001b[1m0s\u001b[0m 833us/step - accuracy: 0.8287 - loss: 0.5044\n",
      "Epoch 51/100\n",
      "\u001b[1m264/264\u001b[0m \u001b[32m━━━━━━━━━━━━━━━━━━━━\u001b[0m\u001b[37m\u001b[0m \u001b[1m0s\u001b[0m 573us/step - accuracy: 0.8226 - loss: 0.5232\n",
      "Epoch 52/100\n",
      "\u001b[1m264/264\u001b[0m \u001b[32m━━━━━━━━━━━━━━━━━━━━\u001b[0m\u001b[37m\u001b[0m \u001b[1m0s\u001b[0m 662us/step - accuracy: 0.8393 - loss: 0.4913\n",
      "Epoch 53/100\n",
      "\u001b[1m264/264\u001b[0m \u001b[32m━━━━━━━━━━━━━━━━━━━━\u001b[0m\u001b[37m\u001b[0m \u001b[1m0s\u001b[0m 606us/step - accuracy: 0.8367 - loss: 0.4896\n",
      "Epoch 54/100\n",
      "\u001b[1m264/264\u001b[0m \u001b[32m━━━━━━━━━━━━━━━━━━━━\u001b[0m\u001b[37m\u001b[0m \u001b[1m0s\u001b[0m 591us/step - accuracy: 0.8416 - loss: 0.4885\n",
      "Epoch 55/100\n",
      "\u001b[1m264/264\u001b[0m \u001b[32m━━━━━━━━━━━━━━━━━━━━\u001b[0m\u001b[37m\u001b[0m \u001b[1m0s\u001b[0m 554us/step - accuracy: 0.8415 - loss: 0.4842\n",
      "Epoch 56/100\n",
      "\u001b[1m264/264\u001b[0m \u001b[32m━━━━━━━━━━━━━━━━━━━━\u001b[0m\u001b[37m\u001b[0m \u001b[1m0s\u001b[0m 605us/step - accuracy: 0.8376 - loss: 0.4921\n",
      "Epoch 57/100\n",
      "\u001b[1m264/264\u001b[0m \u001b[32m━━━━━━━━━━━━━━━━━━━━\u001b[0m\u001b[37m\u001b[0m \u001b[1m0s\u001b[0m 587us/step - accuracy: 0.8373 - loss: 0.4891\n",
      "Epoch 58/100\n",
      "\u001b[1m264/264\u001b[0m \u001b[32m━━━━━━━━━━━━━━━━━━━━\u001b[0m\u001b[37m\u001b[0m \u001b[1m0s\u001b[0m 575us/step - accuracy: 0.8411 - loss: 0.4802\n",
      "Epoch 59/100\n",
      "\u001b[1m264/264\u001b[0m \u001b[32m━━━━━━━━━━━━━━━━━━━━\u001b[0m\u001b[37m\u001b[0m \u001b[1m0s\u001b[0m 586us/step - accuracy: 0.8352 - loss: 0.4904\n",
      "Epoch 60/100\n",
      "\u001b[1m264/264\u001b[0m \u001b[32m━━━━━━━━━━━━━━━━━━━━\u001b[0m\u001b[37m\u001b[0m \u001b[1m0s\u001b[0m 553us/step - accuracy: 0.8401 - loss: 0.4805\n",
      "Epoch 61/100\n",
      "\u001b[1m264/264\u001b[0m \u001b[32m━━━━━━━━━━━━━━━━━━━━\u001b[0m\u001b[37m\u001b[0m \u001b[1m0s\u001b[0m 696us/step - accuracy: 0.8406 - loss: 0.4869\n",
      "Epoch 62/100\n",
      "\u001b[1m264/264\u001b[0m \u001b[32m━━━━━━━━━━━━━━━━━━━━\u001b[0m\u001b[37m\u001b[0m \u001b[1m0s\u001b[0m 833us/step - accuracy: 0.8447 - loss: 0.4757\n",
      "Epoch 63/100\n",
      "\u001b[1m264/264\u001b[0m \u001b[32m━━━━━━━━━━━━━━━━━━━━\u001b[0m\u001b[37m\u001b[0m \u001b[1m0s\u001b[0m 565us/step - accuracy: 0.8436 - loss: 0.4861\n",
      "Epoch 64/100\n",
      "\u001b[1m264/264\u001b[0m \u001b[32m━━━━━━━━━━━━━━━━━━━━\u001b[0m\u001b[37m\u001b[0m \u001b[1m0s\u001b[0m 564us/step - accuracy: 0.8545 - loss: 0.4589\n",
      "Epoch 65/100\n",
      "\u001b[1m264/264\u001b[0m \u001b[32m━━━━━━━━━━━━━━━━━━━━\u001b[0m\u001b[37m\u001b[0m \u001b[1m0s\u001b[0m 613us/step - accuracy: 0.8548 - loss: 0.4534\n",
      "Epoch 66/100\n",
      "\u001b[1m264/264\u001b[0m \u001b[32m━━━━━━━━━━━━━━━━━━━━\u001b[0m\u001b[37m\u001b[0m \u001b[1m0s\u001b[0m 534us/step - accuracy: 0.8504 - loss: 0.4600\n",
      "Epoch 67/100\n",
      "\u001b[1m264/264\u001b[0m \u001b[32m━━━━━━━━━━━━━━━━━━━━\u001b[0m\u001b[37m\u001b[0m \u001b[1m0s\u001b[0m 613us/step - accuracy: 0.8475 - loss: 0.4808\n",
      "Epoch 68/100\n",
      "\u001b[1m264/264\u001b[0m \u001b[32m━━━━━━━━━━━━━━━━━━━━\u001b[0m\u001b[37m\u001b[0m \u001b[1m0s\u001b[0m 583us/step - accuracy: 0.8532 - loss: 0.4578\n",
      "Epoch 69/100\n",
      "\u001b[1m264/264\u001b[0m \u001b[32m━━━━━━━━━━━━━━━━━━━━\u001b[0m\u001b[37m\u001b[0m \u001b[1m0s\u001b[0m 766us/step - accuracy: 0.8472 - loss: 0.4711\n",
      "Epoch 70/100\n",
      "\u001b[1m264/264\u001b[0m \u001b[32m━━━━━━━━━━━━━━━━━━━━\u001b[0m\u001b[37m\u001b[0m \u001b[1m0s\u001b[0m 590us/step - accuracy: 0.8562 - loss: 0.4577\n",
      "Epoch 71/100\n",
      "\u001b[1m264/264\u001b[0m \u001b[32m━━━━━━━━━━━━━━━━━━━━\u001b[0m\u001b[37m\u001b[0m \u001b[1m0s\u001b[0m 558us/step - accuracy: 0.8554 - loss: 0.4620\n",
      "Epoch 72/100\n",
      "\u001b[1m264/264\u001b[0m \u001b[32m━━━━━━━━━━━━━━━━━━━━\u001b[0m\u001b[37m\u001b[0m \u001b[1m0s\u001b[0m 538us/step - accuracy: 0.8563 - loss: 0.4539\n",
      "Epoch 73/100\n",
      "\u001b[1m264/264\u001b[0m \u001b[32m━━━━━━━━━━━━━━━━━━━━\u001b[0m\u001b[37m\u001b[0m \u001b[1m0s\u001b[0m 832us/step - accuracy: 0.8578 - loss: 0.4466\n",
      "Epoch 74/100\n",
      "\u001b[1m264/264\u001b[0m \u001b[32m━━━━━━━━━━━━━━━━━━━━\u001b[0m\u001b[37m\u001b[0m \u001b[1m0s\u001b[0m 616us/step - accuracy: 0.8553 - loss: 0.4544\n",
      "Epoch 75/100\n",
      "\u001b[1m264/264\u001b[0m \u001b[32m━━━━━━━━━━━━━━━━━━━━\u001b[0m\u001b[37m\u001b[0m \u001b[1m0s\u001b[0m 529us/step - accuracy: 0.8624 - loss: 0.4378\n",
      "Epoch 76/100\n",
      "\u001b[1m264/264\u001b[0m \u001b[32m━━━━━━━━━━━━━━━━━━━━\u001b[0m\u001b[37m\u001b[0m \u001b[1m0s\u001b[0m 634us/step - accuracy: 0.8651 - loss: 0.4371\n",
      "Epoch 77/100\n",
      "\u001b[1m264/264\u001b[0m \u001b[32m━━━━━━━━━━━━━━━━━━━━\u001b[0m\u001b[37m\u001b[0m \u001b[1m0s\u001b[0m 776us/step - accuracy: 0.8610 - loss: 0.4338\n",
      "Epoch 78/100\n",
      "\u001b[1m264/264\u001b[0m \u001b[32m━━━━━━━━━━━━━━━━━━━━\u001b[0m\u001b[37m\u001b[0m \u001b[1m0s\u001b[0m 587us/step - accuracy: 0.8605 - loss: 0.4434\n",
      "Epoch 79/100\n",
      "\u001b[1m264/264\u001b[0m \u001b[32m━━━━━━━━━━━━━━━━━━━━\u001b[0m\u001b[37m\u001b[0m \u001b[1m0s\u001b[0m 610us/step - accuracy: 0.8582 - loss: 0.4504\n",
      "Epoch 80/100\n",
      "\u001b[1m264/264\u001b[0m \u001b[32m━━━━━━━━━━━━━━━━━━━━\u001b[0m\u001b[37m\u001b[0m \u001b[1m0s\u001b[0m 576us/step - accuracy: 0.8532 - loss: 0.4585\n",
      "Epoch 81/100\n",
      "\u001b[1m264/264\u001b[0m \u001b[32m━━━━━━━━━━━━━━━━━━━━\u001b[0m\u001b[37m\u001b[0m \u001b[1m0s\u001b[0m 582us/step - accuracy: 0.8550 - loss: 0.4493\n",
      "Epoch 82/100\n",
      "\u001b[1m264/264\u001b[0m \u001b[32m━━━━━━━━━━━━━━━━━━━━\u001b[0m\u001b[37m\u001b[0m \u001b[1m0s\u001b[0m 606us/step - accuracy: 0.8581 - loss: 0.4383\n",
      "Epoch 83/100\n",
      "\u001b[1m264/264\u001b[0m \u001b[32m━━━━━━━━━━━━━━━━━━━━\u001b[0m\u001b[37m\u001b[0m \u001b[1m0s\u001b[0m 614us/step - accuracy: 0.8617 - loss: 0.4381\n",
      "Epoch 84/100\n",
      "\u001b[1m264/264\u001b[0m \u001b[32m━━━━━━━━━━━━━━━━━━━━\u001b[0m\u001b[37m\u001b[0m \u001b[1m0s\u001b[0m 828us/step - accuracy: 0.8589 - loss: 0.4401\n",
      "Epoch 85/100\n",
      "\u001b[1m264/264\u001b[0m \u001b[32m━━━━━━━━━━━━━━━━━━━━\u001b[0m\u001b[37m\u001b[0m \u001b[1m0s\u001b[0m 665us/step - accuracy: 0.8589 - loss: 0.4470\n",
      "Epoch 86/100\n",
      "\u001b[1m264/264\u001b[0m \u001b[32m━━━━━━━━━━━━━━━━━━━━\u001b[0m\u001b[37m\u001b[0m \u001b[1m0s\u001b[0m 655us/step - accuracy: 0.8656 - loss: 0.4356\n",
      "Epoch 87/100\n",
      "\u001b[1m264/264\u001b[0m \u001b[32m━━━━━━━━━━━━━━━━━━━━\u001b[0m\u001b[37m\u001b[0m \u001b[1m0s\u001b[0m 611us/step - accuracy: 0.8589 - loss: 0.4290\n",
      "Epoch 88/100\n",
      "\u001b[1m264/264\u001b[0m \u001b[32m━━━━━━━━━━━━━━━━━━━━\u001b[0m\u001b[37m\u001b[0m \u001b[1m0s\u001b[0m 614us/step - accuracy: 0.8684 - loss: 0.4334\n",
      "Epoch 89/100\n",
      "\u001b[1m264/264\u001b[0m \u001b[32m━━━━━━━━━━━━━━━━━━━━\u001b[0m\u001b[37m\u001b[0m \u001b[1m0s\u001b[0m 570us/step - accuracy: 0.8654 - loss: 0.4346\n",
      "Epoch 90/100\n",
      "\u001b[1m264/264\u001b[0m \u001b[32m━━━━━━━━━━━━━━━━━━━━\u001b[0m\u001b[37m\u001b[0m \u001b[1m0s\u001b[0m 570us/step - accuracy: 0.8659 - loss: 0.4332\n",
      "Epoch 91/100\n",
      "\u001b[1m264/264\u001b[0m \u001b[32m━━━━━━━━━━━━━━━━━━━━\u001b[0m\u001b[37m\u001b[0m \u001b[1m0s\u001b[0m 614us/step - accuracy: 0.8545 - loss: 0.4561\n",
      "Epoch 92/100\n",
      "\u001b[1m264/264\u001b[0m \u001b[32m━━━━━━━━━━━━━━━━━━━━\u001b[0m\u001b[37m\u001b[0m \u001b[1m0s\u001b[0m 881us/step - accuracy: 0.8687 - loss: 0.4245\n",
      "Epoch 93/100\n",
      "\u001b[1m264/264\u001b[0m \u001b[32m━━━━━━━━━━━━━━━━━━━━\u001b[0m\u001b[37m\u001b[0m \u001b[1m0s\u001b[0m 613us/step - accuracy: 0.8606 - loss: 0.4329\n",
      "Epoch 94/100\n",
      "\u001b[1m264/264\u001b[0m \u001b[32m━━━━━━━━━━━━━━━━━━━━\u001b[0m\u001b[37m\u001b[0m \u001b[1m0s\u001b[0m 766us/step - accuracy: 0.8670 - loss: 0.4272\n",
      "Epoch 95/100\n",
      "\u001b[1m264/264\u001b[0m \u001b[32m━━━━━━━━━━━━━━━━━━━━\u001b[0m\u001b[37m\u001b[0m \u001b[1m0s\u001b[0m 679us/step - accuracy: 0.8609 - loss: 0.4415\n",
      "Epoch 96/100\n",
      "\u001b[1m264/264\u001b[0m \u001b[32m━━━━━━━━━━━━━━━━━━━━\u001b[0m\u001b[37m\u001b[0m \u001b[1m0s\u001b[0m 596us/step - accuracy: 0.8549 - loss: 0.4516\n",
      "Epoch 97/100\n",
      "\u001b[1m264/264\u001b[0m \u001b[32m━━━━━━━━━━━━━━━━━━━━\u001b[0m\u001b[37m\u001b[0m \u001b[1m0s\u001b[0m 553us/step - accuracy: 0.8600 - loss: 0.4363\n",
      "Epoch 98/100\n",
      "\u001b[1m264/264\u001b[0m \u001b[32m━━━━━━━━━━━━━━━━━━━━\u001b[0m\u001b[37m\u001b[0m \u001b[1m0s\u001b[0m 589us/step - accuracy: 0.8606 - loss: 0.4416\n",
      "Epoch 99/100\n",
      "\u001b[1m264/264\u001b[0m \u001b[32m━━━━━━━━━━━━━━━━━━━━\u001b[0m\u001b[37m\u001b[0m \u001b[1m0s\u001b[0m 621us/step - accuracy: 0.8668 - loss: 0.4334\n",
      "Epoch 100/100\n",
      "\u001b[1m264/264\u001b[0m \u001b[32m━━━━━━━━━━━━━━━━━━━━\u001b[0m\u001b[37m\u001b[0m \u001b[1m0s\u001b[0m 619us/step - accuracy: 0.8656 - loss: 0.4230\n"
     ]
    }
   ],
   "source": [
    "history = model.fit(X_resampled, y_resampled, epochs=100, batch_size=48)"
   ]
  },
  {
   "cell_type": "code",
   "execution_count": 67,
   "metadata": {},
   "outputs": [
    {
     "data": {
      "image/png": "[encoded data removed]",
      "text/plain": [
       "<Figure size 640x480 with 1 Axes>"
      ]
     },
     "metadata": {},
     "output_type": "display_data"
    },
    {
     "ename": "ValueError",
     "evalue": "Exception encountered when calling Sequential.call().\n\n\u001b[1mInput 0 of layer \"dense\" is incompatible with the layer: expected axis -1 of input shape to have value 25, but received input with shape (32, 65)\u001b[0m\n\nArguments received by Sequential.call():\n  • inputs=tf.Tensor(shape=(32, 65), dtype=float32)\n  • training=False\n  • mask=None",
     "output_type": "error",
     "traceback": [
      "\u001b[0;31m---------------------------------------------------------------------------\u001b[0m",
      "\u001b[0;31mValueError\u001b[0m                                Traceback (most recent call last)",
      "Cell \u001b[0;32mIn[67], line 11\u001b[0m\n\u001b[1;32m      8\u001b[0m plt\u001b[38;5;241m.\u001b[39mshow()\n\u001b[1;32m     10\u001b[0m \u001b[38;5;66;03m# Obtendo a acuracia usando accuracy_score()\u001b[39;00m\n\u001b[0;32m---> 11\u001b[0m pred \u001b[38;5;241m=\u001b[39m np\u001b[38;5;241m.\u001b[39mround(\u001b[43mmodel\u001b[49m\u001b[38;5;241;43m.\u001b[39;49m\u001b[43mpredict\u001b[49m\u001b[43m(\u001b[49m\u001b[43mX_train\u001b[49m\u001b[43m)\u001b[49m)\n\u001b[1;32m     12\u001b[0m acc_train \u001b[38;5;241m=\u001b[39m accuracy_score(y_train, pred)\n\u001b[1;32m     14\u001b[0m \u001b[38;5;66;03m# Obtendo a acuracia usando evaluate()\u001b[39;00m\n",
      "File \u001b[0;32m~/.local/lib/python3.12/site-packages/keras/src/utils/traceback_utils.py:122\u001b[0m, in \u001b[0;36mfilter_traceback.<locals>.error_handler\u001b[0;34m(*args, **kwargs)\u001b[0m\n\u001b[1;32m    119\u001b[0m     filtered_tb \u001b[38;5;241m=\u001b[39m _process_traceback_frames(e\u001b[38;5;241m.\u001b[39m__traceback__)\n\u001b[1;32m    120\u001b[0m     \u001b[38;5;66;03m# To get the full stack trace, call:\u001b[39;00m\n\u001b[1;32m    121\u001b[0m     \u001b[38;5;66;03m# `keras.config.disable_traceback_filtering()`\u001b[39;00m\n\u001b[0;32m--> 122\u001b[0m     \u001b[38;5;28;01mraise\u001b[39;00m e\u001b[38;5;241m.\u001b[39mwith_traceback(filtered_tb) \u001b[38;5;28;01mfrom\u001b[39;00m \u001b[38;5;28;01mNone\u001b[39;00m\n\u001b[1;32m    123\u001b[0m \u001b[38;5;28;01mfinally\u001b[39;00m:\n\u001b[1;32m    124\u001b[0m     \u001b[38;5;28;01mdel\u001b[39;00m filtered_tb\n",
      "File \u001b[0;32m~/.local/lib/python3.12/site-packages/keras/src/layers/input_spec.py:227\u001b[0m, in \u001b[0;36massert_input_compatibility\u001b[0;34m(input_spec, inputs, layer_name)\u001b[0m\n\u001b[1;32m    222\u001b[0m     \u001b[38;5;28;01mfor\u001b[39;00m axis, value \u001b[38;5;129;01min\u001b[39;00m spec\u001b[38;5;241m.\u001b[39maxes\u001b[38;5;241m.\u001b[39mitems():\n\u001b[1;32m    223\u001b[0m         \u001b[38;5;28;01mif\u001b[39;00m value \u001b[38;5;129;01mis\u001b[39;00m \u001b[38;5;129;01mnot\u001b[39;00m \u001b[38;5;28;01mNone\u001b[39;00m \u001b[38;5;129;01mand\u001b[39;00m shape[axis] \u001b[38;5;129;01mnot\u001b[39;00m \u001b[38;5;129;01min\u001b[39;00m {\n\u001b[1;32m    224\u001b[0m             value,\n\u001b[1;32m    225\u001b[0m             \u001b[38;5;28;01mNone\u001b[39;00m,\n\u001b[1;32m    226\u001b[0m         }:\n\u001b[0;32m--> 227\u001b[0m             \u001b[38;5;28;01mraise\u001b[39;00m \u001b[38;5;167;01mValueError\u001b[39;00m(\n\u001b[1;32m    228\u001b[0m                 \u001b[38;5;124mf\u001b[39m\u001b[38;5;124m'\u001b[39m\u001b[38;5;124mInput \u001b[39m\u001b[38;5;132;01m{\u001b[39;00minput_index\u001b[38;5;132;01m}\u001b[39;00m\u001b[38;5;124m of layer \u001b[39m\u001b[38;5;124m\"\u001b[39m\u001b[38;5;132;01m{\u001b[39;00mlayer_name\u001b[38;5;132;01m}\u001b[39;00m\u001b[38;5;124m\"\u001b[39m\u001b[38;5;124m is \u001b[39m\u001b[38;5;124m'\u001b[39m\n\u001b[1;32m    229\u001b[0m                 \u001b[38;5;124mf\u001b[39m\u001b[38;5;124m\"\u001b[39m\u001b[38;5;124mincompatible with the layer: expected axis \u001b[39m\u001b[38;5;132;01m{\u001b[39;00maxis\u001b[38;5;132;01m}\u001b[39;00m\u001b[38;5;124m \u001b[39m\u001b[38;5;124m\"\u001b[39m\n\u001b[1;32m    230\u001b[0m                 \u001b[38;5;124mf\u001b[39m\u001b[38;5;124m\"\u001b[39m\u001b[38;5;124mof input shape to have value \u001b[39m\u001b[38;5;132;01m{\u001b[39;00mvalue\u001b[38;5;132;01m}\u001b[39;00m\u001b[38;5;124m, \u001b[39m\u001b[38;5;124m\"\u001b[39m\n\u001b[1;32m    231\u001b[0m                 \u001b[38;5;124m\"\u001b[39m\u001b[38;5;124mbut received input with \u001b[39m\u001b[38;5;124m\"\u001b[39m\n\u001b[1;32m    232\u001b[0m                 \u001b[38;5;124mf\u001b[39m\u001b[38;5;124m\"\u001b[39m\u001b[38;5;124mshape \u001b[39m\u001b[38;5;132;01m{\u001b[39;00mshape\u001b[38;5;132;01m}\u001b[39;00m\u001b[38;5;124m\"\u001b[39m\n\u001b[1;32m    233\u001b[0m             )\n\u001b[1;32m    234\u001b[0m \u001b[38;5;66;03m# Check shape.\u001b[39;00m\n\u001b[1;32m    235\u001b[0m \u001b[38;5;28;01mif\u001b[39;00m spec\u001b[38;5;241m.\u001b[39mshape \u001b[38;5;129;01mis\u001b[39;00m \u001b[38;5;129;01mnot\u001b[39;00m \u001b[38;5;28;01mNone\u001b[39;00m:\n",
      "\u001b[0;31mValueError\u001b[0m: Exception encountered when calling Sequential.call().\n\n\u001b[1mInput 0 of layer \"dense\" is incompatible with the layer: expected axis -1 of input shape to have value 25, but received input with shape (32, 65)\u001b[0m\n\nArguments received by Sequential.call():\n  • inputs=tf.Tensor(shape=(32, 65), dtype=float32)\n  • training=False\n  • mask=None"
     ]
    }
   ],
   "source": [
    "from sklearn.metrics import accuracy_score\n",
    "\n",
    "plt.plot(history.history['loss'])\n",
    "plt.title('Metrica de erro')\n",
    "plt.ylabel('Erro')\n",
    "plt.xlabel('Epoca')\n",
    "plt.legend(['Treinamento'])\n",
    "plt.show()\n",
    "\n",
    "# Obtendo a acuracia usando accuracy_score()\n",
    "pred = np.round(model.predict(X_resampled))\n",
    "acc_train = accuracy_score(y_train, pred)\n",
    "\n",
    "# Obtendo a acuracia usando evaluate()\n",
    "E_out, acc_test = model.evaluate(X_test, y_test, batch_size=48, verbose=0)\n",
    "\n",
    "print(f'\\n--> Acuracia (treino): {acc_train:.4f}')\n",
    "print(f'--> Acuracia (teste): {acc_test:.4f}')\n",
    "print(f\"--> E_out - E_in = {E_out - history.history['loss'][-1]:.4f}\")\n",
    "print(f\"--> acc_train - acc_test = {acc_train - acc_test:.4f}\")"
   ]
  },
  {
   "cell_type": "code",
   "execution_count": 27,
   "metadata": {},
   "outputs": [
    {
     "name": "stderr",
     "output_type": "stream",
     "text": [
      "/home/erlo/miniconda3/envs/aprendizagem/lib/python3.9/site-packages/keras/src/layers/core/dense.py:87: UserWarning: Do not pass an `input_shape`/`input_dim` argument to a layer. When using Sequential models, prefer using an `Input(shape)` object as the first layer in the model instead.\n",
      "  super().__init__(activity_regularizer=activity_regularizer, **kwargs)\n"
     ]
    },
    {
     "data": {
      "text/html": [
       "<pre style=\"white-space:pre;overflow-x:auto;line-height:normal;font-family:Menlo,'DejaVu Sans Mono',consolas,'Courier New',monospace\"><span style=\"font-weight: bold\">Model: \"sequential_9\"</span>\n",
       "</pre>\n"
      ],
      "text/plain": [
       "\u001b[1mModel: \"sequential_9\"\u001b[0m\n"
      ]
     },
     "metadata": {},
     "output_type": "display_data"
    },
    {
     "data": {
      "text/html": [
       "<pre style=\"white-space:pre;overflow-x:auto;line-height:normal;font-family:Menlo,'DejaVu Sans Mono',consolas,'Courier New',monospace\">┏━━━━━━━━━━━━━━━━━━━━━━━━━━━━━━━━━┳━━━━━━━━━━━━━━━━━━━━━━━━┳━━━━━━━━━━━━━━━┓\n",
       "┃<span style=\"font-weight: bold\"> Layer (type)                    </span>┃<span style=\"font-weight: bold\"> Output Shape           </span>┃<span style=\"font-weight: bold\">       Param # </span>┃\n",
       "┡━━━━━━━━━━━━━━━━━━━━━━━━━━━━━━━━━╇━━━━━━━━━━━━━━━━━━━━━━━━╇━━━━━━━━━━━━━━━┩\n",
       "│ dense_27 (<span style=\"color: #0087ff; text-decoration-color: #0087ff\">Dense</span>)                │ (<span style=\"color: #00d7ff; text-decoration-color: #00d7ff\">None</span>, <span style=\"color: #00af00; text-decoration-color: #00af00\">4</span>)              │            <span style=\"color: #00af00; text-decoration-color: #00af00\">28</span> │\n",
       "├─────────────────────────────────┼────────────────────────┼───────────────┤\n",
       "│ dense_28 (<span style=\"color: #0087ff; text-decoration-color: #0087ff\">Dense</span>)                │ (<span style=\"color: #00d7ff; text-decoration-color: #00d7ff\">None</span>, <span style=\"color: #00af00; text-decoration-color: #00af00\">4</span>)              │            <span style=\"color: #00af00; text-decoration-color: #00af00\">20</span> │\n",
       "├─────────────────────────────────┼────────────────────────┼───────────────┤\n",
       "│ dense_29 (<span style=\"color: #0087ff; text-decoration-color: #0087ff\">Dense</span>)                │ (<span style=\"color: #00d7ff; text-decoration-color: #00d7ff\">None</span>, <span style=\"color: #00af00; text-decoration-color: #00af00\">4</span>)              │            <span style=\"color: #00af00; text-decoration-color: #00af00\">20</span> │\n",
       "└─────────────────────────────────┴────────────────────────┴───────────────┘\n",
       "</pre>\n"
      ],
      "text/plain": [
       "┏━━━━━━━━━━━━━━━━━━━━━━━━━━━━━━━━━┳━━━━━━━━━━━━━━━━━━━━━━━━┳━━━━━━━━━━━━━━━┓\n",
       "┃\u001b[1m \u001b[0m\u001b[1mLayer (type)                   \u001b[0m\u001b[1m \u001b[0m┃\u001b[1m \u001b[0m\u001b[1mOutput Shape          \u001b[0m\u001b[1m \u001b[0m┃\u001b[1m \u001b[0m\u001b[1m      Param #\u001b[0m\u001b[1m \u001b[0m┃\n",
       "┡━━━━━━━━━━━━━━━━━━━━━━━━━━━━━━━━━╇━━━━━━━━━━━━━━━━━━━━━━━━╇━━━━━━━━━━━━━━━┩\n",
       "│ dense_27 (\u001b[38;5;33mDense\u001b[0m)                │ (\u001b[38;5;45mNone\u001b[0m, \u001b[38;5;34m4\u001b[0m)              │            \u001b[38;5;34m28\u001b[0m │\n",
       "├─────────────────────────────────┼────────────────────────┼───────────────┤\n",
       "│ dense_28 (\u001b[38;5;33mDense\u001b[0m)                │ (\u001b[38;5;45mNone\u001b[0m, \u001b[38;5;34m4\u001b[0m)              │            \u001b[38;5;34m20\u001b[0m │\n",
       "├─────────────────────────────────┼────────────────────────┼───────────────┤\n",
       "│ dense_29 (\u001b[38;5;33mDense\u001b[0m)                │ (\u001b[38;5;45mNone\u001b[0m, \u001b[38;5;34m4\u001b[0m)              │            \u001b[38;5;34m20\u001b[0m │\n",
       "└─────────────────────────────────┴────────────────────────┴───────────────┘\n"
      ]
     },
     "metadata": {},
     "output_type": "display_data"
    },
    {
     "data": {
      "text/html": [
       "<pre style=\"white-space:pre;overflow-x:auto;line-height:normal;font-family:Menlo,'DejaVu Sans Mono',consolas,'Courier New',monospace\"><span style=\"font-weight: bold\"> Total params: </span><span style=\"color: #00af00; text-decoration-color: #00af00\">68</span> (272.00 B)\n",
       "</pre>\n"
      ],
      "text/plain": [
       "\u001b[1m Total params: \u001b[0m\u001b[38;5;34m68\u001b[0m (272.00 B)\n"
      ]
     },
     "metadata": {},
     "output_type": "display_data"
    },
    {
     "data": {
      "text/html": [
       "<pre style=\"white-space:pre;overflow-x:auto;line-height:normal;font-family:Menlo,'DejaVu Sans Mono',consolas,'Courier New',monospace\"><span style=\"font-weight: bold\"> Trainable params: </span><span style=\"color: #00af00; text-decoration-color: #00af00\">68</span> (272.00 B)\n",
       "</pre>\n"
      ],
      "text/plain": [
       "\u001b[1m Trainable params: \u001b[0m\u001b[38;5;34m68\u001b[0m (272.00 B)\n"
      ]
     },
     "metadata": {},
     "output_type": "display_data"
    },
    {
     "data": {
      "text/html": [
       "<pre style=\"white-space:pre;overflow-x:auto;line-height:normal;font-family:Menlo,'DejaVu Sans Mono',consolas,'Courier New',monospace\"><span style=\"font-weight: bold\"> Non-trainable params: </span><span style=\"color: #00af00; text-decoration-color: #00af00\">0</span> (0.00 B)\n",
       "</pre>\n"
      ],
      "text/plain": [
       "\u001b[1m Non-trainable params: \u001b[0m\u001b[38;5;34m0\u001b[0m (0.00 B)\n"
      ]
     },
     "metadata": {},
     "output_type": "display_data"
    }
   ],
   "source": [
    "# conjunto 2\n",
    "X = df[['leitura_jornais', 'leitura_revista_comportamento', 'mae_sabe_ler_escrever', 'pai_sabe_ler_escrever',\n",
    "        'frequenta_biblioteca', 'utiliza_biblioteca_escola']]\n",
    "y = df['desempenho_aluno_cat']\n",
    "\n",
    "X_train, X_test, y_train, y_test = train_test_split(X, y, test_size=0.2, random_state=42)\n",
    "\n",
    "X_train, X_val, y_train, y_val = train_test_split(X_train, y_train, test_size=0.2, random_state=42)\n",
    "\n",
    "# aplicando smote\n",
    "smote_enn = SMOTEENN(random_state=42)\n",
    "X_resampled, y_resampled = smote_enn.fit_resample(X_train, y_train)\n",
    "\n",
    "model = Sequential()\n",
    "model.add(Dense(4, input_dim=X.shape[1], activation='relu'))\n",
    "model.add(Dense(4, activation='relu'))\n",
    "\n",
    "# desempenho_aluno_cat has 4 classes\n",
    "model.add(Dense(4, activation='softmax'))\n",
    "\n",
    "es = EarlyStopping(monitor='val_loss', mode='min', verbose=1, patience=20)\n",
    "\n",
    "model.summary()\n",
    "\n",
    "# compile model\n",
    "model.compile(optimizer='adam', loss='sparse_categorical_crossentropy', metrics=['accuracy'])"
   ]
  },
  {
   "cell_type": "code",
   "execution_count": 28,
   "metadata": {},
   "outputs": [
    {
     "name": "stdout",
     "output_type": "stream",
     "text": [
      "Epoch 1/100\n",
      "\u001b[1m892/892\u001b[0m \u001b[32m━━━━━━━━━━━━━━━━━━━━\u001b[0m\u001b[37m\u001b[0m \u001b[1m1s\u001b[0m 1ms/step - accuracy: 0.4165 - loss: 1.2068 - val_accuracy: 0.5101 - val_loss: 0.9605\n",
      "Epoch 2/100\n",
      "\u001b[1m892/892\u001b[0m \u001b[32m━━━━━━━━━━━━━━━━━━━━\u001b[0m\u001b[37m\u001b[0m \u001b[1m1s\u001b[0m 1ms/step - accuracy: 0.5095 - loss: 0.9499 - val_accuracy: 0.5101 - val_loss: 0.9505\n",
      "Epoch 3/100\n",
      "\u001b[1m892/892\u001b[0m \u001b[32m━━━━━━━━━━━━━━━━━━━━\u001b[0m\u001b[37m\u001b[0m \u001b[1m1s\u001b[0m 1ms/step - accuracy: 0.5076 - loss: 0.9469 - val_accuracy: 0.5101 - val_loss: 0.9498\n",
      "Epoch 4/100\n",
      "\u001b[1m892/892\u001b[0m \u001b[32m━━━━━━━━━━━━━━━━━━━━\u001b[0m\u001b[37m\u001b[0m \u001b[1m1s\u001b[0m 1ms/step - accuracy: 0.5073 - loss: 0.9466 - val_accuracy: 0.5101 - val_loss: 0.9500\n",
      "Epoch 5/100\n",
      "\u001b[1m892/892\u001b[0m \u001b[32m━━━━━━━━━━━━━━━━━━━━\u001b[0m\u001b[37m\u001b[0m \u001b[1m1s\u001b[0m 1ms/step - accuracy: 0.5074 - loss: 0.9449 - val_accuracy: 0.5101 - val_loss: 0.9499\n",
      "Epoch 6/100\n",
      "\u001b[1m892/892\u001b[0m \u001b[32m━━━━━━━━━━━━━━━━━━━━\u001b[0m\u001b[37m\u001b[0m \u001b[1m1s\u001b[0m 1ms/step - accuracy: 0.5073 - loss: 0.9420 - val_accuracy: 0.5101 - val_loss: 0.9499\n",
      "Epoch 7/100\n",
      "\u001b[1m892/892\u001b[0m \u001b[32m━━━━━━━━━━━━━━━━━━━━\u001b[0m\u001b[37m\u001b[0m \u001b[1m1s\u001b[0m 1ms/step - accuracy: 0.5077 - loss: 0.9452 - val_accuracy: 0.5101 - val_loss: 0.9499\n",
      "Epoch 8/100\n",
      "\u001b[1m892/892\u001b[0m \u001b[32m━━━━━━━━━━━━━━━━━━━━\u001b[0m\u001b[37m\u001b[0m \u001b[1m1s\u001b[0m 1ms/step - accuracy: 0.5031 - loss: 0.9463 - val_accuracy: 0.5101 - val_loss: 0.9500\n",
      "Epoch 9/100\n",
      "\u001b[1m892/892\u001b[0m \u001b[32m━━━━━━━━━━━━━━━━━━━━\u001b[0m\u001b[37m\u001b[0m \u001b[1m1s\u001b[0m 1ms/step - accuracy: 0.5065 - loss: 0.9457 - val_accuracy: 0.5101 - val_loss: 0.9502\n",
      "Epoch 10/100\n",
      "\u001b[1m892/892\u001b[0m \u001b[32m━━━━━━━━━━━━━━━━━━━━\u001b[0m\u001b[37m\u001b[0m \u001b[1m1s\u001b[0m 1ms/step - accuracy: 0.5102 - loss: 0.9387 - val_accuracy: 0.5101 - val_loss: 0.9499\n",
      "Epoch 11/100\n",
      "\u001b[1m892/892\u001b[0m \u001b[32m━━━━━━━━━━━━━━━━━━━━\u001b[0m\u001b[37m\u001b[0m \u001b[1m1s\u001b[0m 2ms/step - accuracy: 0.5034 - loss: 0.9484 - val_accuracy: 0.5101 - val_loss: 0.9500\n",
      "Epoch 12/100\n",
      "\u001b[1m892/892\u001b[0m \u001b[32m━━━━━━━━━━━━━━━━━━━━\u001b[0m\u001b[37m\u001b[0m \u001b[1m1s\u001b[0m 1ms/step - accuracy: 0.5054 - loss: 0.9481 - val_accuracy: 0.5101 - val_loss: 0.9500\n",
      "Epoch 13/100\n",
      "\u001b[1m892/892\u001b[0m \u001b[32m━━━━━━━━━━━━━━━━━━━━\u001b[0m\u001b[37m\u001b[0m \u001b[1m1s\u001b[0m 827us/step - accuracy: 0.5101 - loss: 0.9460 - val_accuracy: 0.5101 - val_loss: 0.9500\n",
      "Epoch 14/100\n",
      "\u001b[1m892/892\u001b[0m \u001b[32m━━━━━━━━━━━━━━━━━━━━\u001b[0m\u001b[37m\u001b[0m \u001b[1m1s\u001b[0m 1ms/step - accuracy: 0.5071 - loss: 0.9429 - val_accuracy: 0.5101 - val_loss: 0.9500\n",
      "Epoch 15/100\n",
      "\u001b[1m892/892\u001b[0m \u001b[32m━━━━━━━━━━━━━━━━━━━━\u001b[0m\u001b[37m\u001b[0m \u001b[1m1s\u001b[0m 857us/step - accuracy: 0.5082 - loss: 0.9443 - val_accuracy: 0.5101 - val_loss: 0.9499\n",
      "Epoch 16/100\n",
      "\u001b[1m892/892\u001b[0m \u001b[32m━━━━━━━━━━━━━━━━━━━━\u001b[0m\u001b[37m\u001b[0m \u001b[1m1s\u001b[0m 930us/step - accuracy: 0.5064 - loss: 0.9477 - val_accuracy: 0.5101 - val_loss: 0.9501\n",
      "Epoch 17/100\n",
      "\u001b[1m892/892\u001b[0m \u001b[32m━━━━━━━━━━━━━━━━━━━━\u001b[0m\u001b[37m\u001b[0m \u001b[1m1s\u001b[0m 824us/step - accuracy: 0.5115 - loss: 0.9408 - val_accuracy: 0.5101 - val_loss: 0.9501\n",
      "Epoch 18/100\n",
      "\u001b[1m892/892\u001b[0m \u001b[32m━━━━━━━━━━━━━━━━━━━━\u001b[0m\u001b[37m\u001b[0m \u001b[1m1s\u001b[0m 837us/step - accuracy: 0.5099 - loss: 0.9410 - val_accuracy: 0.5101 - val_loss: 0.9498\n",
      "Epoch 19/100\n",
      "\u001b[1m892/892\u001b[0m \u001b[32m━━━━━━━━━━━━━━━━━━━━\u001b[0m\u001b[37m\u001b[0m \u001b[1m1s\u001b[0m 787us/step - accuracy: 0.5066 - loss: 0.9453 - val_accuracy: 0.5101 - val_loss: 0.9498\n",
      "Epoch 20/100\n",
      "\u001b[1m892/892\u001b[0m \u001b[32m━━━━━━━━━━━━━━━━━━━━\u001b[0m\u001b[37m\u001b[0m \u001b[1m1s\u001b[0m 766us/step - accuracy: 0.5085 - loss: 0.9466 - val_accuracy: 0.5101 - val_loss: 0.9500\n",
      "Epoch 21/100\n",
      "\u001b[1m892/892\u001b[0m \u001b[32m━━━━━━━━━━━━━━━━━━━━\u001b[0m\u001b[37m\u001b[0m \u001b[1m1s\u001b[0m 771us/step - accuracy: 0.5065 - loss: 0.9441 - val_accuracy: 0.5101 - val_loss: 0.9499\n",
      "Epoch 22/100\n",
      "\u001b[1m892/892\u001b[0m \u001b[32m━━━━━━━━━━━━━━━━━━━━\u001b[0m\u001b[37m\u001b[0m \u001b[1m1s\u001b[0m 821us/step - accuracy: 0.5094 - loss: 0.9400 - val_accuracy: 0.5101 - val_loss: 0.9499\n",
      "Epoch 23/100\n",
      "\u001b[1m892/892\u001b[0m \u001b[32m━━━━━━━━━━━━━━━━━━━━\u001b[0m\u001b[37m\u001b[0m \u001b[1m1s\u001b[0m 809us/step - accuracy: 0.5065 - loss: 0.9404 - val_accuracy: 0.5101 - val_loss: 0.9500\n",
      "Epoch 23: early stopping\n"
     ]
    }
   ],
   "source": [
    "history = model.fit(X_train, y_train, epochs=100, batch_size=48, validation_data=(X_val, y_val), callbacks=[es])"
   ]
  }
 ],
 "metadata": {
  "kernelspec": {
   "display_name": ".local",
   "language": "python",
   "name": "python3"
  },
  "language_info": {
   "codemirror_mode": {
    "name": "ipython",
    "version": 3
   },
   "file_extension": ".py",
   "mimetype": "text/x-python",
   "name": "python",
   "nbconvert_exporter": "python",
   "pygments_lexer": "ipython3",
   "version": "3.12.3"
  }
 },
 "nbformat": 4,
 "nbformat_minor": 2
}
