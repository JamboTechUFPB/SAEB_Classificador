{
 "cells": [
  {
   "cell_type": "code",
   "execution_count": 59,
   "metadata": {},
   "outputs": [
    {
     "data": {
      "text/html": [
       "<div>\n",
       "<style scoped>\n",
       "    .dataframe tbody tr th:only-of-type {\n",
       "        vertical-align: middle;\n",
       "    }\n",
       "\n",
       "    .dataframe tbody tr th {\n",
       "        vertical-align: top;\n",
       "    }\n",
       "\n",
       "    .dataframe thead th {\n",
       "        text-align: right;\n",
       "    }\n",
       "</style>\n",
       "<table border=\"1\" class=\"dataframe\">\n",
       "  <thead>\n",
       "    <tr style=\"text-align: right;\">\n",
       "      <th></th>\n",
       "      <th>ano</th>\n",
       "      <th>sigla_uf</th>\n",
       "      <th>escola_publica</th>\n",
       "      <th>id_aluno</th>\n",
       "      <th>situacao_censo</th>\n",
       "      <th>disciplina</th>\n",
       "      <th>proficiencia</th>\n",
       "      <th>erro_padrao</th>\n",
       "      <th>proficiencia_saeb</th>\n",
       "      <th>erro_padrao_saeb</th>\n",
       "      <th>...</th>\n",
       "      <th>frequenta_festas_comunidade</th>\n",
       "      <th>gosta_estudar_disciplina</th>\n",
       "      <th>faz_licao_casa</th>\n",
       "      <th>correcao_licao_casa</th>\n",
       "      <th>utiliza_biblioteca_escola</th>\n",
       "      <th>rede</th>\n",
       "      <th>id_escola</th>\n",
       "      <th>serie</th>\n",
       "      <th>turno</th>\n",
       "      <th>desempenho_aluno_cat</th>\n",
       "    </tr>\n",
       "  </thead>\n",
       "  <tbody>\n",
       "    <tr>\n",
       "      <th>274</th>\n",
       "      <td>2015</td>\n",
       "      <td>PB</td>\n",
       "      <td>1</td>\n",
       "      <td>17518688</td>\n",
       "      <td>0</td>\n",
       "      <td>MT</td>\n",
       "      <td>-0.472096</td>\n",
       "      <td>0.538400</td>\n",
       "      <td>223.577837</td>\n",
       "      <td>30.092429</td>\n",
       "      <td>...</td>\n",
       "      <td>1.0</td>\n",
       "      <td>1.0</td>\n",
       "      <td>2.0</td>\n",
       "      <td>2.0</td>\n",
       "      <td>0.0</td>\n",
       "      <td>2</td>\n",
       "      <td>25077147</td>\n",
       "      <td>9</td>\n",
       "      <td>1</td>\n",
       "      <td>0</td>\n",
       "    </tr>\n",
       "    <tr>\n",
       "      <th>348</th>\n",
       "      <td>2015</td>\n",
       "      <td>PB</td>\n",
       "      <td>1</td>\n",
       "      <td>17518163</td>\n",
       "      <td>0</td>\n",
       "      <td>MT</td>\n",
       "      <td>-0.809452</td>\n",
       "      <td>0.580177</td>\n",
       "      <td>204.722224</td>\n",
       "      <td>32.427443</td>\n",
       "      <td>...</td>\n",
       "      <td>1.0</td>\n",
       "      <td>0.0</td>\n",
       "      <td>1.0</td>\n",
       "      <td>2.0</td>\n",
       "      <td>1.0</td>\n",
       "      <td>2</td>\n",
       "      <td>61135320</td>\n",
       "      <td>9</td>\n",
       "      <td>1</td>\n",
       "      <td>0</td>\n",
       "    </tr>\n",
       "    <tr>\n",
       "      <th>408</th>\n",
       "      <td>2015</td>\n",
       "      <td>PB</td>\n",
       "      <td>1</td>\n",
       "      <td>17491526</td>\n",
       "      <td>0</td>\n",
       "      <td>LP</td>\n",
       "      <td>-0.828752</td>\n",
       "      <td>0.366511</td>\n",
       "      <td>204.326255</td>\n",
       "      <td>20.192323</td>\n",
       "      <td>...</td>\n",
       "      <td>NaN</td>\n",
       "      <td>1.0</td>\n",
       "      <td>1.0</td>\n",
       "      <td>2.0</td>\n",
       "      <td>1.0</td>\n",
       "      <td>2</td>\n",
       "      <td>25034820</td>\n",
       "      <td>9</td>\n",
       "      <td>1</td>\n",
       "      <td>1</td>\n",
       "    </tr>\n",
       "    <tr>\n",
       "      <th>1594</th>\n",
       "      <td>2015</td>\n",
       "      <td>PB</td>\n",
       "      <td>1</td>\n",
       "      <td>17489545</td>\n",
       "      <td>0</td>\n",
       "      <td>MT</td>\n",
       "      <td>-0.069178</td>\n",
       "      <td>0.583999</td>\n",
       "      <td>246.097862</td>\n",
       "      <td>32.641064</td>\n",
       "      <td>...</td>\n",
       "      <td>1.0</td>\n",
       "      <td>1.0</td>\n",
       "      <td>0.0</td>\n",
       "      <td>2.0</td>\n",
       "      <td>0.0</td>\n",
       "      <td>2</td>\n",
       "      <td>25030620</td>\n",
       "      <td>9</td>\n",
       "      <td>2</td>\n",
       "      <td>1</td>\n",
       "    </tr>\n",
       "    <tr>\n",
       "      <th>1847</th>\n",
       "      <td>2015</td>\n",
       "      <td>PB</td>\n",
       "      <td>1</td>\n",
       "      <td>17561474</td>\n",
       "      <td>0</td>\n",
       "      <td>MT</td>\n",
       "      <td>-0.462874</td>\n",
       "      <td>0.543093</td>\n",
       "      <td>224.093276</td>\n",
       "      <td>30.354732</td>\n",
       "      <td>...</td>\n",
       "      <td>2.0</td>\n",
       "      <td>1.0</td>\n",
       "      <td>NaN</td>\n",
       "      <td>2.0</td>\n",
       "      <td>2.0</td>\n",
       "      <td>2</td>\n",
       "      <td>25120760</td>\n",
       "      <td>9</td>\n",
       "      <td>3</td>\n",
       "      <td>0</td>\n",
       "    </tr>\n",
       "  </tbody>\n",
       "</table>\n",
       "<p>5 rows × 47 columns</p>\n",
       "</div>"
      ],
      "text/plain": [
       "       ano sigla_uf  escola_publica  id_aluno  situacao_censo disciplina  \\\n",
       "274   2015       PB               1  17518688               0         MT   \n",
       "348   2015       PB               1  17518163               0         MT   \n",
       "408   2015       PB               1  17491526               0         LP   \n",
       "1594  2015       PB               1  17489545               0         MT   \n",
       "1847  2015       PB               1  17561474               0         MT   \n",
       "\n",
       "      proficiencia  erro_padrao  proficiencia_saeb  erro_padrao_saeb  ...  \\\n",
       "274      -0.472096     0.538400         223.577837         30.092429  ...   \n",
       "348      -0.809452     0.580177         204.722224         32.427443  ...   \n",
       "408      -0.828752     0.366511         204.326255         20.192323  ...   \n",
       "1594     -0.069178     0.583999         246.097862         32.641064  ...   \n",
       "1847     -0.462874     0.543093         224.093276         30.354732  ...   \n",
       "\n",
       "     frequenta_festas_comunidade gosta_estudar_disciplina faz_licao_casa  \\\n",
       "274                          1.0                      1.0            2.0   \n",
       "348                          1.0                      0.0            1.0   \n",
       "408                          NaN                      1.0            1.0   \n",
       "1594                         1.0                      1.0            0.0   \n",
       "1847                         2.0                      1.0            NaN   \n",
       "\n",
       "      correcao_licao_casa  utiliza_biblioteca_escola  rede  id_escola  serie  \\\n",
       "274                   2.0                        0.0     2   25077147      9   \n",
       "348                   2.0                        1.0     2   61135320      9   \n",
       "408                   2.0                        1.0     2   25034820      9   \n",
       "1594                  2.0                        0.0     2   25030620      9   \n",
       "1847                  2.0                        2.0     2   25120760      9   \n",
       "\n",
       "      turno  desempenho_aluno_cat  \n",
       "274       1                     0  \n",
       "348       1                     0  \n",
       "408       1                     1  \n",
       "1594      2                     1  \n",
       "1847      3                     0  \n",
       "\n",
       "[5 rows x 47 columns]"
      ]
     },
     "execution_count": 59,
     "metadata": {},
     "output_type": "execute_result"
    }
   ],
   "source": [
    "import pandas as pd\n",
    "import numpy as np\n",
    "import seaborn as sns\n",
    "import os\n",
    "cwd = os.getcwd()\n",
    "\n",
    "ROOT = os.path.join(cwd, '../')\n",
    "DATA_FOLDER = os.path.join(ROOT, 'data/')\n",
    "\n",
    "df = pd.read_pickle(os.path.join(DATA_FOLDER, 'saeb_treated.pkl'))\n",
    "df.head()"
   ]
  },
  {
   "cell_type": "code",
   "execution_count": 60,
   "metadata": {},
   "outputs": [
    {
     "name": "stdout",
     "output_type": "stream",
     "text": [
      "idade: [14 18 17 16 15 13]\n",
      "escolaridade_mae: [ 1. nan  0.  3.  2.  5.  4.]\n",
      "mae_sabe_ler_escrever: [0 1]\n",
      "mae_le: [ 0. nan  1.]\n",
      "escolaridade_pai: [ 1.  2.  0.  3.  4.  5. nan]\n",
      "pai_sabe_ler_escrever: [ 0.  1. nan]\n",
      "pai_le: [ 0.  1. nan]\n",
      "responsaveis_incentivam_realizacao_licao_casa: [ 1.  0. nan]\n",
      "responsaveis_incentivam_estudos: [ 1.  0. nan]\n",
      "responsaveis_incentivam_leitura: [ 1.  0. nan]\n",
      "responsaveis_incentivam_comparecer_aulas: [ 1.  0. nan]\n",
      "possui_computador: [ 0. nan  1.  4.  2.  3.]\n",
      "tempo_lazer: [ 4.  1.  3.  2.  0. nan]\n",
      "leitura_jornais: [ 1.  0.  2. nan]\n",
      "leitura_livros_geral: [ 0.  1.  2. nan]\n",
      "leitura_literatura_infantojuvenil: [ 0.  2.  1. nan]\n",
      "leitura_historia_quadrinhos: [ 1.  0.  2. nan]\n",
      "leitura_revista_comportamento: [ 1.  0.  2. nan]\n",
      "leitura_revistas_geral: [ 0.  2. nan  1.]\n",
      "leitura_internet: [ 2.  0.  1. nan]\n",
      "frequenta_biblioteca: [ 0. nan  1.  2.]\n",
      "frequenta_cinema: [ 0. nan  1.  2.]\n",
      "frequenta_espetaculo_exposicao: [ 0. nan  1.  2.]\n",
      "frequenta_festas_comunidade: [ 1. nan  2.  0.]\n",
      "gosta_estudar_disciplina: [ 1.  0. nan]\n",
      "faz_licao_casa: [ 2.  1.  0. nan]\n",
      "correcao_licao_casa: [ 2.  1.  0. nan]\n",
      "utiliza_biblioteca_escola: [ 0.  1.  2. nan]\n",
      "desempenho_aluno_cat: [0 1 3 2]\n"
     ]
    }
   ],
   "source": [
    "# valores unicos para cada variável, menos as de exclude\n",
    "exclude = ['ano', 'sigla_uf', 'id_aluno', 'situacao_censo', 'disciplina', 'proficiencia', 'erro_padrao', 'proficiencia_saeb',\n",
    "       'erro_padrao_saeb', 'sexo', 'raca_cor','ano_nascimento', 'rede', 'id_escola', 'serie', 'turno', 'escola_publica', 'desempenho_aluno']\n",
    "\n",
    "for col in df.columns:\n",
    "    if col not in exclude:\n",
    "        print(f'{col}: {df[col].unique()}')"
   ]
  },
  {
   "cell_type": "markdown",
   "metadata": {},
   "source": [
    "# merging cols"
   ]
  },
  {
   "cell_type": "code",
   "execution_count": 61,
   "metadata": {},
   "outputs": [
    {
     "data": {
      "text/plain": [
       "<AxesSubplot: xlabel='leitura', ylabel='Count'>"
      ]
     },
     "execution_count": 61,
     "metadata": {},
     "output_type": "execute_result"
    },
    {
     "data": {
      "image/png": "[encoded data removed]",
      "text/plain": [
       "<Figure size 640x480 with 1 Axes>"
      ]
     },
     "metadata": {},
     "output_type": "display_data"
    }
   ],
   "source": [
    "# feature engineering para as colunas de leitura\n",
    "# a nova coluna 'leitura' terá a média dos valores para cada coluna de leitura_\n",
    "# para cada aluno\n",
    "\n",
    "columns_oi = [col for col in df.columns if 'leitura_' in col]\n",
    "df['leitura'] = df[columns_oi].mean(axis=1)\n",
    "\n",
    "df = df.drop(columns=columns_oi)\n",
    "sns.histplot(df['leitura'])"
   ]
  },
  {
   "cell_type": "code",
   "execution_count": 62,
   "metadata": {},
   "outputs": [
    {
     "data": {
      "text/plain": [
       "<AxesSubplot: xlabel='frequenta_entretenimento', ylabel='Count'>"
      ]
     },
     "execution_count": 62,
     "metadata": {},
     "output_type": "execute_result"
    },
    {
     "data": {
      "image/png": "[encoded data removed]",
      "text/plain": [
       "<Figure size 640x480 with 1 Axes>"
      ]
     },
     "metadata": {},
     "output_type": "display_data"
    }
   ],
   "source": [
    "# colunas de 'frequenta_'\n",
    "# criar uma nova coluna 'frequenta que conterá a média dos valores\n",
    "# para cada aluno\n",
    "\n",
    "columns_oi = [col for col in df.columns if 'frequenta_' in col]\n",
    "df['frequenta_entretenimento'] = df[columns_oi].mean(axis=1)\n",
    "df = df.drop(columns=columns_oi)\n",
    "sns.histplot(df['frequenta_entretenimento'])"
   ]
  },
  {
   "cell_type": "code",
   "execution_count": 63,
   "metadata": {},
   "outputs": [
    {
     "data": {
      "image/png": "[encoded data removed]",
      "text/plain": [
       "<Figure size 640x480 with 1 Axes>"
      ]
     },
     "metadata": {},
     "output_type": "display_data"
    }
   ],
   "source": [
    "# responsaveis incentivam\n",
    "\n",
    "columns_oi = [col for col in df.columns if 'responsaveis_incentivam' in col]\n",
    "\n",
    "df['responsaveis_incentivam'] = df[columns_oi].mean(axis=1)\n",
    "sns.histplot(df['responsaveis_incentivam'])\n",
    "\n",
    "df = df.drop(columns=columns_oi)"
   ]
  },
  {
   "cell_type": "code",
   "execution_count": 64,
   "metadata": {},
   "outputs": [
    {
     "data": {
      "text/plain": [
       "<AxesSubplot: xlabel='escolaridade_pais', ylabel='Count'>"
      ]
     },
     "execution_count": 64,
     "metadata": {},
     "output_type": "execute_result"
    },
    {
     "data": {
      "image/png": "[encoded data removed]",
      "text/plain": [
       "<Figure size 640x480 with 1 Axes>"
      ]
     },
     "metadata": {},
     "output_type": "display_data"
    }
   ],
   "source": [
    "# escolaridade pai / mae\n",
    "# Nunca estudou.\tNão completou a 4.ª série/5.º ano.\tCompletou a 4.ª série/5.º ano, mas não completou a 8.ª série/9.º ano.\tCompletou a 8.ª série/9.º ano, mas não completou o Ensino Médio.\tCompletou o Ensino Médio, mas não completou a Faculdade.\tCompletou a Faculdade.\n",
    "# 0\t1\t2\t3\t4\t5\n",
    "\n",
    "columns_oi = [col for col in df.columns if 'escolaridade_pai' in col] + [col for col in df.columns if 'escolaridade_mae' in col]\n",
    "\n",
    "df['escolaridade_pais'] = df[columns_oi].mean(axis=1)\n",
    "df = df.drop(columns=columns_oi)\n",
    "sns.histplot(df['escolaridade_pais'])"
   ]
  },
  {
   "cell_type": "code",
   "execution_count": 65,
   "metadata": {},
   "outputs": [
    {
     "data": {
      "text/plain": [
       "<AxesSubplot: xlabel='leitura_pais', ylabel='Count'>"
      ]
     },
     "execution_count": 65,
     "metadata": {},
     "output_type": "execute_result"
    },
    {
     "data": {
      "image/png": "[encoded data removed]",
      "text/plain": [
       "<Figure size 640x480 with 1 Axes>"
      ]
     },
     "metadata": {},
     "output_type": "display_data"
    }
   ],
   "source": [
    "# leitura / escrita dos pais\n",
    "\n",
    "df['leitura_mae'] = df[['mae_le', 'mae_sabe_ler_escrever']].mean(axis=1)\n",
    "df['leitura_pai'] = df[['pai_le', 'pai_sabe_ler_escrever']].mean(axis=1)\n",
    "\n",
    "df['leitura_pais'] = df[['leitura_mae', 'leitura_pai']].mean(axis=1)\n",
    "df = df.drop(columns=['leitura_mae', 'leitura_pai'])\n",
    "df = df.drop(columns=['pai_le', 'pai_sabe_ler_escrever', 'mae_le', 'mae_sabe_ler_escrever'])\n",
    "sns.histplot(df['leitura_pais'])"
   ]
  },
  {
   "cell_type": "code",
   "execution_count": 66,
   "metadata": {},
   "outputs": [
    {
     "name": "stdout",
     "output_type": "stream",
     "text": [
      "0    45784\n",
      "1    38390\n",
      "Name: count, dtype: int64\n"
     ]
    }
   ],
   "source": [
    "# possui_computador\n",
    "# Na sua casa tem computador?\tNão tem.\tSim, um.\tSim, dois.\tSim, três.\tSim, quatro ou mais.\n",
    "\n",
    "# separando em possui, ou não\n",
    "\n",
    "columns_oi = ['possui_computador']\n",
    "print(df[columns_oi].sum(axis=1).apply(lambda x: 1 if x > 0 else 0).value_counts())\n",
    "\n",
    "df['possui_computador'] = df[columns_oi].sum(axis=1).apply(lambda x: 1 if x > 0 else 0)"
   ]
  },
  {
   "cell_type": "code",
   "execution_count": 67,
   "metadata": {},
   "outputs": [
    {
     "data": {
      "text/plain": [
       "estuda_regularmente\n",
       "1.333333    26449\n",
       "1.666667    23333\n",
       "1.000000    14090\n",
       "2.000000     9790\n",
       "0.666667     5068\n",
       "0.333333     1634\n",
       "0.000000     1414\n",
       "1.500000      681\n",
       "0.500000      281\n",
       "Name: count, dtype: int64"
      ]
     },
     "execution_count": 67,
     "metadata": {},
     "output_type": "execute_result"
    }
   ],
   "source": [
    "# faz_licao_casa\n",
    "# correcao_licao_casa\n",
    "# utiliza_biblioteca_escola\n",
    "\n",
    "# mesma lógica das anteriores\n",
    "columns_oi = ['faz_licao_casa', 'correcao_licao_casa', 'utiliza_biblioteca_escola']\n",
    "\n",
    "# media\n",
    "df['estuda_regularmente'] = df[columns_oi].mean(axis=1)\n",
    "\n",
    "df = df.drop(columns=columns_oi)\n",
    "df['estuda_regularmente'].value_counts()"
   ]
  },
  {
   "cell_type": "code",
   "execution_count": 68,
   "metadata": {},
   "outputs": [
    {
     "name": "stdout",
     "output_type": "stream",
     "text": [
      "idade\n",
      "possui_computador\n",
      "tempo_lazer\n",
      "gosta_estudar_disciplina\n",
      "desempenho_aluno_cat\n",
      "leitura\n",
      "frequenta_entretenimento\n",
      "responsaveis_incentivam\n",
      "escolaridade_pais\n",
      "leitura_pais\n",
      "estuda_regularmente\n"
     ]
    }
   ],
   "source": [
    "for column in df.columns:\n",
    "    if column not in exclude:\n",
    "        print(f'{column}')"
   ]
  },
  {
   "cell_type": "code",
   "execution_count": 70,
   "metadata": {},
   "outputs": [],
   "source": [
    "save = True\n",
    "if save:\n",
    "    df.to_pickle(os.path.join(DATA_FOLDER, 'saeb_treated_new.pkl'))"
   ]
  }
 ],
 "metadata": {
  "kernelspec": {
   "display_name": ".local",
   "language": "python",
   "name": "python3"
  },
  "language_info": {
   "codemirror_mode": {
    "name": "ipython",
    "version": 3
   },
   "file_extension": ".py",
   "mimetype": "text/x-python",
   "name": "python",
   "nbconvert_exporter": "python",
   "pygments_lexer": "ipython3",
   "version": "3.12.3"
  }
 },
 "nbformat": 4,
 "nbformat_minor": 2
}
