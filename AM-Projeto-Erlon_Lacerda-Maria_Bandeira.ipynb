{
 "cells": [
  {
   "cell_type": "markdown",
   "metadata": {},
   "source": [
    "# Introdução\n",
    "\n",
    "O nosso objetivo para escolher o dataset era avaliar as notas e desempenho dos alunos com base em variáveis sociais / de estudo, sem considerar questões socioeconômicas. Sobre aplicações sociais, pensamos em como seria importante acompanhar o aluno durante o tempo anterior à prova, fazendo questionários antes, ir trabalhando nos pontos fracos do aluno e melhorar o desempenho geral do ensino nas escolas municipais com base nas respostas dadas pelo aluno. Esse estudo promove a ideia de que o desempenho do aluno poderia ser \"previsto\", mesmo se o questionário fosse respondido meses antes da prova em si, o que trás um alarme para como a qualidade de ensino deve ser melhorada, mas o aluno também pode ter melhores resultados, caso tenha um acompanhamento considerando essas variáveis."
   ]
  },
  {
   "cell_type": "markdown",
   "metadata": {},
   "source": [
    "# Descrição do Dataset\n",
    "\n",
    "O Sistema de Avaliação da Educação Básica (Saeb) é um conjunto de avaliações externas em larga escala que permite ao Inep realizar um diagnóstico da educação básica brasileira e de fatores que podem interferir no desempenho do estudante. Desde 1995, a avaliação bienal busca fornecer um panorama da Educação Básica e sofreu algumas mudanças metodológicas para aprimoramento. Juntamente com outros indicadores, as notas do SAEB estruturam a nota do Índice de Desenvolvimento da Educação Básica (Ideb). Por meio de testes e questionários, aplicados a cada dois anos na rede pública e em uma amostra da rede privada, o Saeb reflete os níveis de aprendizagem demonstrados pelos estudantes avaliados, explicando esses resultados a partir de uma série de informações contextuais. Avalia as séries: 5º ano, 9º ano e 3º ano do EM. Em 2019, tem o 2º ano do E.F."
   ]
  },
  {
   "cell_type": "markdown",
   "metadata": {},
   "source": [
    "# Tratamento / Análise de Dados\n",
    "\n",
    "Após a escolha do Dataset, disponível em [Base dos Dados - SAEB](https://basedosdados.org/dataset/e083c9a2-1cee-4342-bedc-535cbad6f3cd?table=d429a79a-eca1-461c-9c1f-ce65d61048a1), precisamos fazer o tratamento dos dados, tratamento das colunas, análise das correlações / feature engineering e análise dos dados, tudo para que tivéssemos os dados da melhor forma possível. Os notebooks estão separados em ordem, visando a [Reproducible Research](https://book.the-turing-way.org/reproducible-research/reproducible-research). Considerados como códigos-fonte a parte do projeto principal, eles estão separados na pasta `treatment_analysis/` da forma:\n",
    "\n",
    "1. initial-treatment.ipynb: Contém o tratamento inicial, a lógica para juntar os dados de 2007 até 2017 (considerando que as provas são realizadas a cada 2 anos) e tratamentos básicos como preencher idades faltantes e remover questionários nao preenchidos;\n",
    "2. columns-treatment.ipynb: Contém a transformação das colunas do dataset (com base no dicionário das perguntas) pra valores discretos, de forma ordinal. Também são retiradas colunas não consideradas para o estudo e remoção de outliers com base na proficiencia / erro_padrao;\n",
    "3. correlation_featureengineering.ipynb: Contém a análise das correlações entre as variáveis / features a partir de heatmaps e remoção de colunas com baixa ou nenhuma correlação com o desempenho do aluno. O dataset utilizado para treinar os modelos também é salvo desse notebook;\n",
    "4. data-analysis.ipynb: Contém a análise dos dados, com foco na distribuição das classes com base na proficiência e erro padrão do aluno e a aplicação de PCA para relacionar as variáveis entre si.\n"
   ]
  },
  {
   "cell_type": "markdown",
   "metadata": {},
   "source": [
    "# 1. Tratamento de Dados Básico"
   ]
  },
  {
   "cell_type": "code",
   "execution_count": 268,
   "metadata": {},
   "outputs": [],
   "source": [
    "import pandas as pd\n",
    "import numpy as np\n",
    "import os\n",
    "from sklearn.model_selection import GridSearchCV\n",
    "from sklearn.decomposition import PCA\n",
    "import matplotlib.pyplot as plt\n",
    "import seaborn as sns\n",
    "from sklearn.svm import SVC\n",
    "from imblearn.under_sampling import RandomUnderSampler\n",
    "from sklearn.metrics import classification_report\n",
    "from sklearn.metrics import confusion_matrix\n",
    "from sklearn.metrics import accuracy_score\n",
    "from sklearn.model_selection import train_test_split\n",
    "import numpy as np\n",
    "from sklearn.model_selection import train_test_split\n",
    "from sklearn.preprocessing import LabelEncoder\n",
    "from sklearn.metrics import classification_report\n",
    "from tensorflow.keras.models import Sequential\n",
    "from tensorflow.keras.layers import Dense\n",
    "from tensorflow.keras.utils import to_categorical\n",
    "from tensorflow.keras.layers import Dropout\n",
    "from tensorflow.keras.callbacks import EarlyStopping\n",
    "from sklearn.preprocessing import MinMaxScaler\n",
    "from sklearn.preprocessing import OneHotEncoder\n",
    "\n",
    "from IPython.display import clear_output\n",
    "\n",
    "clear_output()\n",
    "\n",
    "cwd = os.getcwd()\n",
    "\n",
    "ROOT = os.path.join(cwd)\n",
    "DATA_FOLDER = os.path.join(ROOT, 'data/')"
   ]
  },
  {
   "cell_type": "code",
   "execution_count": 269,
   "metadata": {},
   "outputs": [
    {
     "data": {
      "text/html": [
       "<div>\n",
       "<style scoped>\n",
       "    .dataframe tbody tr th:only-of-type {\n",
       "        vertical-align: middle;\n",
       "    }\n",
       "\n",
       "    .dataframe tbody tr th {\n",
       "        vertical-align: top;\n",
       "    }\n",
       "\n",
       "    .dataframe thead th {\n",
       "        text-align: right;\n",
       "    }\n",
       "</style>\n",
       "<table border=\"1\" class=\"dataframe\">\n",
       "  <thead>\n",
       "    <tr style=\"text-align: right;\">\n",
       "      <th></th>\n",
       "      <th>id_aluno</th>\n",
       "      <th>disciplina</th>\n",
       "      <th>proficiencia</th>\n",
       "      <th>erro_padrao</th>\n",
       "      <th>desempenho_aluno</th>\n",
       "      <th>desempenho_aluno_cat</th>\n",
       "      <th>faz_licao_casa_2.0</th>\n",
       "      <th>reprovacao_0.0</th>\n",
       "      <th>reprovacao_1.0</th>\n",
       "      <th>pai_sabe_ler_escrever_1.0</th>\n",
       "      <th>leitura_revista_comportamento_0.0</th>\n",
       "      <th>leitura_jornais_0.0</th>\n",
       "      <th>escolaridade_pai_4.0</th>\n",
       "      <th>mae_sabe_ler_escrever_1.0</th>\n",
       "      <th>leitura_internet_2.0</th>\n",
       "      <th>tempo_lazer_1.0</th>\n",
       "      <th>escolaridade_mae_4.0</th>\n",
       "      <th>gosta_estudar_disciplina_0.0</th>\n",
       "      <th>gosta_estudar_disciplina_1.0</th>\n",
       "    </tr>\n",
       "  </thead>\n",
       "  <tbody>\n",
       "    <tr>\n",
       "      <th>8086</th>\n",
       "      <td>23061434</td>\n",
       "      <td>LP</td>\n",
       "      <td>0.665701</td>\n",
       "      <td>0.312872</td>\n",
       "      <td>Proficiente</td>\n",
       "      <td>2</td>\n",
       "      <td>True</td>\n",
       "      <td>True</td>\n",
       "      <td>False</td>\n",
       "      <td>False</td>\n",
       "      <td>True</td>\n",
       "      <td>True</td>\n",
       "      <td>False</td>\n",
       "      <td>True</td>\n",
       "      <td>True</td>\n",
       "      <td>True</td>\n",
       "      <td>False</td>\n",
       "      <td>False</td>\n",
       "      <td>True</td>\n",
       "    </tr>\n",
       "    <tr>\n",
       "      <th>10602</th>\n",
       "      <td>23065563</td>\n",
       "      <td>LP</td>\n",
       "      <td>-1.353424</td>\n",
       "      <td>0.484866</td>\n",
       "      <td>Insuficiente</td>\n",
       "      <td>0</td>\n",
       "      <td>True</td>\n",
       "      <td>False</td>\n",
       "      <td>True</td>\n",
       "      <td>True</td>\n",
       "      <td>False</td>\n",
       "      <td>False</td>\n",
       "      <td>False</td>\n",
       "      <td>False</td>\n",
       "      <td>True</td>\n",
       "      <td>True</td>\n",
       "      <td>False</td>\n",
       "      <td>False</td>\n",
       "      <td>True</td>\n",
       "    </tr>\n",
       "    <tr>\n",
       "      <th>13975</th>\n",
       "      <td>23065563</td>\n",
       "      <td>MT</td>\n",
       "      <td>-1.652930</td>\n",
       "      <td>0.564617</td>\n",
       "      <td>Insuficiente</td>\n",
       "      <td>0</td>\n",
       "      <td>True</td>\n",
       "      <td>False</td>\n",
       "      <td>True</td>\n",
       "      <td>True</td>\n",
       "      <td>False</td>\n",
       "      <td>False</td>\n",
       "      <td>False</td>\n",
       "      <td>False</td>\n",
       "      <td>True</td>\n",
       "      <td>True</td>\n",
       "      <td>False</td>\n",
       "      <td>False</td>\n",
       "      <td>True</td>\n",
       "    </tr>\n",
       "    <tr>\n",
       "      <th>17847</th>\n",
       "      <td>23065552</td>\n",
       "      <td>MT</td>\n",
       "      <td>-1.099605</td>\n",
       "      <td>0.467812</td>\n",
       "      <td>Insuficiente</td>\n",
       "      <td>0</td>\n",
       "      <td>True</td>\n",
       "      <td>True</td>\n",
       "      <td>False</td>\n",
       "      <td>False</td>\n",
       "      <td>False</td>\n",
       "      <td>False</td>\n",
       "      <td>False</td>\n",
       "      <td>True</td>\n",
       "      <td>False</td>\n",
       "      <td>False</td>\n",
       "      <td>False</td>\n",
       "      <td>False</td>\n",
       "      <td>True</td>\n",
       "    </tr>\n",
       "    <tr>\n",
       "      <th>20664</th>\n",
       "      <td>23095249</td>\n",
       "      <td>MT</td>\n",
       "      <td>-1.262341</td>\n",
       "      <td>0.512487</td>\n",
       "      <td>Insuficiente</td>\n",
       "      <td>0</td>\n",
       "      <td>False</td>\n",
       "      <td>False</td>\n",
       "      <td>True</td>\n",
       "      <td>True</td>\n",
       "      <td>False</td>\n",
       "      <td>False</td>\n",
       "      <td>False</td>\n",
       "      <td>True</td>\n",
       "      <td>True</td>\n",
       "      <td>False</td>\n",
       "      <td>False</td>\n",
       "      <td>True</td>\n",
       "      <td>False</td>\n",
       "    </tr>\n",
       "  </tbody>\n",
       "</table>\n",
       "</div>"
      ],
      "text/plain": [
       "       id_aluno disciplina  proficiencia  erro_padrao desempenho_aluno  \\\n",
       "8086   23061434         LP      0.665701     0.312872      Proficiente   \n",
       "10602  23065563         LP     -1.353424     0.484866     Insuficiente   \n",
       "13975  23065563         MT     -1.652930     0.564617     Insuficiente   \n",
       "17847  23065552         MT     -1.099605     0.467812     Insuficiente   \n",
       "20664  23095249         MT     -1.262341     0.512487     Insuficiente   \n",
       "\n",
       "       desempenho_aluno_cat  faz_licao_casa_2.0  reprovacao_0.0  \\\n",
       "8086                      2                True            True   \n",
       "10602                     0                True           False   \n",
       "13975                     0                True           False   \n",
       "17847                     0                True            True   \n",
       "20664                     0               False           False   \n",
       "\n",
       "       reprovacao_1.0  pai_sabe_ler_escrever_1.0  \\\n",
       "8086            False                      False   \n",
       "10602            True                       True   \n",
       "13975            True                       True   \n",
       "17847           False                      False   \n",
       "20664            True                       True   \n",
       "\n",
       "       leitura_revista_comportamento_0.0  leitura_jornais_0.0  \\\n",
       "8086                                True                 True   \n",
       "10602                              False                False   \n",
       "13975                              False                False   \n",
       "17847                              False                False   \n",
       "20664                              False                False   \n",
       "\n",
       "       escolaridade_pai_4.0  mae_sabe_ler_escrever_1.0  leitura_internet_2.0  \\\n",
       "8086                  False                       True                  True   \n",
       "10602                 False                      False                  True   \n",
       "13975                 False                      False                  True   \n",
       "17847                 False                       True                 False   \n",
       "20664                 False                       True                  True   \n",
       "\n",
       "       tempo_lazer_1.0  escolaridade_mae_4.0  gosta_estudar_disciplina_0.0  \\\n",
       "8086              True                 False                         False   \n",
       "10602             True                 False                         False   \n",
       "13975             True                 False                         False   \n",
       "17847            False                 False                         False   \n",
       "20664            False                 False                          True   \n",
       "\n",
       "       gosta_estudar_disciplina_1.0  \n",
       "8086                           True  \n",
       "10602                          True  \n",
       "13975                          True  \n",
       "17847                          True  \n",
       "20664                         False  "
      ]
     },
     "execution_count": 269,
     "metadata": {},
     "output_type": "execute_result"
    }
   ],
   "source": [
    "colab = False\n",
    "if colab:\n",
    "    df = pd.read_pickle('saeb_pb_2017-2007_fe.pkl')\n",
    "else:\n",
    "    df = pd.read_pickle(os.path.join(DATA_FOLDER, 'saeb_pb_2017-2007_fe.pkl'))\n",
    "df = df.dropna()\n",
    "df.head()"
   ]
  },
  {
   "cell_type": "code",
   "execution_count": 270,
   "metadata": {},
   "outputs": [],
   "source": [
    "# colunas a serem excluidas (não serão consideradas como features em X)\n",
    "exclude = ['ano', 'sigla_uf', 'id_aluno', 'situacao_censo', 'disciplina', 'proficiencia', 'erro_padrao', 'proficiencia_saeb',\n",
    "       'erro_padrao_saeb', 'sexo', 'raca_cor','ano_nascimento', 'rede', 'id_escola', 'serie', 'turno', 'escola_publica', 'desempenho_aluno']\n",
    "\n",
    "exclude = [col for col in df.columns if col in exclude]"
   ]
  },
  {
   "cell_type": "code",
   "execution_count": 271,
   "metadata": {},
   "outputs": [
    {
     "name": "stdout",
     "output_type": "stream",
     "text": [
      "desempenho_aluno_cat [2 0 3 1]\n",
      "faz_licao_casa_2.0 [ True False]\n",
      "reprovacao_0.0 [ True False]\n",
      "reprovacao_1.0 [False  True]\n",
      "pai_sabe_ler_escrever_1.0 [False  True]\n",
      "leitura_revista_comportamento_0.0 [ True False]\n",
      "leitura_jornais_0.0 [ True False]\n",
      "escolaridade_pai_4.0 [False  True]\n",
      "mae_sabe_ler_escrever_1.0 [ True False]\n",
      "leitura_internet_2.0 [ True False]\n",
      "tempo_lazer_1.0 [ True False]\n",
      "escolaridade_mae_4.0 [False  True]\n",
      "gosta_estudar_disciplina_0.0 [False  True]\n",
      "gosta_estudar_disciplina_1.0 [ True False]\n"
     ]
    }
   ],
   "source": [
    "# print unique values for each column\n",
    "\n",
    "for col in df.columns:\n",
    "    if col not in exclude:\n",
    "        print(col, df[col].unique())"
   ]
  },
  {
   "cell_type": "markdown",
   "metadata": {},
   "source": [
    "Tratar os dados e construir a matriz $X$ e o vetor $y$ de entrada para o classificador;"
   ]
  },
  {
   "cell_type": "markdown",
   "metadata": {},
   "source": [
    "**Para o treinamento, utilizaremos Under Sampling com a justificativa do alto desbalanceamento das classes nos dados**"
   ]
  },
  {
   "cell_type": "code",
   "execution_count": 272,
   "metadata": {},
   "outputs": [
    {
     "data": {
      "text/plain": [
       "desempenho_aluno\n",
       "Básico          124830\n",
       "Insuficiente     78056\n",
       "Proficiente      26662\n",
       "Avançado          3334\n",
       "Name: count, dtype: int64"
      ]
     },
     "execution_count": 272,
     "metadata": {},
     "output_type": "execute_result"
    }
   ],
   "source": [
    "df['desempenho_aluno'].value_counts()"
   ]
  },
  {
   "cell_type": "code",
   "execution_count": 273,
   "metadata": {},
   "outputs": [],
   "source": [
    "X = df.drop(columns=exclude + ['desempenho_aluno_cat'])\n",
    "y = df['desempenho_aluno_cat']\n",
    "\n",
    "X = X.astype('float32')\n",
    "y = y.astype('float32')\n",
    "\n",
    "rus = RandomUnderSampler(random_state=0)\n",
    "X, y = rus.fit_resample(X, y)\n",
    "\n",
    "y = to_categorical(y)"
   ]
  },
  {
   "cell_type": "code",
   "execution_count": 274,
   "metadata": {},
   "outputs": [
    {
     "data": {
      "text/plain": [
       "(array([[0., 0., 0., 1.],\n",
       "        [0., 0., 1., 0.],\n",
       "        [0., 1., 0., 0.],\n",
       "        [1., 0., 0., 0.]]),\n",
       " array([3334, 3334, 3334, 3334]))"
      ]
     },
     "execution_count": 274,
     "metadata": {},
     "output_type": "execute_result"
    }
   ],
   "source": [
    "np.unique(y, axis=0, return_counts=True)"
   ]
  },
  {
   "cell_type": "markdown",
   "metadata": {},
   "source": [
    "Identificar o número de exemplos ($N$) e número de features;"
   ]
  },
  {
   "cell_type": "code",
   "execution_count": 275,
   "metadata": {},
   "outputs": [
    {
     "name": "stdout",
     "output_type": "stream",
     "text": [
      "Número de exemplos: 13336\n",
      "Número de features: 13\n"
     ]
    }
   ],
   "source": [
    "N = len(X) # número de exemplos\n",
    "n_features = X.shape[1] # número de features\n",
    "\n",
    "print('Número de exemplos:', N)\n",
    "print('Número de features:', n_features)"
   ]
  },
  {
   "cell_type": "markdown",
   "metadata": {},
   "source": [
    "Separar os dados (𝑋,𝑦) entre treinamento e teste, justificando a quantidade de exemplos de cada grupo de dados. Não mexer no teste até a fase final de computação das métricas de aprendizado;"
   ]
  },
  {
   "cell_type": "code",
   "execution_count": 276,
   "metadata": {},
   "outputs": [
    {
     "name": "stdout",
     "output_type": "stream",
     "text": [
      "Número de exemplos de treino: 8534\n",
      "Número de exemplos de validação: 2134\n",
      "Número de exemplos de teste: 2668\n"
     ]
    }
   ],
   "source": [
    "# separando em 20% para teste e 80% para treino\n",
    "# por ser o valor mais comum\n",
    "X_train, X_test, y_train, y_test = train_test_split(X, y, test_size=0.2, random_state=42)\n",
    "\n",
    "# agora, separando os dados de treino em 20% para validação\n",
    "X_train, X_val, y_train, y_val = train_test_split(X_train, y_train, test_size=0.2, random_state=42)\n",
    "\n",
    "print('Número de exemplos de treino:', len(X_train))\n",
    "print('Número de exemplos de validação:', len(X_val))\n",
    "print('Número de exemplos de teste:', len(X_test))"
   ]
  },
  {
   "cell_type": "markdown",
   "metadata": {},
   "source": [
    "Aplicar normalização ou padronização dos dados, justificando a escolha do método."
   ]
  },
  {
   "cell_type": "code",
   "execution_count": 277,
   "metadata": {},
   "outputs": [],
   "source": [
    "# não precisaremos aplicar normalização ou padronização nos dados,\n",
    "# pois são de origem binária para todas as colunas, isto é, vão de 0 a 1.\n",
    "# esse tratamento foi feito na etapa de feature engineering"
   ]
  },
  {
   "cell_type": "markdown",
   "metadata": {},
   "source": [
    "# 2. Implementação do modelo baseado em Rede Neural"
   ]
  },
  {
   "cell_type": "markdown",
   "metadata": {},
   "source": [
    "Definir a arquitetura da rede neural (número de camadas e o número de neurônios por camada) a partir do número de exemplos disponíveis no dataset e da “Regra de Ouro”, que é consequência da Teoria da Generalização do Aprendizado. Use o cálculo da dimensão VC para justificar a escolha da arquitetura mencionada. Obs: Não esqueça da existência do bias em cada neurônio e use o Teorema da Aproximação Universal; "
   ]
  },
  {
   "cell_type": "code",
   "execution_count": 278,
   "metadata": {},
   "outputs": [],
   "source": [
    "def num_neurons(n_examples, n_features):\n",
    "    return int((n_examples - 10) / (10 * (n_features + 2) ))"
   ]
  },
  {
   "cell_type": "code",
   "execution_count": 279,
   "metadata": {},
   "outputs": [
    {
     "name": "stdout",
     "output_type": "stream",
     "text": [
      "(8534, 13)\n",
      "De acordo com a regra de ouro da dimensão VC, \n",
      "o número de neurônios por camada oculta \n",
      "deve ser menor ou igual que\n",
      "56\n"
     ]
    }
   ],
   "source": [
    "# podemos usar 2 camadas e é o suficiente\n",
    "# número de neurônios por camada\n",
    "print(X_train.shape)\n",
    "\n",
    "print('De acordo com a regra de ouro da dimensão VC, \\no número de neurônios por camada oculta \\ndeve ser menor ou igual que')\n",
    "print(num_neurons(len(X_train), n_features))"
   ]
  },
  {
   "cell_type": "markdown",
   "metadata": {},
   "source": [
    "Vamos inicializar um modelo sequencial com as escolhas de hiperparâmetros:\n",
    "- funções de ativação 'ReLU': É uma função com custo computacional mais baixo do que 'tanh', o que acaba deixando o treinamento mais rápido.\n",
    "- regularizador 'l2': Devido ao baixo número de exemplos no dataset após o Under Sampling, existe uma alta chance de overfitting pelo número de features (13), então além de ajudar a prevenir overfitting, a regularização também adicionará penalidade aos pesos, reduzindo a complexidade do modelo.\n",
    "- Dropout: Pela alta chance de overfitting dado o número de neurônios, é adicionado Dropout para reduzir a capacidade / complexidade do modelo também, ajudando a generalizar.  \n",
    "- EarlyStopping: Para que não haja \"Boca de Jacaré\", é adicionado uma cláusula de Early Stopping para impedir que o modelo continue o treinamento caso seja detectada uma piora na acurácia de validação.\n",
    "- Função de ativação 'softmax': É a função de ativação utilizada para classificação multiclasse. Retorna probabilidades para cada classe.\n",
    "- Função de perda 'categorical_crossentropy': É a função de perda utilizada para classificação multiclasse. Calcula o erro com base nas probabilidades resultantes de cada classe para cada exemplo predito."
   ]
  },
  {
   "cell_type": "code",
   "execution_count": 280,
   "metadata": {},
   "outputs": [
    {
     "name": "stderr",
     "output_type": "stream",
     "text": [
      "/home/erlo/.local/lib/python3.12/site-packages/keras/src/layers/core/dense.py:87: UserWarning: Do not pass an `input_shape`/`input_dim` argument to a layer. When using Sequential models, prefer using an `Input(shape)` object as the first layer in the model instead.\n",
      "  super().__init__(activity_regularizer=activity_regularizer, **kwargs)\n"
     ]
    },
    {
     "data": {
      "text/html": [
       "<pre style=\"white-space:pre;overflow-x:auto;line-height:normal;font-family:Menlo,'DejaVu Sans Mono',consolas,'Courier New',monospace\"><span style=\"font-weight: bold\">Model: \"sequential_17\"</span>\n",
       "</pre>\n"
      ],
      "text/plain": [
       "\u001b[1mModel: \"sequential_17\"\u001b[0m\n"
      ]
     },
     "metadata": {},
     "output_type": "display_data"
    },
    {
     "data": {
      "text/html": [
       "<pre style=\"white-space:pre;overflow-x:auto;line-height:normal;font-family:Menlo,'DejaVu Sans Mono',consolas,'Courier New',monospace\">┏━━━━━━━━━━━━━━━━━━━━━━━━━━━━━━━━━┳━━━━━━━━━━━━━━━━━━━━━━━━┳━━━━━━━━━━━━━━━┓\n",
       "┃<span style=\"font-weight: bold\"> Layer (type)                    </span>┃<span style=\"font-weight: bold\"> Output Shape           </span>┃<span style=\"font-weight: bold\">       Param # </span>┃\n",
       "┡━━━━━━━━━━━━━━━━━━━━━━━━━━━━━━━━━╇━━━━━━━━━━━━━━━━━━━━━━━━╇━━━━━━━━━━━━━━━┩\n",
       "│ dense_41 (<span style=\"color: #0087ff; text-decoration-color: #0087ff\">Dense</span>)                │ (<span style=\"color: #00d7ff; text-decoration-color: #00d7ff\">None</span>, <span style=\"color: #00af00; text-decoration-color: #00af00\">4</span>)              │            <span style=\"color: #00af00; text-decoration-color: #00af00\">56</span> │\n",
       "├─────────────────────────────────┼────────────────────────┼───────────────┤\n",
       "│ dropout_20 (<span style=\"color: #0087ff; text-decoration-color: #0087ff\">Dropout</span>)            │ (<span style=\"color: #00d7ff; text-decoration-color: #00d7ff\">None</span>, <span style=\"color: #00af00; text-decoration-color: #00af00\">4</span>)              │             <span style=\"color: #00af00; text-decoration-color: #00af00\">0</span> │\n",
       "├─────────────────────────────────┼────────────────────────┼───────────────┤\n",
       "│ dense_42 (<span style=\"color: #0087ff; text-decoration-color: #0087ff\">Dense</span>)                │ (<span style=\"color: #00d7ff; text-decoration-color: #00d7ff\">None</span>, <span style=\"color: #00af00; text-decoration-color: #00af00\">8</span>)              │            <span style=\"color: #00af00; text-decoration-color: #00af00\">40</span> │\n",
       "├─────────────────────────────────┼────────────────────────┼───────────────┤\n",
       "│ dropout_21 (<span style=\"color: #0087ff; text-decoration-color: #0087ff\">Dropout</span>)            │ (<span style=\"color: #00d7ff; text-decoration-color: #00d7ff\">None</span>, <span style=\"color: #00af00; text-decoration-color: #00af00\">8</span>)              │             <span style=\"color: #00af00; text-decoration-color: #00af00\">0</span> │\n",
       "├─────────────────────────────────┼────────────────────────┼───────────────┤\n",
       "│ dense_43 (<span style=\"color: #0087ff; text-decoration-color: #0087ff\">Dense</span>)                │ (<span style=\"color: #00d7ff; text-decoration-color: #00d7ff\">None</span>, <span style=\"color: #00af00; text-decoration-color: #00af00\">4</span>)              │            <span style=\"color: #00af00; text-decoration-color: #00af00\">36</span> │\n",
       "└─────────────────────────────────┴────────────────────────┴───────────────┘\n",
       "</pre>\n"
      ],
      "text/plain": [
       "┏━━━━━━━━━━━━━━━━━━━━━━━━━━━━━━━━━┳━━━━━━━━━━━━━━━━━━━━━━━━┳━━━━━━━━━━━━━━━┓\n",
       "┃\u001b[1m \u001b[0m\u001b[1mLayer (type)                   \u001b[0m\u001b[1m \u001b[0m┃\u001b[1m \u001b[0m\u001b[1mOutput Shape          \u001b[0m\u001b[1m \u001b[0m┃\u001b[1m \u001b[0m\u001b[1m      Param #\u001b[0m\u001b[1m \u001b[0m┃\n",
       "┡━━━━━━━━━━━━━━━━━━━━━━━━━━━━━━━━━╇━━━━━━━━━━━━━━━━━━━━━━━━╇━━━━━━━━━━━━━━━┩\n",
       "│ dense_41 (\u001b[38;5;33mDense\u001b[0m)                │ (\u001b[38;5;45mNone\u001b[0m, \u001b[38;5;34m4\u001b[0m)              │            \u001b[38;5;34m56\u001b[0m │\n",
       "├─────────────────────────────────┼────────────────────────┼───────────────┤\n",
       "│ dropout_20 (\u001b[38;5;33mDropout\u001b[0m)            │ (\u001b[38;5;45mNone\u001b[0m, \u001b[38;5;34m4\u001b[0m)              │             \u001b[38;5;34m0\u001b[0m │\n",
       "├─────────────────────────────────┼────────────────────────┼───────────────┤\n",
       "│ dense_42 (\u001b[38;5;33mDense\u001b[0m)                │ (\u001b[38;5;45mNone\u001b[0m, \u001b[38;5;34m8\u001b[0m)              │            \u001b[38;5;34m40\u001b[0m │\n",
       "├─────────────────────────────────┼────────────────────────┼───────────────┤\n",
       "│ dropout_21 (\u001b[38;5;33mDropout\u001b[0m)            │ (\u001b[38;5;45mNone\u001b[0m, \u001b[38;5;34m8\u001b[0m)              │             \u001b[38;5;34m0\u001b[0m │\n",
       "├─────────────────────────────────┼────────────────────────┼───────────────┤\n",
       "│ dense_43 (\u001b[38;5;33mDense\u001b[0m)                │ (\u001b[38;5;45mNone\u001b[0m, \u001b[38;5;34m4\u001b[0m)              │            \u001b[38;5;34m36\u001b[0m │\n",
       "└─────────────────────────────────┴────────────────────────┴───────────────┘\n"
      ]
     },
     "metadata": {},
     "output_type": "display_data"
    },
    {
     "data": {
      "text/html": [
       "<pre style=\"white-space:pre;overflow-x:auto;line-height:normal;font-family:Menlo,'DejaVu Sans Mono',consolas,'Courier New',monospace\"><span style=\"font-weight: bold\"> Total params: </span><span style=\"color: #00af00; text-decoration-color: #00af00\">132</span> (528.00 B)\n",
       "</pre>\n"
      ],
      "text/plain": [
       "\u001b[1m Total params: \u001b[0m\u001b[38;5;34m132\u001b[0m (528.00 B)\n"
      ]
     },
     "metadata": {},
     "output_type": "display_data"
    },
    {
     "data": {
      "text/html": [
       "<pre style=\"white-space:pre;overflow-x:auto;line-height:normal;font-family:Menlo,'DejaVu Sans Mono',consolas,'Courier New',monospace\"><span style=\"font-weight: bold\"> Trainable params: </span><span style=\"color: #00af00; text-decoration-color: #00af00\">132</span> (528.00 B)\n",
       "</pre>\n"
      ],
      "text/plain": [
       "\u001b[1m Trainable params: \u001b[0m\u001b[38;5;34m132\u001b[0m (528.00 B)\n"
      ]
     },
     "metadata": {},
     "output_type": "display_data"
    },
    {
     "data": {
      "text/html": [
       "<pre style=\"white-space:pre;overflow-x:auto;line-height:normal;font-family:Menlo,'DejaVu Sans Mono',consolas,'Courier New',monospace\"><span style=\"font-weight: bold\"> Non-trainable params: </span><span style=\"color: #00af00; text-decoration-color: #00af00\">0</span> (0.00 B)\n",
       "</pre>\n"
      ],
      "text/plain": [
       "\u001b[1m Non-trainable params: \u001b[0m\u001b[38;5;34m0\u001b[0m (0.00 B)\n"
      ]
     },
     "metadata": {},
     "output_type": "display_data"
    }
   ],
   "source": [
    "model = Sequential()\n",
    "\n",
    "model.add(Dense(4, input_dim=X_train.shape[1], activation='relu', kernel_regularizer='l2'))\n",
    "model.add(Dropout(0.1))\n",
    "model.add(Dense(8, activation='relu', kernel_initializer='normal'))\n",
    "model.add(Dropout(0.2))\n",
    "model.add(Dense(4, kernel_initializer='normal', activation='softmax'))\n",
    "\n",
    "es = EarlyStopping(monitor='val_loss', mode='min', verbose=1, patience=10)\n",
    "\n",
    "# Compilar o modelo\n",
    "model.compile(loss='categorical_crossentropy', optimizer='adam', metrics=['accuracy'])\n",
    "model.summary()"
   ]
  },
  {
   "cell_type": "code",
   "execution_count": 281,
   "metadata": {},
   "outputs": [
    {
     "name": "stdout",
     "output_type": "stream",
     "text": [
      "Epoch 1/100\n",
      "\u001b[1m178/178\u001b[0m \u001b[32m━━━━━━━━━━━━━━━━━━━━\u001b[0m\u001b[37m\u001b[0m \u001b[1m1s\u001b[0m 1ms/step - accuracy: 0.2639 - loss: 1.4250 - val_accuracy: 0.2826 - val_loss: 1.3994\n",
      "Epoch 2/100\n",
      "\u001b[1m178/178\u001b[0m \u001b[32m━━━━━━━━━━━━━━━━━━━━\u001b[0m\u001b[37m\u001b[0m \u001b[1m0s\u001b[0m 881us/step - accuracy: 0.3402 - loss: 1.3825 - val_accuracy: 0.4007 - val_loss: 1.3102\n",
      "Epoch 3/100\n",
      "\u001b[1m178/178\u001b[0m \u001b[32m━━━━━━━━━━━━━━━━━━━━\u001b[0m\u001b[37m\u001b[0m \u001b[1m0s\u001b[0m 859us/step - accuracy: 0.3876 - loss: 1.3030 - val_accuracy: 0.4016 - val_loss: 1.2738\n",
      "Epoch 4/100\n",
      "\u001b[1m178/178\u001b[0m \u001b[32m━━━━━━━━━━━━━━━━━━━━\u001b[0m\u001b[37m\u001b[0m \u001b[1m0s\u001b[0m 819us/step - accuracy: 0.3895 - loss: 1.2865 - val_accuracy: 0.4049 - val_loss: 1.2636\n",
      "Epoch 5/100\n",
      "\u001b[1m178/178\u001b[0m \u001b[32m━━━━━━━━━━━━━━━━━━━━\u001b[0m\u001b[37m\u001b[0m \u001b[1m0s\u001b[0m 804us/step - accuracy: 0.3994 - loss: 1.2793 - val_accuracy: 0.4105 - val_loss: 1.2543\n",
      "Epoch 6/100\n",
      "\u001b[1m178/178\u001b[0m \u001b[32m━━━━━━━━━━━━━━━━━━━━\u001b[0m\u001b[37m\u001b[0m \u001b[1m0s\u001b[0m 808us/step - accuracy: 0.3930 - loss: 1.2706 - val_accuracy: 0.4110 - val_loss: 1.2498\n",
      "Epoch 7/100\n",
      "\u001b[1m178/178\u001b[0m \u001b[32m━━━━━━━━━━━━━━━━━━━━\u001b[0m\u001b[37m\u001b[0m \u001b[1m0s\u001b[0m 918us/step - accuracy: 0.4049 - loss: 1.2631 - val_accuracy: 0.4138 - val_loss: 1.2499\n",
      "Epoch 8/100\n",
      "\u001b[1m178/178\u001b[0m \u001b[32m━━━━━━━━━━━━━━━━━━━━\u001b[0m\u001b[37m\u001b[0m \u001b[1m0s\u001b[0m 900us/step - accuracy: 0.3897 - loss: 1.2763 - val_accuracy: 0.4133 - val_loss: 1.2474\n",
      "Epoch 9/100\n",
      "\u001b[1m178/178\u001b[0m \u001b[32m━━━━━━━━━━━━━━━━━━━━\u001b[0m\u001b[37m\u001b[0m \u001b[1m0s\u001b[0m 1ms/step - accuracy: 0.4024 - loss: 1.2616 - val_accuracy: 0.4114 - val_loss: 1.2451\n",
      "Epoch 10/100\n",
      "\u001b[1m178/178\u001b[0m \u001b[32m━━━━━━━━━━━━━━━━━━━━\u001b[0m\u001b[37m\u001b[0m \u001b[1m0s\u001b[0m 806us/step - accuracy: 0.3979 - loss: 1.2690 - val_accuracy: 0.4147 - val_loss: 1.2440\n",
      "Epoch 11/100\n",
      "\u001b[1m178/178\u001b[0m \u001b[32m━━━━━━━━━━━━━━━━━━━━\u001b[0m\u001b[37m\u001b[0m \u001b[1m0s\u001b[0m 881us/step - accuracy: 0.3985 - loss: 1.2507 - val_accuracy: 0.4086 - val_loss: 1.2455\n",
      "Epoch 12/100\n",
      "\u001b[1m178/178\u001b[0m \u001b[32m━━━━━━━━━━━━━━━━━━━━\u001b[0m\u001b[37m\u001b[0m \u001b[1m0s\u001b[0m 930us/step - accuracy: 0.3999 - loss: 1.2664 - val_accuracy: 0.4152 - val_loss: 1.2444\n",
      "Epoch 13/100\n",
      "\u001b[1m178/178\u001b[0m \u001b[32m━━━━━━━━━━━━━━━━━━━━\u001b[0m\u001b[37m\u001b[0m \u001b[1m0s\u001b[0m 931us/step - accuracy: 0.4102 - loss: 1.2497 - val_accuracy: 0.4128 - val_loss: 1.2432\n",
      "Epoch 14/100\n",
      "\u001b[1m178/178\u001b[0m \u001b[32m━━━━━━━━━━━━━━━━━━━━\u001b[0m\u001b[37m\u001b[0m \u001b[1m0s\u001b[0m 818us/step - accuracy: 0.3932 - loss: 1.2615 - val_accuracy: 0.4105 - val_loss: 1.2413\n",
      "Epoch 15/100\n",
      "\u001b[1m178/178\u001b[0m \u001b[32m━━━━━━━━━━━━━━━━━━━━\u001b[0m\u001b[37m\u001b[0m \u001b[1m0s\u001b[0m 831us/step - accuracy: 0.3882 - loss: 1.2659 - val_accuracy: 0.4105 - val_loss: 1.2414\n",
      "Epoch 16/100\n",
      "\u001b[1m178/178\u001b[0m \u001b[32m━━━━━━━━━━━━━━━━━━━━\u001b[0m\u001b[37m\u001b[0m \u001b[1m0s\u001b[0m 956us/step - accuracy: 0.4058 - loss: 1.2521 - val_accuracy: 0.4147 - val_loss: 1.2423\n",
      "Epoch 17/100\n",
      "\u001b[1m178/178\u001b[0m \u001b[32m━━━━━━━━━━━━━━━━━━━━\u001b[0m\u001b[37m\u001b[0m \u001b[1m0s\u001b[0m 2ms/step - accuracy: 0.3934 - loss: 1.2718 - val_accuracy: 0.4133 - val_loss: 1.2425\n",
      "Epoch 18/100\n",
      "\u001b[1m178/178\u001b[0m \u001b[32m━━━━━━━━━━━━━━━━━━━━\u001b[0m\u001b[37m\u001b[0m \u001b[1m0s\u001b[0m 1ms/step - accuracy: 0.4066 - loss: 1.2527 - val_accuracy: 0.4142 - val_loss: 1.2414\n",
      "Epoch 19/100\n",
      "\u001b[1m178/178\u001b[0m \u001b[32m━━━━━━━━━━━━━━━━━━━━\u001b[0m\u001b[37m\u001b[0m \u001b[1m0s\u001b[0m 1ms/step - accuracy: 0.3915 - loss: 1.2619 - val_accuracy: 0.4138 - val_loss: 1.2395\n",
      "Epoch 20/100\n",
      "\u001b[1m178/178\u001b[0m \u001b[32m━━━━━━━━━━━━━━━━━━━━\u001b[0m\u001b[37m\u001b[0m \u001b[1m0s\u001b[0m 893us/step - accuracy: 0.3985 - loss: 1.2531 - val_accuracy: 0.4157 - val_loss: 1.2403\n",
      "Epoch 21/100\n",
      "\u001b[1m178/178\u001b[0m \u001b[32m━━━━━━━━━━━━━━━━━━━━\u001b[0m\u001b[37m\u001b[0m \u001b[1m0s\u001b[0m 950us/step - accuracy: 0.3969 - loss: 1.2553 - val_accuracy: 0.4175 - val_loss: 1.2403\n",
      "Epoch 22/100\n",
      "\u001b[1m178/178\u001b[0m \u001b[32m━━━━━━━━━━━━━━━━━━━━\u001b[0m\u001b[37m\u001b[0m \u001b[1m0s\u001b[0m 919us/step - accuracy: 0.3972 - loss: 1.2578 - val_accuracy: 0.4142 - val_loss: 1.2397\n",
      "Epoch 23/100\n",
      "\u001b[1m178/178\u001b[0m \u001b[32m━━━━━━━━━━━━━━━━━━━━\u001b[0m\u001b[37m\u001b[0m \u001b[1m0s\u001b[0m 1ms/step - accuracy: 0.4040 - loss: 1.2562 - val_accuracy: 0.4194 - val_loss: 1.2400\n",
      "Epoch 24/100\n",
      "\u001b[1m178/178\u001b[0m \u001b[32m━━━━━━━━━━━━━━━━━━━━\u001b[0m\u001b[37m\u001b[0m \u001b[1m0s\u001b[0m 1ms/step - accuracy: 0.3951 - loss: 1.2636 - val_accuracy: 0.4110 - val_loss: 1.2401\n",
      "Epoch 25/100\n",
      "\u001b[1m178/178\u001b[0m \u001b[32m━━━━━━━━━━━━━━━━━━━━\u001b[0m\u001b[37m\u001b[0m \u001b[1m0s\u001b[0m 1ms/step - accuracy: 0.3924 - loss: 1.2518 - val_accuracy: 0.4152 - val_loss: 1.2394\n",
      "Epoch 26/100\n",
      "\u001b[1m178/178\u001b[0m \u001b[32m━━━━━━━━━━━━━━━━━━━━\u001b[0m\u001b[37m\u001b[0m \u001b[1m0s\u001b[0m 913us/step - accuracy: 0.3983 - loss: 1.2547 - val_accuracy: 0.4152 - val_loss: 1.2398\n",
      "Epoch 27/100\n",
      "\u001b[1m178/178\u001b[0m \u001b[32m━━━━━━━━━━━━━━━━━━━━\u001b[0m\u001b[37m\u001b[0m \u001b[1m0s\u001b[0m 901us/step - accuracy: 0.4073 - loss: 1.2569 - val_accuracy: 0.4260 - val_loss: 1.2434\n",
      "Epoch 28/100\n",
      "\u001b[1m178/178\u001b[0m \u001b[32m━━━━━━━━━━━━━━━━━━━━\u001b[0m\u001b[37m\u001b[0m \u001b[1m0s\u001b[0m 951us/step - accuracy: 0.3921 - loss: 1.2659 - val_accuracy: 0.4142 - val_loss: 1.2397\n",
      "Epoch 29/100\n",
      "\u001b[1m178/178\u001b[0m \u001b[32m━━━━━━━━━━━━━━━━━━━━\u001b[0m\u001b[37m\u001b[0m \u001b[1m0s\u001b[0m 1ms/step - accuracy: 0.4115 - loss: 1.2554 - val_accuracy: 0.4147 - val_loss: 1.2389\n",
      "Epoch 30/100\n",
      "\u001b[1m178/178\u001b[0m \u001b[32m━━━━━━━━━━━━━━━━━━━━\u001b[0m\u001b[37m\u001b[0m \u001b[1m0s\u001b[0m 1ms/step - accuracy: 0.4095 - loss: 1.2453 - val_accuracy: 0.4161 - val_loss: 1.2388\n",
      "Epoch 31/100\n",
      "\u001b[1m178/178\u001b[0m \u001b[32m━━━━━━━━━━━━━━━━━━━━\u001b[0m\u001b[37m\u001b[0m \u001b[1m0s\u001b[0m 948us/step - accuracy: 0.3922 - loss: 1.2561 - val_accuracy: 0.4231 - val_loss: 1.2388\n",
      "Epoch 32/100\n",
      "\u001b[1m178/178\u001b[0m \u001b[32m━━━━━━━━━━━━━━━━━━━━\u001b[0m\u001b[37m\u001b[0m \u001b[1m0s\u001b[0m 2ms/step - accuracy: 0.4014 - loss: 1.2563 - val_accuracy: 0.4157 - val_loss: 1.2395\n",
      "Epoch 33/100\n",
      "\u001b[1m178/178\u001b[0m \u001b[32m━━━━━━━━━━━━━━━━━━━━\u001b[0m\u001b[37m\u001b[0m \u001b[1m0s\u001b[0m 1ms/step - accuracy: 0.4052 - loss: 1.2563 - val_accuracy: 0.4157 - val_loss: 1.2381\n",
      "Epoch 34/100\n",
      "\u001b[1m178/178\u001b[0m \u001b[32m━━━━━━━━━━━━━━━━━━━━\u001b[0m\u001b[37m\u001b[0m \u001b[1m0s\u001b[0m 875us/step - accuracy: 0.4045 - loss: 1.2567 - val_accuracy: 0.4053 - val_loss: 1.2420\n",
      "Epoch 35/100\n",
      "\u001b[1m178/178\u001b[0m \u001b[32m━━━━━━━━━━━━━━━━━━━━\u001b[0m\u001b[37m\u001b[0m \u001b[1m0s\u001b[0m 866us/step - accuracy: 0.4065 - loss: 1.2526 - val_accuracy: 0.4246 - val_loss: 1.2385\n",
      "Epoch 36/100\n",
      "\u001b[1m178/178\u001b[0m \u001b[32m━━━━━━━━━━━━━━━━━━━━\u001b[0m\u001b[37m\u001b[0m \u001b[1m0s\u001b[0m 1ms/step - accuracy: 0.4042 - loss: 1.2541 - val_accuracy: 0.4161 - val_loss: 1.2386\n",
      "Epoch 37/100\n",
      "\u001b[1m178/178\u001b[0m \u001b[32m━━━━━━━━━━━━━━━━━━━━\u001b[0m\u001b[37m\u001b[0m \u001b[1m0s\u001b[0m 1ms/step - accuracy: 0.4157 - loss: 1.2579 - val_accuracy: 0.4133 - val_loss: 1.2375\n",
      "Epoch 38/100\n",
      "\u001b[1m178/178\u001b[0m \u001b[32m━━━━━━━━━━━━━━━━━━━━\u001b[0m\u001b[37m\u001b[0m \u001b[1m0s\u001b[0m 982us/step - accuracy: 0.3886 - loss: 1.2599 - val_accuracy: 0.4133 - val_loss: 1.2387\n",
      "Epoch 39/100\n",
      "\u001b[1m178/178\u001b[0m \u001b[32m━━━━━━━━━━━━━━━━━━━━\u001b[0m\u001b[37m\u001b[0m \u001b[1m0s\u001b[0m 1ms/step - accuracy: 0.4063 - loss: 1.2527 - val_accuracy: 0.4217 - val_loss: 1.2371\n",
      "Epoch 40/100\n",
      "\u001b[1m178/178\u001b[0m \u001b[32m━━━━━━━━━━━━━━━━━━━━\u001b[0m\u001b[37m\u001b[0m \u001b[1m0s\u001b[0m 1ms/step - accuracy: 0.3923 - loss: 1.2595 - val_accuracy: 0.4283 - val_loss: 1.2380\n",
      "Epoch 41/100\n",
      "\u001b[1m178/178\u001b[0m \u001b[32m━━━━━━━━━━━━━━━━━━━━\u001b[0m\u001b[37m\u001b[0m \u001b[1m0s\u001b[0m 968us/step - accuracy: 0.3932 - loss: 1.2655 - val_accuracy: 0.4171 - val_loss: 1.2387\n",
      "Epoch 42/100\n",
      "\u001b[1m178/178\u001b[0m \u001b[32m━━━━━━━━━━━━━━━━━━━━\u001b[0m\u001b[37m\u001b[0m \u001b[1m0s\u001b[0m 915us/step - accuracy: 0.4042 - loss: 1.2613 - val_accuracy: 0.4274 - val_loss: 1.2378\n",
      "Epoch 43/100\n",
      "\u001b[1m178/178\u001b[0m \u001b[32m━━━━━━━━━━━━━━━━━━━━\u001b[0m\u001b[37m\u001b[0m \u001b[1m0s\u001b[0m 1ms/step - accuracy: 0.4016 - loss: 1.2511 - val_accuracy: 0.4180 - val_loss: 1.2370\n",
      "Epoch 44/100\n",
      "\u001b[1m178/178\u001b[0m \u001b[32m━━━━━━━━━━━━━━━━━━━━\u001b[0m\u001b[37m\u001b[0m \u001b[1m0s\u001b[0m 1ms/step - accuracy: 0.4017 - loss: 1.2620 - val_accuracy: 0.4269 - val_loss: 1.2378\n",
      "Epoch 45/100\n",
      "\u001b[1m178/178\u001b[0m \u001b[32m━━━━━━━━━━━━━━━━━━━━\u001b[0m\u001b[37m\u001b[0m \u001b[1m0s\u001b[0m 1ms/step - accuracy: 0.3974 - loss: 1.2612 - val_accuracy: 0.4171 - val_loss: 1.2365\n",
      "Epoch 46/100\n",
      "\u001b[1m178/178\u001b[0m \u001b[32m━━━━━━━━━━━━━━━━━━━━\u001b[0m\u001b[37m\u001b[0m \u001b[1m0s\u001b[0m 901us/step - accuracy: 0.3985 - loss: 1.2589 - val_accuracy: 0.4147 - val_loss: 1.2390\n",
      "Epoch 47/100\n",
      "\u001b[1m178/178\u001b[0m \u001b[32m━━━━━━━━━━━━━━━━━━━━\u001b[0m\u001b[37m\u001b[0m \u001b[1m0s\u001b[0m 1ms/step - accuracy: 0.3943 - loss: 1.2533 - val_accuracy: 0.4246 - val_loss: 1.2390\n",
      "Epoch 48/100\n",
      "\u001b[1m178/178\u001b[0m \u001b[32m━━━━━━━━━━━━━━━━━━━━\u001b[0m\u001b[37m\u001b[0m \u001b[1m0s\u001b[0m 884us/step - accuracy: 0.3963 - loss: 1.2533 - val_accuracy: 0.4110 - val_loss: 1.2390\n",
      "Epoch 49/100\n",
      "\u001b[1m178/178\u001b[0m \u001b[32m━━━━━━━━━━━━━━━━━━━━\u001b[0m\u001b[37m\u001b[0m \u001b[1m0s\u001b[0m 1ms/step - accuracy: 0.3950 - loss: 1.2577 - val_accuracy: 0.4222 - val_loss: 1.2371\n",
      "Epoch 50/100\n",
      "\u001b[1m178/178\u001b[0m \u001b[32m━━━━━━━━━━━━━━━━━━━━\u001b[0m\u001b[37m\u001b[0m \u001b[1m0s\u001b[0m 1ms/step - accuracy: 0.3889 - loss: 1.2628 - val_accuracy: 0.4138 - val_loss: 1.2381\n",
      "Epoch 51/100\n",
      "\u001b[1m178/178\u001b[0m \u001b[32m━━━━━━━━━━━━━━━━━━━━\u001b[0m\u001b[37m\u001b[0m \u001b[1m0s\u001b[0m 891us/step - accuracy: 0.3967 - loss: 1.2611 - val_accuracy: 0.4152 - val_loss: 1.2375\n",
      "Epoch 52/100\n",
      "\u001b[1m178/178\u001b[0m \u001b[32m━━━━━━━━━━━━━━━━━━━━\u001b[0m\u001b[37m\u001b[0m \u001b[1m0s\u001b[0m 1ms/step - accuracy: 0.3982 - loss: 1.2568 - val_accuracy: 0.4166 - val_loss: 1.2367\n",
      "Epoch 53/100\n",
      "\u001b[1m178/178\u001b[0m \u001b[32m━━━━━━━━━━━━━━━━━━━━\u001b[0m\u001b[37m\u001b[0m \u001b[1m0s\u001b[0m 1ms/step - accuracy: 0.3976 - loss: 1.2578 - val_accuracy: 0.4138 - val_loss: 1.2375\n",
      "Epoch 54/100\n",
      "\u001b[1m178/178\u001b[0m \u001b[32m━━━━━━━━━━━━━━━━━━━━\u001b[0m\u001b[37m\u001b[0m \u001b[1m0s\u001b[0m 1ms/step - accuracy: 0.3848 - loss: 1.2668 - val_accuracy: 0.4231 - val_loss: 1.2365\n",
      "Epoch 55/100\n",
      "\u001b[1m178/178\u001b[0m \u001b[32m━━━━━━━━━━━━━━━━━━━━\u001b[0m\u001b[37m\u001b[0m \u001b[1m0s\u001b[0m 2ms/step - accuracy: 0.3926 - loss: 1.2567 - val_accuracy: 0.4128 - val_loss: 1.2376\n",
      "Epoch 56/100\n",
      "\u001b[1m178/178\u001b[0m \u001b[32m━━━━━━━━━━━━━━━━━━━━\u001b[0m\u001b[37m\u001b[0m \u001b[1m0s\u001b[0m 1ms/step - accuracy: 0.4009 - loss: 1.2521 - val_accuracy: 0.4152 - val_loss: 1.2361\n",
      "Epoch 57/100\n",
      "\u001b[1m178/178\u001b[0m \u001b[32m━━━━━━━━━━━━━━━━━━━━\u001b[0m\u001b[37m\u001b[0m \u001b[1m0s\u001b[0m 1ms/step - accuracy: 0.4002 - loss: 1.2660 - val_accuracy: 0.4222 - val_loss: 1.2362\n",
      "Epoch 58/100\n",
      "\u001b[1m178/178\u001b[0m \u001b[32m━━━━━━━━━━━━━━━━━━━━\u001b[0m\u001b[37m\u001b[0m \u001b[1m0s\u001b[0m 1ms/step - accuracy: 0.4015 - loss: 1.2521 - val_accuracy: 0.4269 - val_loss: 1.2412\n",
      "Epoch 59/100\n",
      "\u001b[1m178/178\u001b[0m \u001b[32m━━━━━━━━━━━━━━━━━━━━\u001b[0m\u001b[37m\u001b[0m \u001b[1m0s\u001b[0m 991us/step - accuracy: 0.3996 - loss: 1.2640 - val_accuracy: 0.4227 - val_loss: 1.2365\n",
      "Epoch 60/100\n",
      "\u001b[1m178/178\u001b[0m \u001b[32m━━━━━━━━━━━━━━━━━━━━\u001b[0m\u001b[37m\u001b[0m \u001b[1m0s\u001b[0m 936us/step - accuracy: 0.3986 - loss: 1.2584 - val_accuracy: 0.4236 - val_loss: 1.2356\n",
      "Epoch 61/100\n",
      "\u001b[1m178/178\u001b[0m \u001b[32m━━━━━━━━━━━━━━━━━━━━\u001b[0m\u001b[37m\u001b[0m \u001b[1m0s\u001b[0m 2ms/step - accuracy: 0.4064 - loss: 1.2434 - val_accuracy: 0.4236 - val_loss: 1.2374\n",
      "Epoch 62/100\n",
      "\u001b[1m178/178\u001b[0m \u001b[32m━━━━━━━━━━━━━━━━━━━━\u001b[0m\u001b[37m\u001b[0m \u001b[1m0s\u001b[0m 986us/step - accuracy: 0.4074 - loss: 1.2482 - val_accuracy: 0.4147 - val_loss: 1.2374\n",
      "Epoch 63/100\n",
      "\u001b[1m178/178\u001b[0m \u001b[32m━━━━━━━━━━━━━━━━━━━━\u001b[0m\u001b[37m\u001b[0m \u001b[1m0s\u001b[0m 1ms/step - accuracy: 0.4051 - loss: 1.2552 - val_accuracy: 0.4222 - val_loss: 1.2393\n",
      "Epoch 64/100\n",
      "\u001b[1m178/178\u001b[0m \u001b[32m━━━━━━━━━━━━━━━━━━━━\u001b[0m\u001b[37m\u001b[0m \u001b[1m0s\u001b[0m 1ms/step - accuracy: 0.4028 - loss: 1.2529 - val_accuracy: 0.4213 - val_loss: 1.2365\n",
      "Epoch 65/100\n",
      "\u001b[1m178/178\u001b[0m \u001b[32m━━━━━━━━━━━━━━━━━━━━\u001b[0m\u001b[37m\u001b[0m \u001b[1m0s\u001b[0m 994us/step - accuracy: 0.3980 - loss: 1.2603 - val_accuracy: 0.4241 - val_loss: 1.2360\n",
      "Epoch 66/100\n",
      "\u001b[1m178/178\u001b[0m \u001b[32m━━━━━━━━━━━━━━━━━━━━\u001b[0m\u001b[37m\u001b[0m \u001b[1m0s\u001b[0m 907us/step - accuracy: 0.3979 - loss: 1.2625 - val_accuracy: 0.4213 - val_loss: 1.2368\n",
      "Epoch 67/100\n",
      "\u001b[1m178/178\u001b[0m \u001b[32m━━━━━━━━━━━━━━━━━━━━\u001b[0m\u001b[37m\u001b[0m \u001b[1m0s\u001b[0m 1ms/step - accuracy: 0.4050 - loss: 1.2505 - val_accuracy: 0.4255 - val_loss: 1.2370\n",
      "Epoch 68/100\n",
      "\u001b[1m178/178\u001b[0m \u001b[32m━━━━━━━━━━━━━━━━━━━━\u001b[0m\u001b[37m\u001b[0m \u001b[1m0s\u001b[0m 1ms/step - accuracy: 0.3939 - loss: 1.2653 - val_accuracy: 0.4194 - val_loss: 1.2365\n",
      "Epoch 69/100\n",
      "\u001b[1m178/178\u001b[0m \u001b[32m━━━━━━━━━━━━━━━━━━━━\u001b[0m\u001b[37m\u001b[0m \u001b[1m0s\u001b[0m 1ms/step - accuracy: 0.4070 - loss: 1.2586 - val_accuracy: 0.4213 - val_loss: 1.2363\n",
      "Epoch 70/100\n",
      "\u001b[1m178/178\u001b[0m \u001b[32m━━━━━━━━━━━━━━━━━━━━\u001b[0m\u001b[37m\u001b[0m \u001b[1m0s\u001b[0m 904us/step - accuracy: 0.4015 - loss: 1.2526 - val_accuracy: 0.4166 - val_loss: 1.2361\n",
      "Epoch 70: early stopping\n"
     ]
    }
   ],
   "source": [
    "history = model.fit(X_train, y_train, validation_data=(X_val, y_val), epochs=100, batch_size=48, callbacks=[es])"
   ]
  },
  {
   "cell_type": "markdown",
   "metadata": {},
   "source": [
    "Computar o $𝐸_{in}$ e  $𝐸_{out}$ para analisar a existência de overfitting;"
   ]
  },
  {
   "cell_type": "code",
   "execution_count": 282,
   "metadata": {},
   "outputs": [
    {
     "name": "stdout",
     "output_type": "stream",
     "text": [
      "\n",
      "--> E_in: 1.2546\n",
      "--> E_out: 1.2361\n",
      "--> E_in - E_out: 0.018535733222961426\n"
     ]
    }
   ],
   "source": [
    "Ein = history.history['loss'][-1]\n",
    "Eout = history.history['val_loss'][-1]\n",
    "\n",
    "print(f'\\n--> E_in: {Ein:.4f}')\n",
    "print(f'--> E_out: {Eout:.4f}')\n",
    "\n",
    "print('--> E_in - E_out:', Ein - Eout)\n",
    "# como podemos ver não há overfitting devido a pequena diferença entre E_in e E_out"
   ]
  },
  {
   "cell_type": "markdown",
   "metadata": {},
   "source": [
    "- Ocorreu overfitting? Se sim, isso ocorreu a partir de que época? Ilustrar sua resposta com um gráfico;"
   ]
  },
  {
   "cell_type": "code",
   "execution_count": 283,
   "metadata": {},
   "outputs": [
    {
     "data": {
      "image/png": "[encoded data removed]",
      "text/plain": [
       "<Figure size 640x480 with 1 Axes>"
      ]
     },
     "metadata": {},
     "output_type": "display_data"
    },
    {
     "name": "stdout",
     "output_type": "stream",
     "text": [
      "\u001b[1m267/267\u001b[0m \u001b[32m━━━━━━━━━━━━━━━━━━━━\u001b[0m\u001b[37m\u001b[0m \u001b[1m0s\u001b[0m 605us/step\n",
      "\u001b[1m67/67\u001b[0m \u001b[32m━━━━━━━━━━━━━━━━━━━━\u001b[0m\u001b[37m\u001b[0m \u001b[1m0s\u001b[0m 630us/step\n",
      "\n",
      "--> Acuracia (treino): 0.4122\n",
      "--> Acuracia (validacao): 0.4166\n",
      "--> acc_train - acc_val = -0.0044\n",
      "--> E_val - E_in = -0.0185\n"
     ]
    }
   ],
   "source": [
    "plt.plot(history.history['loss'])\n",
    "plt.plot(history.history['val_loss'])\n",
    "plt.title('Metrica de erro')\n",
    "plt.ylabel('Erro')\n",
    "plt.xlabel('Epoca')\n",
    "plt.legend(['Treinamento', 'Validacao'])\n",
    "plt.show()\n",
    "\n",
    "pred_train = model.predict(X_train)\n",
    "pred_val = model.predict(X_val)\n",
    "\n",
    "acc_train = accuracy_score(np.argmax(y_train, axis=1), np.argmax(pred_train, axis=1))\n",
    "acc_val = accuracy_score(np.argmax(y_val, axis=1), np.argmax(pred_val, axis=1))\n",
    "\n",
    "print(f'\\n--> Acuracia (treino): {acc_train:.4f}')\n",
    "print(f'--> Acuracia (validacao): {acc_val:.4f}')\n",
    "print(f\"--> acc_train - acc_val = {acc_train - acc_val:.4f}\")\n",
    "print(f\"--> E_val - E_in = {(history.history['val_loss'][-1] - history.history['loss'][-1]):.4f}\")"
   ]
  },
  {
   "cell_type": "markdown",
   "metadata": {},
   "source": [
    "Não houve overfitting. Como podemos ver não há \"Boca de Jacaré\"."
   ]
  },
  {
   "cell_type": "markdown",
   "metadata": {},
   "source": [
    "- Justificar as escolhas para os parâmetros batch size e o número de épocas;"
   ]
  },
  {
   "cell_type": "markdown",
   "metadata": {},
   "source": [
    "**Número de épocas:** Não houve necessidade de determinar um valor fora do padrão (50 ou 100) já que foi adicionado Early Stopping, que iria parar o treinamento caso houvesse uma piora.  \n",
    "\n",
    "**Batch size:** Não houve uma heurística específica, foi escolhido um valor visando menos custo computacional."
   ]
  },
  {
   "cell_type": "code",
   "execution_count": 285,
   "metadata": {},
   "outputs": [],
   "source": [
    "pass"
   ]
  },
  {
   "cell_type": "markdown",
   "metadata": {},
   "source": [
    "- Computar  as  métricas  de  qualidade  da  melhor  rede  construída (acurácia,  precisão, recall, f1 score)"
   ]
  },
  {
   "cell_type": "code",
   "execution_count": 284,
   "metadata": {},
   "outputs": [
    {
     "name": "stdout",
     "output_type": "stream",
     "text": [
      "\u001b[1m84/84\u001b[0m \u001b[32m━━━━━━━━━━━━━━━━━━━━\u001b[0m\u001b[37m\u001b[0m \u001b[1m0s\u001b[0m 1ms/step\n",
      "              precision    recall  f1-score   support\n",
      "\n",
      "           0       0.43      0.63      0.51       673\n",
      "           1       0.26      0.18      0.22       652\n",
      "           2       0.33      0.12      0.18       706\n",
      "           3       0.43      0.66      0.52       637\n",
      "\n",
      "    accuracy                           0.39      2668\n",
      "   macro avg       0.36      0.40      0.36      2668\n",
      "weighted avg       0.36      0.39      0.35      2668\n",
      "\n"
     ]
    }
   ],
   "source": [
    "# métricas de avaliação\n",
    "y_pred = model.predict(X_test)\n",
    "y_pred = np.argmax(y_pred, axis=1)\n",
    "y_test = np.argmax(y_test, axis=1)\n",
    "\n",
    "print(classification_report(y_test, y_pred))"
   ]
  },
  {
   "cell_type": "markdown",
   "metadata": {},
   "source": [
    "# 3. Construção do modelo de Árvore de Decisão"
   ]
  },
  {
   "cell_type": "markdown",
   "metadata": {},
   "source": [
    "- Construir uma árvore de decisão com a instância de treino; \n",
    "\n"
   ]
  },
  {
   "cell_type": "code",
   "execution_count": null,
   "metadata": {},
   "outputs": [],
   "source": []
  },
  {
   "cell_type": "markdown",
   "metadata": {},
   "source": [
    "- Plotar a árvore e computar $𝐸_{in}$ e  $𝐸_{out}$ para analisar a existência de overfitting; "
   ]
  },
  {
   "cell_type": "code",
   "execution_count": null,
   "metadata": {},
   "outputs": [],
   "source": []
  },
  {
   "cell_type": "markdown",
   "metadata": {},
   "source": [
    "- Regularizar o valor de 𝛼 utilizando o algoritmo de Minimal Cost-Complexity já \n",
    "implementado na classe DecisionTreeClassifier, para encontrar a árvore que \n",
    "minimize a relação:  \n",
    "\n",
    "$$𝑃𝑢𝑟𝑒𝑧𝑎(𝑇)+ 𝛼 ∙\\#𝑓𝑜𝑙ℎ𝑎𝑠(𝑇).$$\n",
    "\n",
    "Esse processo deve ser realizado com a técnica de cross validation, onde o tamanho do fold deve ser definido pela dimensão do conjunto de treino;"
   ]
  },
  {
   "cell_type": "code",
   "execution_count": null,
   "metadata": {},
   "outputs": [],
   "source": []
  },
  {
   "cell_type": "markdown",
   "metadata": {},
   "source": [
    "- Plotar  a  imagem  e  computar  as  métricas  de  qualidade  da  melhor  árvore \n",
    "construída. "
   ]
  },
  {
   "cell_type": "code",
   "execution_count": null,
   "metadata": {},
   "outputs": [],
   "source": []
  },
  {
   "cell_type": "markdown",
   "metadata": {},
   "source": [
    "# 4. Construção do modelo SVM"
   ]
  },
  {
   "cell_type": "markdown",
   "metadata": {},
   "source": [
    "- Construir um modelo de SVM, regularizando dos parâmetros 𝐶 e 𝛾 (gama) através \n",
    "de cross validation, onde o tamanho do fold deve ser definido pela dimensão do \n",
    "conjunto de treino; "
   ]
  },
  {
   "cell_type": "code",
   "execution_count": 291,
   "metadata": {},
   "outputs": [],
   "source": [
    "X = df.drop(columns=exclude + ['desempenho_aluno_cat'])\n",
    "y = df['desempenho_aluno_cat']\n",
    "\n",
    "X = X.astype(int)\n",
    "y = y.astype(int)"
   ]
  },
  {
   "cell_type": "code",
   "execution_count": 292,
   "metadata": {},
   "outputs": [],
   "source": [
    "rus = RandomUnderSampler(random_state=42)\n",
    "X, y = rus.fit_resample(X, y)"
   ]
  },
  {
   "cell_type": "code",
   "execution_count": 293,
   "metadata": {},
   "outputs": [],
   "source": [
    "X_train, X_test, y_train, y_test = train_test_split(X, y, test_size=0.2, random_state=42)"
   ]
  },
  {
   "cell_type": "code",
   "execution_count": 295,
   "metadata": {},
   "outputs": [
    {
     "name": "stdout",
     "output_type": "stream",
     "text": [
      "Fitting 5 folds for each of 12 candidates, totalling 60 fits\n",
      "[CV 1/5] END ..................C=1, gamma=0.005;, score=0.401 total time=   2.0s\n",
      "[CV 2/5] END ..................C=1, gamma=0.005;, score=0.381 total time=   2.3s\n",
      "[CV 3/5] END ..................C=1, gamma=0.005;, score=0.416 total time=   2.2s\n",
      "[CV 4/5] END ..................C=1, gamma=0.005;, score=0.395 total time=   2.2s\n",
      "[CV 5/5] END ..................C=1, gamma=0.005;, score=0.399 total time=   2.3s\n",
      "[CV 1/5] END ...................C=1, gamma=0.01;, score=0.396 total time=   2.3s\n",
      "[CV 2/5] END ...................C=1, gamma=0.01;, score=0.376 total time=   2.2s\n",
      "[CV 3/5] END ...................C=1, gamma=0.01;, score=0.418 total time=   2.2s\n",
      "[CV 4/5] END ...................C=1, gamma=0.01;, score=0.384 total time=   2.2s\n",
      "[CV 5/5] END ...................C=1, gamma=0.01;, score=0.399 total time=   1.9s\n",
      "[CV 1/5] END ...................C=1, gamma=0.05;, score=0.396 total time=   2.0s\n",
      "[CV 2/5] END ...................C=1, gamma=0.05;, score=0.384 total time=   2.3s\n",
      "[CV 3/5] END ...................C=1, gamma=0.05;, score=0.422 total time=   2.2s\n",
      "[CV 4/5] END ...................C=1, gamma=0.05;, score=0.389 total time=   2.2s\n",
      "[CV 5/5] END ...................C=1, gamma=0.05;, score=0.402 total time=   2.2s\n",
      "[CV 1/5] END ....................C=1, gamma=0.1;, score=0.398 total time=   2.3s\n",
      "[CV 2/5] END ....................C=1, gamma=0.1;, score=0.393 total time=   2.4s\n",
      "[CV 3/5] END ....................C=1, gamma=0.1;, score=0.422 total time=   2.3s\n",
      "[CV 4/5] END ....................C=1, gamma=0.1;, score=0.402 total time=   2.3s\n",
      "[CV 5/5] END ....................C=1, gamma=0.1;, score=0.401 total time=   2.3s\n",
      "[CV 1/5] END ..................C=5, gamma=0.005;, score=0.399 total time=   2.2s\n",
      "[CV 2/5] END ..................C=5, gamma=0.005;, score=0.372 total time=   2.1s\n",
      "[CV 3/5] END ..................C=5, gamma=0.005;, score=0.418 total time=   2.0s\n",
      "[CV 4/5] END ..................C=5, gamma=0.005;, score=0.377 total time=   2.0s\n",
      "[CV 5/5] END ..................C=5, gamma=0.005;, score=0.395 total time=   2.0s\n",
      "[CV 1/5] END ...................C=5, gamma=0.01;, score=0.402 total time=   2.4s\n",
      "[CV 2/5] END ...................C=5, gamma=0.01;, score=0.373 total time=   2.3s\n",
      "[CV 3/5] END ...................C=5, gamma=0.01;, score=0.423 total time=   2.0s\n",
      "[CV 4/5] END ...................C=5, gamma=0.01;, score=0.385 total time=   1.9s\n",
      "[CV 5/5] END ...................C=5, gamma=0.01;, score=0.397 total time=   1.9s\n",
      "[CV 1/5] END ...................C=5, gamma=0.05;, score=0.401 total time=   2.2s\n",
      "[CV 2/5] END ...................C=5, gamma=0.05;, score=0.388 total time=   2.3s\n",
      "[CV 3/5] END ...................C=5, gamma=0.05;, score=0.419 total time=   2.5s\n",
      "[CV 4/5] END ...................C=5, gamma=0.05;, score=0.400 total time=   2.2s\n",
      "[CV 5/5] END ...................C=5, gamma=0.05;, score=0.399 total time=   2.3s\n",
      "[CV 1/5] END ....................C=5, gamma=0.1;, score=0.396 total time=   2.6s\n",
      "[CV 2/5] END ....................C=5, gamma=0.1;, score=0.397 total time=   3.3s\n",
      "[CV 3/5] END ....................C=5, gamma=0.1;, score=0.423 total time=   3.3s\n",
      "[CV 4/5] END ....................C=5, gamma=0.1;, score=0.398 total time=   3.2s\n",
      "[CV 5/5] END ....................C=5, gamma=0.1;, score=0.398 total time=   3.2s\n",
      "[CV 1/5] END .................C=10, gamma=0.005;, score=0.401 total time=   2.6s\n",
      "[CV 2/5] END .................C=10, gamma=0.005;, score=0.373 total time=   2.1s\n",
      "[CV 3/5] END .................C=10, gamma=0.005;, score=0.421 total time=   2.0s\n",
      "[CV 4/5] END .................C=10, gamma=0.005;, score=0.374 total time=   2.1s\n",
      "[CV 5/5] END .................C=10, gamma=0.005;, score=0.392 total time=   2.0s\n",
      "[CV 1/5] END ..................C=10, gamma=0.01;, score=0.399 total time=   2.0s\n",
      "[CV 2/5] END ..................C=10, gamma=0.01;, score=0.369 total time=   2.0s\n",
      "[CV 3/5] END ..................C=10, gamma=0.01;, score=0.415 total time=   2.3s\n",
      "[CV 4/5] END ..................C=10, gamma=0.01;, score=0.385 total time=   2.3s\n",
      "[CV 5/5] END ..................C=10, gamma=0.01;, score=0.395 total time=   2.1s\n",
      "[CV 1/5] END ..................C=10, gamma=0.05;, score=0.401 total time=   2.7s\n",
      "[CV 2/5] END ..................C=10, gamma=0.05;, score=0.391 total time=   2.7s\n",
      "[CV 3/5] END ..................C=10, gamma=0.05;, score=0.420 total time=   2.7s\n",
      "[CV 4/5] END ..................C=10, gamma=0.05;, score=0.396 total time=   2.6s\n",
      "[CV 5/5] END ..................C=10, gamma=0.05;, score=0.399 total time=   2.6s\n",
      "[CV 1/5] END ...................C=10, gamma=0.1;, score=0.391 total time=   4.0s\n",
      "[CV 2/5] END ...................C=10, gamma=0.1;, score=0.393 total time=   4.0s\n",
      "[CV 3/5] END ...................C=10, gamma=0.1;, score=0.412 total time=   3.7s\n",
      "[CV 4/5] END ...................C=10, gamma=0.1;, score=0.397 total time=   2.9s\n",
      "[CV 5/5] END ...................C=10, gamma=0.1;, score=0.402 total time=   2.5s\n",
      "CPU times: user 2min 25s, sys: 1.62 s, total: 2min 27s\n",
      "Wall time: 2min 27s\n",
      "{'C': 1, 'gamma': 0.1}\n"
     ]
    }
   ],
   "source": [
    "param_grid = {'C': [1, 5, 10],\n",
    "                'gamma': [0.005, 0.01, 0.05, 0.1]}\n",
    "grid = GridSearchCV(estimator=SVC(kernel='rbf'), param_grid=param_grid, cv=5, verbose=3)\n",
    "\n",
    "%time grid.fit(X_train, y_train)\n",
    "\n",
    "print(grid.best_params_)"
   ]
  },
  {
   "cell_type": "code",
   "execution_count": 297,
   "metadata": {},
   "outputs": [
    {
     "data": {
      "text/html": [
       "<style>#sk-container-id-1 {\n",
       "  /* Definition of color scheme common for light and dark mode */\n",
       "  --sklearn-color-text: black;\n",
       "  --sklearn-color-line: gray;\n",
       "  /* Definition of color scheme for unfitted estimators */\n",
       "  --sklearn-color-unfitted-level-0: #fff5e6;\n",
       "  --sklearn-color-unfitted-level-1: #f6e4d2;\n",
       "  --sklearn-color-unfitted-level-2: #ffe0b3;\n",
       "  --sklearn-color-unfitted-level-3: chocolate;\n",
       "  /* Definition of color scheme for fitted estimators */\n",
       "  --sklearn-color-fitted-level-0: #f0f8ff;\n",
       "  --sklearn-color-fitted-level-1: #d4ebff;\n",
       "  --sklearn-color-fitted-level-2: #b3dbfd;\n",
       "  --sklearn-color-fitted-level-3: cornflowerblue;\n",
       "\n",
       "  /* Specific color for light theme */\n",
       "  --sklearn-color-text-on-default-background: var(--sg-text-color, var(--theme-code-foreground, var(--jp-content-font-color1, black)));\n",
       "  --sklearn-color-background: var(--sg-background-color, var(--theme-background, var(--jp-layout-color0, white)));\n",
       "  --sklearn-color-border-box: var(--sg-text-color, var(--theme-code-foreground, var(--jp-content-font-color1, black)));\n",
       "  --sklearn-color-icon: #696969;\n",
       "\n",
       "  @media (prefers-color-scheme: dark) {\n",
       "    /* Redefinition of color scheme for dark theme */\n",
       "    --sklearn-color-text-on-default-background: var(--sg-text-color, var(--theme-code-foreground, var(--jp-content-font-color1, white)));\n",
       "    --sklearn-color-background: var(--sg-background-color, var(--theme-background, var(--jp-layout-color0, #111)));\n",
       "    --sklearn-color-border-box: var(--sg-text-color, var(--theme-code-foreground, var(--jp-content-font-color1, white)));\n",
       "    --sklearn-color-icon: #878787;\n",
       "  }\n",
       "}\n",
       "\n",
       "#sk-container-id-1 {\n",
       "  color: var(--sklearn-color-text);\n",
       "}\n",
       "\n",
       "#sk-container-id-1 pre {\n",
       "  padding: 0;\n",
       "}\n",
       "\n",
       "#sk-container-id-1 input.sk-hidden--visually {\n",
       "  border: 0;\n",
       "  clip: rect(1px 1px 1px 1px);\n",
       "  clip: rect(1px, 1px, 1px, 1px);\n",
       "  height: 1px;\n",
       "  margin: -1px;\n",
       "  overflow: hidden;\n",
       "  padding: 0;\n",
       "  position: absolute;\n",
       "  width: 1px;\n",
       "}\n",
       "\n",
       "#sk-container-id-1 div.sk-dashed-wrapped {\n",
       "  border: 1px dashed var(--sklearn-color-line);\n",
       "  margin: 0 0.4em 0.5em 0.4em;\n",
       "  box-sizing: border-box;\n",
       "  padding-bottom: 0.4em;\n",
       "  background-color: var(--sklearn-color-background);\n",
       "}\n",
       "\n",
       "#sk-container-id-1 div.sk-container {\n",
       "  /* jupyter's `normalize.less` sets `[hidden] { display: none; }`\n",
       "     but bootstrap.min.css set `[hidden] { display: none !important; }`\n",
       "     so we also need the `!important` here to be able to override the\n",
       "     default hidden behavior on the sphinx rendered scikit-learn.org.\n",
       "     See: https://github.com/scikit-learn/scikit-learn/issues/21755 */\n",
       "  display: inline-block !important;\n",
       "  position: relative;\n",
       "}\n",
       "\n",
       "#sk-container-id-1 div.sk-text-repr-fallback {\n",
       "  display: none;\n",
       "}\n",
       "\n",
       "div.sk-parallel-item,\n",
       "div.sk-serial,\n",
       "div.sk-item {\n",
       "  /* draw centered vertical line to link estimators */\n",
       "  background-image: linear-gradient(var(--sklearn-color-text-on-default-background), var(--sklearn-color-text-on-default-background));\n",
       "  background-size: 2px 100%;\n",
       "  background-repeat: no-repeat;\n",
       "  background-position: center center;\n",
       "}\n",
       "\n",
       "/* Parallel-specific style estimator block */\n",
       "\n",
       "#sk-container-id-1 div.sk-parallel-item::after {\n",
       "  content: \"\";\n",
       "  width: 100%;\n",
       "  border-bottom: 2px solid var(--sklearn-color-text-on-default-background);\n",
       "  flex-grow: 1;\n",
       "}\n",
       "\n",
       "#sk-container-id-1 div.sk-parallel {\n",
       "  display: flex;\n",
       "  align-items: stretch;\n",
       "  justify-content: center;\n",
       "  background-color: var(--sklearn-color-background);\n",
       "  position: relative;\n",
       "}\n",
       "\n",
       "#sk-container-id-1 div.sk-parallel-item {\n",
       "  display: flex;\n",
       "  flex-direction: column;\n",
       "}\n",
       "\n",
       "#sk-container-id-1 div.sk-parallel-item:first-child::after {\n",
       "  align-self: flex-end;\n",
       "  width: 50%;\n",
       "}\n",
       "\n",
       "#sk-container-id-1 div.sk-parallel-item:last-child::after {\n",
       "  align-self: flex-start;\n",
       "  width: 50%;\n",
       "}\n",
       "\n",
       "#sk-container-id-1 div.sk-parallel-item:only-child::after {\n",
       "  width: 0;\n",
       "}\n",
       "\n",
       "/* Serial-specific style estimator block */\n",
       "\n",
       "#sk-container-id-1 div.sk-serial {\n",
       "  display: flex;\n",
       "  flex-direction: column;\n",
       "  align-items: center;\n",
       "  background-color: var(--sklearn-color-background);\n",
       "  padding-right: 1em;\n",
       "  padding-left: 1em;\n",
       "}\n",
       "\n",
       "\n",
       "/* Toggleable style: style used for estimator/Pipeline/ColumnTransformer box that is\n",
       "clickable and can be expanded/collapsed.\n",
       "- Pipeline and ColumnTransformer use this feature and define the default style\n",
       "- Estimators will overwrite some part of the style using the `sk-estimator` class\n",
       "*/\n",
       "\n",
       "/* Pipeline and ColumnTransformer style (default) */\n",
       "\n",
       "#sk-container-id-1 div.sk-toggleable {\n",
       "  /* Default theme specific background. It is overwritten whether we have a\n",
       "  specific estimator or a Pipeline/ColumnTransformer */\n",
       "  background-color: var(--sklearn-color-background);\n",
       "}\n",
       "\n",
       "/* Toggleable label */\n",
       "#sk-container-id-1 label.sk-toggleable__label {\n",
       "  cursor: pointer;\n",
       "  display: block;\n",
       "  width: 100%;\n",
       "  margin-bottom: 0;\n",
       "  padding: 0.5em;\n",
       "  box-sizing: border-box;\n",
       "  text-align: center;\n",
       "}\n",
       "\n",
       "#sk-container-id-1 label.sk-toggleable__label-arrow:before {\n",
       "  /* Arrow on the left of the label */\n",
       "  content: \"▸\";\n",
       "  float: left;\n",
       "  margin-right: 0.25em;\n",
       "  color: var(--sklearn-color-icon);\n",
       "}\n",
       "\n",
       "#sk-container-id-1 label.sk-toggleable__label-arrow:hover:before {\n",
       "  color: var(--sklearn-color-text);\n",
       "}\n",
       "\n",
       "/* Toggleable content - dropdown */\n",
       "\n",
       "#sk-container-id-1 div.sk-toggleable__content {\n",
       "  max-height: 0;\n",
       "  max-width: 0;\n",
       "  overflow: hidden;\n",
       "  text-align: left;\n",
       "  /* unfitted */\n",
       "  background-color: var(--sklearn-color-unfitted-level-0);\n",
       "}\n",
       "\n",
       "#sk-container-id-1 div.sk-toggleable__content.fitted {\n",
       "  /* fitted */\n",
       "  background-color: var(--sklearn-color-fitted-level-0);\n",
       "}\n",
       "\n",
       "#sk-container-id-1 div.sk-toggleable__content pre {\n",
       "  margin: 0.2em;\n",
       "  border-radius: 0.25em;\n",
       "  color: var(--sklearn-color-text);\n",
       "  /* unfitted */\n",
       "  background-color: var(--sklearn-color-unfitted-level-0);\n",
       "}\n",
       "\n",
       "#sk-container-id-1 div.sk-toggleable__content.fitted pre {\n",
       "  /* unfitted */\n",
       "  background-color: var(--sklearn-color-fitted-level-0);\n",
       "}\n",
       "\n",
       "#sk-container-id-1 input.sk-toggleable__control:checked~div.sk-toggleable__content {\n",
       "  /* Expand drop-down */\n",
       "  max-height: 200px;\n",
       "  max-width: 100%;\n",
       "  overflow: auto;\n",
       "}\n",
       "\n",
       "#sk-container-id-1 input.sk-toggleable__control:checked~label.sk-toggleable__label-arrow:before {\n",
       "  content: \"▾\";\n",
       "}\n",
       "\n",
       "/* Pipeline/ColumnTransformer-specific style */\n",
       "\n",
       "#sk-container-id-1 div.sk-label input.sk-toggleable__control:checked~label.sk-toggleable__label {\n",
       "  color: var(--sklearn-color-text);\n",
       "  background-color: var(--sklearn-color-unfitted-level-2);\n",
       "}\n",
       "\n",
       "#sk-container-id-1 div.sk-label.fitted input.sk-toggleable__control:checked~label.sk-toggleable__label {\n",
       "  background-color: var(--sklearn-color-fitted-level-2);\n",
       "}\n",
       "\n",
       "/* Estimator-specific style */\n",
       "\n",
       "/* Colorize estimator box */\n",
       "#sk-container-id-1 div.sk-estimator input.sk-toggleable__control:checked~label.sk-toggleable__label {\n",
       "  /* unfitted */\n",
       "  background-color: var(--sklearn-color-unfitted-level-2);\n",
       "}\n",
       "\n",
       "#sk-container-id-1 div.sk-estimator.fitted input.sk-toggleable__control:checked~label.sk-toggleable__label {\n",
       "  /* fitted */\n",
       "  background-color: var(--sklearn-color-fitted-level-2);\n",
       "}\n",
       "\n",
       "#sk-container-id-1 div.sk-label label.sk-toggleable__label,\n",
       "#sk-container-id-1 div.sk-label label {\n",
       "  /* The background is the default theme color */\n",
       "  color: var(--sklearn-color-text-on-default-background);\n",
       "}\n",
       "\n",
       "/* On hover, darken the color of the background */\n",
       "#sk-container-id-1 div.sk-label:hover label.sk-toggleable__label {\n",
       "  color: var(--sklearn-color-text);\n",
       "  background-color: var(--sklearn-color-unfitted-level-2);\n",
       "}\n",
       "\n",
       "/* Label box, darken color on hover, fitted */\n",
       "#sk-container-id-1 div.sk-label.fitted:hover label.sk-toggleable__label.fitted {\n",
       "  color: var(--sklearn-color-text);\n",
       "  background-color: var(--sklearn-color-fitted-level-2);\n",
       "}\n",
       "\n",
       "/* Estimator label */\n",
       "\n",
       "#sk-container-id-1 div.sk-label label {\n",
       "  font-family: monospace;\n",
       "  font-weight: bold;\n",
       "  display: inline-block;\n",
       "  line-height: 1.2em;\n",
       "}\n",
       "\n",
       "#sk-container-id-1 div.sk-label-container {\n",
       "  text-align: center;\n",
       "}\n",
       "\n",
       "/* Estimator-specific */\n",
       "#sk-container-id-1 div.sk-estimator {\n",
       "  font-family: monospace;\n",
       "  border: 1px dotted var(--sklearn-color-border-box);\n",
       "  border-radius: 0.25em;\n",
       "  box-sizing: border-box;\n",
       "  margin-bottom: 0.5em;\n",
       "  /* unfitted */\n",
       "  background-color: var(--sklearn-color-unfitted-level-0);\n",
       "}\n",
       "\n",
       "#sk-container-id-1 div.sk-estimator.fitted {\n",
       "  /* fitted */\n",
       "  background-color: var(--sklearn-color-fitted-level-0);\n",
       "}\n",
       "\n",
       "/* on hover */\n",
       "#sk-container-id-1 div.sk-estimator:hover {\n",
       "  /* unfitted */\n",
       "  background-color: var(--sklearn-color-unfitted-level-2);\n",
       "}\n",
       "\n",
       "#sk-container-id-1 div.sk-estimator.fitted:hover {\n",
       "  /* fitted */\n",
       "  background-color: var(--sklearn-color-fitted-level-2);\n",
       "}\n",
       "\n",
       "/* Specification for estimator info (e.g. \"i\" and \"?\") */\n",
       "\n",
       "/* Common style for \"i\" and \"?\" */\n",
       "\n",
       ".sk-estimator-doc-link,\n",
       "a:link.sk-estimator-doc-link,\n",
       "a:visited.sk-estimator-doc-link {\n",
       "  float: right;\n",
       "  font-size: smaller;\n",
       "  line-height: 1em;\n",
       "  font-family: monospace;\n",
       "  background-color: var(--sklearn-color-background);\n",
       "  border-radius: 1em;\n",
       "  height: 1em;\n",
       "  width: 1em;\n",
       "  text-decoration: none !important;\n",
       "  margin-left: 1ex;\n",
       "  /* unfitted */\n",
       "  border: var(--sklearn-color-unfitted-level-1) 1pt solid;\n",
       "  color: var(--sklearn-color-unfitted-level-1);\n",
       "}\n",
       "\n",
       ".sk-estimator-doc-link.fitted,\n",
       "a:link.sk-estimator-doc-link.fitted,\n",
       "a:visited.sk-estimator-doc-link.fitted {\n",
       "  /* fitted */\n",
       "  border: var(--sklearn-color-fitted-level-1) 1pt solid;\n",
       "  color: var(--sklearn-color-fitted-level-1);\n",
       "}\n",
       "\n",
       "/* On hover */\n",
       "div.sk-estimator:hover .sk-estimator-doc-link:hover,\n",
       ".sk-estimator-doc-link:hover,\n",
       "div.sk-label-container:hover .sk-estimator-doc-link:hover,\n",
       ".sk-estimator-doc-link:hover {\n",
       "  /* unfitted */\n",
       "  background-color: var(--sklearn-color-unfitted-level-3);\n",
       "  color: var(--sklearn-color-background);\n",
       "  text-decoration: none;\n",
       "}\n",
       "\n",
       "div.sk-estimator.fitted:hover .sk-estimator-doc-link.fitted:hover,\n",
       ".sk-estimator-doc-link.fitted:hover,\n",
       "div.sk-label-container:hover .sk-estimator-doc-link.fitted:hover,\n",
       ".sk-estimator-doc-link.fitted:hover {\n",
       "  /* fitted */\n",
       "  background-color: var(--sklearn-color-fitted-level-3);\n",
       "  color: var(--sklearn-color-background);\n",
       "  text-decoration: none;\n",
       "}\n",
       "\n",
       "/* Span, style for the box shown on hovering the info icon */\n",
       ".sk-estimator-doc-link span {\n",
       "  display: none;\n",
       "  z-index: 9999;\n",
       "  position: relative;\n",
       "  font-weight: normal;\n",
       "  right: .2ex;\n",
       "  padding: .5ex;\n",
       "  margin: .5ex;\n",
       "  width: min-content;\n",
       "  min-width: 20ex;\n",
       "  max-width: 50ex;\n",
       "  color: var(--sklearn-color-text);\n",
       "  box-shadow: 2pt 2pt 4pt #999;\n",
       "  /* unfitted */\n",
       "  background: var(--sklearn-color-unfitted-level-0);\n",
       "  border: .5pt solid var(--sklearn-color-unfitted-level-3);\n",
       "}\n",
       "\n",
       ".sk-estimator-doc-link.fitted span {\n",
       "  /* fitted */\n",
       "  background: var(--sklearn-color-fitted-level-0);\n",
       "  border: var(--sklearn-color-fitted-level-3);\n",
       "}\n",
       "\n",
       ".sk-estimator-doc-link:hover span {\n",
       "  display: block;\n",
       "}\n",
       "\n",
       "/* \"?\"-specific style due to the `<a>` HTML tag */\n",
       "\n",
       "#sk-container-id-1 a.estimator_doc_link {\n",
       "  float: right;\n",
       "  font-size: 1rem;\n",
       "  line-height: 1em;\n",
       "  font-family: monospace;\n",
       "  background-color: var(--sklearn-color-background);\n",
       "  border-radius: 1rem;\n",
       "  height: 1rem;\n",
       "  width: 1rem;\n",
       "  text-decoration: none;\n",
       "  /* unfitted */\n",
       "  color: var(--sklearn-color-unfitted-level-1);\n",
       "  border: var(--sklearn-color-unfitted-level-1) 1pt solid;\n",
       "}\n",
       "\n",
       "#sk-container-id-1 a.estimator_doc_link.fitted {\n",
       "  /* fitted */\n",
       "  border: var(--sklearn-color-fitted-level-1) 1pt solid;\n",
       "  color: var(--sklearn-color-fitted-level-1);\n",
       "}\n",
       "\n",
       "/* On hover */\n",
       "#sk-container-id-1 a.estimator_doc_link:hover {\n",
       "  /* unfitted */\n",
       "  background-color: var(--sklearn-color-unfitted-level-3);\n",
       "  color: var(--sklearn-color-background);\n",
       "  text-decoration: none;\n",
       "}\n",
       "\n",
       "#sk-container-id-1 a.estimator_doc_link.fitted:hover {\n",
       "  /* fitted */\n",
       "  background-color: var(--sklearn-color-fitted-level-3);\n",
       "}\n",
       "</style><div id=\"sk-container-id-1\" class=\"sk-top-container\"><div class=\"sk-text-repr-fallback\"><pre>SVC(C=1, gamma=0.1)</pre><b>In a Jupyter environment, please rerun this cell to show the HTML representation or trust the notebook. <br />On GitHub, the HTML representation is unable to render, please try loading this page with nbviewer.org.</b></div><div class=\"sk-container\" hidden><div class=\"sk-item\"><div class=\"sk-estimator fitted sk-toggleable\"><input class=\"sk-toggleable__control sk-hidden--visually\" id=\"sk-estimator-id-1\" type=\"checkbox\" checked><label for=\"sk-estimator-id-1\" class=\"sk-toggleable__label fitted sk-toggleable__label-arrow fitted\">&nbsp;&nbsp;SVC<a class=\"sk-estimator-doc-link fitted\" rel=\"noreferrer\" target=\"_blank\" href=\"https://scikit-learn.org/1.5/modules/generated/sklearn.svm.SVC.html\">?<span>Documentation for SVC</span></a><span class=\"sk-estimator-doc-link fitted\">i<span>Fitted</span></span></label><div class=\"sk-toggleable__content fitted\"><pre>SVC(C=1, gamma=0.1)</pre></div> </div></div></div></div>"
      ],
      "text/plain": [
       "SVC(C=1, gamma=0.1)"
      ]
     },
     "execution_count": 297,
     "metadata": {},
     "output_type": "execute_result"
    }
   ],
   "source": [
    "clf = SVC(kernel='rbf', gamma=0.1, C=1)\n",
    "clf.fit(X_train, y_train)"
   ]
  },
  {
   "cell_type": "markdown",
   "metadata": {},
   "source": [
    "- Computar o valor de $𝐸_{in}$,  $𝐸_{out}$ e o valor de $𝐸_{out}$ esperado, baseado no número de vetores de suporte utilizados na solução, para analisar a existência de overfitting; "
   ]
  },
  {
   "cell_type": "code",
   "execution_count": 298,
   "metadata": {},
   "outputs": [
    {
     "name": "stdout",
     "output_type": "stream",
     "text": [
      "(10668, 13)\n",
      "Ein: 0.59\n",
      "Eout: 0.61\n",
      "\n",
      "Número de vetores de suporte: 9917\n",
      "Eout esperado: 1.52\n"
     ]
    }
   ],
   "source": [
    "print(X_train.shape)\n",
    "\n",
    "# computando Ein, Eout e o valor de Eout esperado\n",
    "y_pred_train = clf.predict(X_train)\n",
    "\n",
    "Ein = 1 - accuracy_score(y_train, y_pred_train)\n",
    "Eout = 1 - accuracy_score(y_test, y_pred)\n",
    "\n",
    "print(f'Ein: {Ein:.2f}')\n",
    "print(f'Eout: {Eout:.2f}')\n",
    "\n",
    "print()\n",
    "# calculando Eout esperado\n",
    "n_support_vectors = len(clf.support_)\n",
    "n_samples = len(X_train)\n",
    "\n",
    "print(f'Número de vetores de suporte: {n_support_vectors}')\n",
    "\n",
    "Eout_expected = Ein + (n_support_vectors / n_samples)\n",
    "\n",
    "print(f'Eout esperado: {Eout_expected:.2f}')"
   ]
  },
  {
   "cell_type": "markdown",
   "metadata": {},
   "source": [
    "- Computar  as  métricas  de  qualidade  de  classificação  do  melhor  modelo \n",
    "encontrado"
   ]
  },
  {
   "cell_type": "code",
   "execution_count": 299,
   "metadata": {},
   "outputs": [
    {
     "name": "stdout",
     "output_type": "stream",
     "text": [
      "              precision    recall  f1-score   support\n",
      "\n",
      "           0       0.43      0.63      0.51       673\n",
      "           1       0.26      0.18      0.22       652\n",
      "           2       0.33      0.12      0.18       706\n",
      "           3       0.43      0.66      0.52       637\n",
      "\n",
      "    accuracy                           0.39      2668\n",
      "   macro avg       0.36      0.40      0.36      2668\n",
      "weighted avg       0.36      0.39      0.35      2668\n",
      "\n"
     ]
    }
   ],
   "source": [
    "print(classification_report(y_test, y_pred))"
   ]
  }
 ],
 "metadata": {
  "kernelspec": {
   "display_name": ".local",
   "language": "python",
   "name": "python3"
  },
  "language_info": {
   "codemirror_mode": {
    "name": "ipython",
    "version": 3
   },
   "file_extension": ".py",
   "mimetype": "text/x-python",
   "name": "python",
   "nbconvert_exporter": "python",
   "pygments_lexer": "ipython3",
   "version": "3.12.3"
  }
 },
 "nbformat": 4,
 "nbformat_minor": 2
}
