{
 "cells": [
  {
   "cell_type": "code",
   "execution_count": 65,
   "metadata": {},
   "outputs": [
    {
     "data": {
      "text/html": [
       "<div>\n",
       "<style scoped>\n",
       "    .dataframe tbody tr th:only-of-type {\n",
       "        vertical-align: middle;\n",
       "    }\n",
       "\n",
       "    .dataframe tbody tr th {\n",
       "        vertical-align: top;\n",
       "    }\n",
       "\n",
       "    .dataframe thead th {\n",
       "        text-align: right;\n",
       "    }\n",
       "</style>\n",
       "<table border=\"1\" class=\"dataframe\">\n",
       "  <thead>\n",
       "    <tr style=\"text-align: right;\">\n",
       "      <th></th>\n",
       "      <th>ano</th>\n",
       "      <th>sigla_uf</th>\n",
       "      <th>escola_publica</th>\n",
       "      <th>id_aluno</th>\n",
       "      <th>situacao_censo</th>\n",
       "      <th>disciplina</th>\n",
       "      <th>proficiencia</th>\n",
       "      <th>erro_padrao</th>\n",
       "      <th>proficiencia_saeb</th>\n",
       "      <th>erro_padrao_saeb</th>\n",
       "      <th>...</th>\n",
       "      <th>frequenta_festas_comunidade</th>\n",
       "      <th>gosta_estudar_disciplina</th>\n",
       "      <th>faz_licao_casa</th>\n",
       "      <th>correcao_licao_casa</th>\n",
       "      <th>utiliza_biblioteca_escola</th>\n",
       "      <th>rede</th>\n",
       "      <th>id_escola</th>\n",
       "      <th>serie</th>\n",
       "      <th>turno</th>\n",
       "      <th>desempenho_aluno_cat</th>\n",
       "    </tr>\n",
       "  </thead>\n",
       "  <tbody>\n",
       "    <tr>\n",
       "      <th>274</th>\n",
       "      <td>2015</td>\n",
       "      <td>PB</td>\n",
       "      <td>1</td>\n",
       "      <td>17518688</td>\n",
       "      <td>0</td>\n",
       "      <td>MT</td>\n",
       "      <td>-0.472096</td>\n",
       "      <td>0.538400</td>\n",
       "      <td>223.577837</td>\n",
       "      <td>30.092429</td>\n",
       "      <td>...</td>\n",
       "      <td>1.0</td>\n",
       "      <td>1.0</td>\n",
       "      <td>2.0</td>\n",
       "      <td>2.0</td>\n",
       "      <td>0.0</td>\n",
       "      <td>2</td>\n",
       "      <td>25077147</td>\n",
       "      <td>9</td>\n",
       "      <td>1</td>\n",
       "      <td>0</td>\n",
       "    </tr>\n",
       "    <tr>\n",
       "      <th>348</th>\n",
       "      <td>2015</td>\n",
       "      <td>PB</td>\n",
       "      <td>1</td>\n",
       "      <td>17518163</td>\n",
       "      <td>0</td>\n",
       "      <td>MT</td>\n",
       "      <td>-0.809452</td>\n",
       "      <td>0.580177</td>\n",
       "      <td>204.722224</td>\n",
       "      <td>32.427443</td>\n",
       "      <td>...</td>\n",
       "      <td>1.0</td>\n",
       "      <td>0.0</td>\n",
       "      <td>1.0</td>\n",
       "      <td>2.0</td>\n",
       "      <td>1.0</td>\n",
       "      <td>2</td>\n",
       "      <td>61135320</td>\n",
       "      <td>9</td>\n",
       "      <td>1</td>\n",
       "      <td>0</td>\n",
       "    </tr>\n",
       "    <tr>\n",
       "      <th>408</th>\n",
       "      <td>2015</td>\n",
       "      <td>PB</td>\n",
       "      <td>1</td>\n",
       "      <td>17491526</td>\n",
       "      <td>0</td>\n",
       "      <td>LP</td>\n",
       "      <td>-0.828752</td>\n",
       "      <td>0.366511</td>\n",
       "      <td>204.326255</td>\n",
       "      <td>20.192323</td>\n",
       "      <td>...</td>\n",
       "      <td>NaN</td>\n",
       "      <td>1.0</td>\n",
       "      <td>1.0</td>\n",
       "      <td>2.0</td>\n",
       "      <td>1.0</td>\n",
       "      <td>2</td>\n",
       "      <td>25034820</td>\n",
       "      <td>9</td>\n",
       "      <td>1</td>\n",
       "      <td>1</td>\n",
       "    </tr>\n",
       "    <tr>\n",
       "      <th>1594</th>\n",
       "      <td>2015</td>\n",
       "      <td>PB</td>\n",
       "      <td>1</td>\n",
       "      <td>17489545</td>\n",
       "      <td>0</td>\n",
       "      <td>MT</td>\n",
       "      <td>-0.069178</td>\n",
       "      <td>0.583999</td>\n",
       "      <td>246.097862</td>\n",
       "      <td>32.641064</td>\n",
       "      <td>...</td>\n",
       "      <td>1.0</td>\n",
       "      <td>1.0</td>\n",
       "      <td>0.0</td>\n",
       "      <td>2.0</td>\n",
       "      <td>0.0</td>\n",
       "      <td>2</td>\n",
       "      <td>25030620</td>\n",
       "      <td>9</td>\n",
       "      <td>2</td>\n",
       "      <td>1</td>\n",
       "    </tr>\n",
       "    <tr>\n",
       "      <th>1847</th>\n",
       "      <td>2015</td>\n",
       "      <td>PB</td>\n",
       "      <td>1</td>\n",
       "      <td>17561474</td>\n",
       "      <td>0</td>\n",
       "      <td>MT</td>\n",
       "      <td>-0.462874</td>\n",
       "      <td>0.543093</td>\n",
       "      <td>224.093276</td>\n",
       "      <td>30.354732</td>\n",
       "      <td>...</td>\n",
       "      <td>2.0</td>\n",
       "      <td>1.0</td>\n",
       "      <td>NaN</td>\n",
       "      <td>2.0</td>\n",
       "      <td>2.0</td>\n",
       "      <td>2</td>\n",
       "      <td>25120760</td>\n",
       "      <td>9</td>\n",
       "      <td>3</td>\n",
       "      <td>0</td>\n",
       "    </tr>\n",
       "  </tbody>\n",
       "</table>\n",
       "<p>5 rows × 47 columns</p>\n",
       "</div>"
      ],
      "text/plain": [
       "       ano sigla_uf  escola_publica  id_aluno  situacao_censo disciplina  \\\n",
       "274   2015       PB               1  17518688               0         MT   \n",
       "348   2015       PB               1  17518163               0         MT   \n",
       "408   2015       PB               1  17491526               0         LP   \n",
       "1594  2015       PB               1  17489545               0         MT   \n",
       "1847  2015       PB               1  17561474               0         MT   \n",
       "\n",
       "      proficiencia  erro_padrao  proficiencia_saeb  erro_padrao_saeb  ...  \\\n",
       "274      -0.472096     0.538400         223.577837         30.092429  ...   \n",
       "348      -0.809452     0.580177         204.722224         32.427443  ...   \n",
       "408      -0.828752     0.366511         204.326255         20.192323  ...   \n",
       "1594     -0.069178     0.583999         246.097862         32.641064  ...   \n",
       "1847     -0.462874     0.543093         224.093276         30.354732  ...   \n",
       "\n",
       "     frequenta_festas_comunidade gosta_estudar_disciplina faz_licao_casa  \\\n",
       "274                          1.0                      1.0            2.0   \n",
       "348                          1.0                      0.0            1.0   \n",
       "408                          NaN                      1.0            1.0   \n",
       "1594                         1.0                      1.0            0.0   \n",
       "1847                         2.0                      1.0            NaN   \n",
       "\n",
       "      correcao_licao_casa  utiliza_biblioteca_escola  rede  id_escola  serie  \\\n",
       "274                   2.0                        0.0     2   25077147      9   \n",
       "348                   2.0                        1.0     2   61135320      9   \n",
       "408                   2.0                        1.0     2   25034820      9   \n",
       "1594                  2.0                        0.0     2   25030620      9   \n",
       "1847                  2.0                        2.0     2   25120760      9   \n",
       "\n",
       "      turno  desempenho_aluno_cat  \n",
       "274       1                     0  \n",
       "348       1                     0  \n",
       "408       1                     1  \n",
       "1594      2                     1  \n",
       "1847      3                     0  \n",
       "\n",
       "[5 rows x 47 columns]"
      ]
     },
     "execution_count": 65,
     "metadata": {},
     "output_type": "execute_result"
    }
   ],
   "source": [
    "import pandas as pd\n",
    "\n",
    "df = pd.read_pickle('data/saeb_treated.pkl')\n",
    "df.head()"
   ]
  },
  {
   "cell_type": "code",
   "execution_count": 66,
   "metadata": {},
   "outputs": [
    {
     "name": "stdout",
     "output_type": "stream",
     "text": [
      "84174\n",
      "50356\n"
     ]
    }
   ],
   "source": [
    "print(len(df))\n",
    "\n",
    "print(len(df.dropna()))\n",
    "\n",
    "df = df.dropna()"
   ]
  },
  {
   "cell_type": "code",
   "execution_count": 67,
   "metadata": {},
   "outputs": [
    {
     "name": "stdout",
     "output_type": "stream",
     "text": [
      "idade: [18 17 16 15 14 13]\n",
      "escolaridade_mae: [4. 1. 0. 2. 3. 5.]\n",
      "mae_sabe_ler_escrever: [1 0]\n",
      "mae_le: [1. 0.]\n",
      "escolaridade_pai: [1. 3. 4. 2. 0. 5.]\n",
      "pai_sabe_ler_escrever: [1. 0.]\n",
      "pai_le: [1. 0.]\n",
      "responsaveis_incentivam_realizacao_licao_casa: [1. 0.]\n",
      "responsaveis_incentivam_estudos: [1. 0.]\n",
      "responsaveis_incentivam_leitura: [1. 0.]\n",
      "responsaveis_incentivam_comparecer_aulas: [1. 0.]\n",
      "possui_computador: [1. 0. 2. 3. 4.]\n",
      "tempo_lazer: [1. 4. 2. 3. 0.]\n",
      "leitura_jornais: [1. 0. 2.]\n",
      "leitura_livros_geral: [1. 2. 0.]\n",
      "leitura_literatura_infantojuvenil: [1. 2. 0.]\n",
      "leitura_historia_quadrinhos: [1. 2. 0.]\n",
      "leitura_revista_comportamento: [1. 2. 0.]\n",
      "leitura_revistas_geral: [1. 2. 0.]\n",
      "leitura_internet: [0. 1. 2.]\n",
      "frequenta_biblioteca: [1. 0. 2.]\n",
      "frequenta_cinema: [0. 2. 1.]\n",
      "frequenta_espetaculo_exposicao: [1. 2. 0.]\n",
      "frequenta_festas_comunidade: [1. 2. 0.]\n",
      "gosta_estudar_disciplina: [0. 1.]\n",
      "faz_licao_casa: [1. 2. 0.]\n",
      "correcao_licao_casa: [1. 2. 0.]\n",
      "utiliza_biblioteca_escola: [1. 2. 0.]\n",
      "desempenho_aluno_cat: [0 1 2 3]\n"
     ]
    }
   ],
   "source": [
    "# valores unicos para cada variável, menos as de exclude\n",
    "exclude = ['ano', 'sigla_uf', 'id_aluno', 'situacao_censo', 'disciplina', 'proficiencia', 'erro_padrao', 'proficiencia_saeb',\n",
    "       'erro_padrao_saeb', 'sexo', 'raca_cor','ano_nascimento', 'rede', 'id_escola', 'serie', 'turno', 'escola_publica', 'desempenho_aluno']\n",
    "\n",
    "for col in df.columns:\n",
    "    if col not in exclude:\n",
    "        print(f'{col}: {df[col].unique()}')"
   ]
  },
  {
   "cell_type": "markdown",
   "metadata": {},
   "source": [
    "# transforming to binary"
   ]
  },
  {
   "cell_type": "code",
   "execution_count": 68,
   "metadata": {},
   "outputs": [
    {
     "name": "stdout",
     "output_type": "stream",
     "text": [
      "1    49486\n",
      "0      870\n",
      "Name: count, dtype: int64\n"
     ]
    }
   ],
   "source": [
    "# feature engineering para as colunas de leitura\n",
    "# se o aluno ler em pelo menos 1 das categorias, \n",
    "# então a variável de leitura é 1, se não ler em todas, então 0\n",
    "\n",
    "columns_oi = [col for col in df.columns if 'leitura_' in col]\n",
    "print(df[columns_oi].sum(axis=1).apply(lambda x: 1 if x > 0 else 0).value_counts())\n",
    "df['leitura'] = df[columns_oi].sum(axis=1).apply(lambda x: 1 if x > 0 else 0)\n",
    "\n",
    "df = df.drop(columns=columns_oi)"
   ]
  },
  {
   "cell_type": "code",
   "execution_count": 69,
   "metadata": {},
   "outputs": [
    {
     "name": "stdout",
     "output_type": "stream",
     "text": [
      "1    47175\n",
      "0     3181\n",
      "Name: count, dtype: int64\n"
     ]
    }
   ],
   "source": [
    "# colunas de 'frequenta'\n",
    "\n",
    "columns_oi = [col for col in df.columns if 'frequenta_' in col]\n",
    "print(df[columns_oi].sum(axis=1).apply(lambda x: 1 if x > 0 else 0).value_counts())\n",
    "df['frequenta_entretenimento'] = df[columns_oi].sum(axis=1).apply(lambda x: 1 if x > 0 else 0)\n",
    "\n",
    "df = df.drop(columns=columns_oi)"
   ]
  },
  {
   "cell_type": "code",
   "execution_count": 70,
   "metadata": {},
   "outputs": [
    {
     "data": {
      "text/plain": [
       "tempo_lazer\n",
       "1    48297\n",
       "0     2059\n",
       "Name: count, dtype: int64"
      ]
     },
     "execution_count": 70,
     "metadata": {},
     "output_type": "execute_result"
    }
   ],
   "source": [
    "# tempo_lazer\n",
    "# se o aluno tem tempo de lazer, então 1, se não, 0\n",
    "df['tempo_lazer'] = df['tempo_lazer'].apply(lambda x: 1 if x > 0 else 0)\n",
    "\n",
    "df['tempo_lazer'].value_counts()"
   ]
  },
  {
   "cell_type": "code",
   "execution_count": 71,
   "metadata": {},
   "outputs": [
    {
     "name": "stdout",
     "output_type": "stream",
     "text": [
      "1    50208\n",
      "0      148\n",
      "Name: count, dtype: int64\n"
     ]
    }
   ],
   "source": [
    "# responsaveis incentivam\n",
    "# mesma lógica da anterior, se o responsável incentiva em pelo menos 1 das categorias,\n",
    "# então a variável de incentivo_responsaveis é 1, se não incentiva em todas, então 0\n",
    "\n",
    "columns_oi = [col for col in df.columns if 'responsaveis_incentivam' in col]\n",
    "print(df[columns_oi].sum(axis=1).apply(lambda x: 1 if x > 0 else 0).value_counts())\n",
    "\n",
    "df['incentivo_responsaveis'] = df[columns_oi].sum(axis=1).apply(lambda x: 1 if x > 0 else 0)\n",
    "\n",
    "df = df.drop(columns=columns_oi)"
   ]
  },
  {
   "cell_type": "code",
   "execution_count": 72,
   "metadata": {},
   "outputs": [
    {
     "name": "stdout",
     "output_type": "stream",
     "text": [
      "1    38588\n",
      "0    11768\n",
      "Name: count, dtype: int64\n"
     ]
    }
   ],
   "source": [
    "# escolaridade pai / mae\n",
    "# Nunca estudou.\tNão completou a 4.ª série/5.º ano.\tCompletou a 4.ª série/5.º ano, mas não completou a 8.ª série/9.º ano.\tCompletou a 8.ª série/9.º ano, mas não completou o Ensino Médio.\tCompletou o Ensino Médio, mas não completou a Faculdade.\tCompletou a Faculdade.\n",
    "# 0\t1\t2\t3\t4\t5\n",
    "\n",
    "# separando em \n",
    "# Baixa escolaridade: 0, 1, 2 (0)\n",
    "# \"Alta\" escolaridade: 3, 4, 5 (1)\n",
    "\n",
    "columns_oi = [col for col in df.columns if 'escolaridade_' in col]\n",
    "print(df[columns_oi].sum(axis=1).apply(lambda x: 1 if x > 2 else 0).value_counts())\n",
    "\n",
    "df['escolaridade_pai'] = df['escolaridade_pai'].apply(lambda x: 1 if x > 2 else 0)\n",
    "df['escolaridade_mae'] = df['escolaridade_mae'].apply(lambda x: 1 if x > 2 else 0)"
   ]
  },
  {
   "cell_type": "code",
   "execution_count": 73,
   "metadata": {},
   "outputs": [
    {
     "name": "stdout",
     "output_type": "stream",
     "text": [
      "0    25411\n",
      "1    24945\n",
      "Name: count, dtype: int64\n"
     ]
    }
   ],
   "source": [
    "# possui_computador\n",
    "# Na sua casa tem computador?\tNão tem.\tSim, um.\tSim, dois.\tSim, três.\tSim, quatro ou mais.\n",
    "\n",
    "# separando em possui, ou não\n",
    "\n",
    "columns_oi = ['possui_computador']\n",
    "print(df[columns_oi].sum(axis=1).apply(lambda x: 1 if x > 0 else 0).value_counts())\n",
    "\n",
    "df['possui_computador'] = df[columns_oi].sum(axis=1).apply(lambda x: 1 if x > 0 else 0)"
   ]
  },
  {
   "cell_type": "code",
   "execution_count": 74,
   "metadata": {},
   "outputs": [
    {
     "name": "stdout",
     "output_type": "stream",
     "text": [
      "faz_licao_casa\n",
      "1    47285\n",
      "0     3071\n",
      "Name: count, dtype: int64\n",
      "\n",
      "\n",
      "correcao_licao_casa\n",
      "1    48337\n",
      "0     2019\n",
      "Name: count, dtype: int64\n",
      "\n",
      "\n",
      "utiliza_biblioteca_escola\n",
      "1    30352\n",
      "0    20004\n",
      "Name: count, dtype: int64\n",
      "\n",
      "\n"
     ]
    }
   ],
   "source": [
    "# faz_licao_casa\n",
    "# correcao_licao_casa\n",
    "# utiliza_biblioteca_escola\n",
    "\n",
    "# mesma lógica das anteriores\n",
    "columns_oi = ['faz_licao_casa', 'correcao_licao_casa', 'utiliza_biblioteca_escola']\n",
    "\n",
    "df['faz_licao_casa'] = df['faz_licao_casa'].apply(lambda x: 1 if x > 0 else 0)\n",
    "df['correcao_licao_casa'] = df['correcao_licao_casa'].apply(lambda x: 1 if x > 0 else 0)\n",
    "df['utiliza_biblioteca_escola'] = df['utiliza_biblioteca_escola'].apply(lambda x: 1 if x > 0 else 0)\n",
    "\n",
    "for column in columns_oi:\n",
    "    print(df[column].value_counts())\n",
    "    print('\\n')"
   ]
  },
  {
   "cell_type": "code",
   "execution_count": 75,
   "metadata": {},
   "outputs": [
    {
     "name": "stdout",
     "output_type": "stream",
     "text": [
      "idade: [18 17 16 15 14 13]\n",
      "escolaridade_mae: [1 0]\n",
      "mae_sabe_ler_escrever: [1 0]\n",
      "mae_le: [1. 0.]\n",
      "escolaridade_pai: [0 1]\n",
      "pai_sabe_ler_escrever: [1. 0.]\n",
      "pai_le: [1. 0.]\n",
      "possui_computador: [1 0]\n",
      "tempo_lazer: [1 0]\n",
      "gosta_estudar_disciplina: [0. 1.]\n",
      "faz_licao_casa: [1 0]\n",
      "correcao_licao_casa: [1 0]\n",
      "utiliza_biblioteca_escola: [1 0]\n",
      "desempenho_aluno_cat: [0 1 2 3]\n",
      "leitura: [1 0]\n",
      "frequenta_entretenimento: [1 0]\n",
      "incentivo_responsaveis: [1 0]\n"
     ]
    }
   ],
   "source": [
    "for column in df.columns:\n",
    "    if column not in exclude:\n",
    "        print(f'{column}: {df[column].unique()}')"
   ]
  },
  {
   "cell_type": "code",
   "execution_count": 76,
   "metadata": {},
   "outputs": [],
   "source": [
    "save = False\n",
    "if save:\n",
    "    df.to_pickle('data/saeb_binary.pkl')"
   ]
  }
 ],
 "metadata": {
  "kernelspec": {
   "display_name": ".local",
   "language": "python",
   "name": "python3"
  },
  "language_info": {
   "codemirror_mode": {
    "name": "ipython",
    "version": 3
   },
   "file_extension": ".py",
   "mimetype": "text/x-python",
   "name": "python",
   "nbconvert_exporter": "python",
   "pygments_lexer": "ipython3",
   "version": "3.12.3"
  }
 },
 "nbformat": 4,
 "nbformat_minor": 2
}
