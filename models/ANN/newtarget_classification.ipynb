{
 "cells": [
  {
   "cell_type": "code",
   "execution_count": 90,
   "metadata": {},
   "outputs": [
    {
     "data": {
      "text/html": [
       "<div>\n",
       "<style scoped>\n",
       "    .dataframe tbody tr th:only-of-type {\n",
       "        vertical-align: middle;\n",
       "    }\n",
       "\n",
       "    .dataframe tbody tr th {\n",
       "        vertical-align: top;\n",
       "    }\n",
       "\n",
       "    .dataframe thead th {\n",
       "        text-align: right;\n",
       "    }\n",
       "</style>\n",
       "<table border=\"1\" class=\"dataframe\">\n",
       "  <thead>\n",
       "    <tr style=\"text-align: right;\">\n",
       "      <th></th>\n",
       "      <th>ano</th>\n",
       "      <th>sigla_uf</th>\n",
       "      <th>escola_publica</th>\n",
       "      <th>id_aluno</th>\n",
       "      <th>situacao_censo</th>\n",
       "      <th>disciplina</th>\n",
       "      <th>proficiencia</th>\n",
       "      <th>erro_padrao</th>\n",
       "      <th>proficiencia_saeb</th>\n",
       "      <th>erro_padrao_saeb</th>\n",
       "      <th>...</th>\n",
       "      <th>frequenta_festas_comunidade</th>\n",
       "      <th>gosta_estudar_disciplina</th>\n",
       "      <th>faz_licao_casa</th>\n",
       "      <th>correcao_licao_casa</th>\n",
       "      <th>utiliza_biblioteca_escola</th>\n",
       "      <th>rede</th>\n",
       "      <th>id_escola</th>\n",
       "      <th>serie</th>\n",
       "      <th>turno</th>\n",
       "      <th>desempenho_aluno_cat</th>\n",
       "    </tr>\n",
       "  </thead>\n",
       "  <tbody>\n",
       "    <tr>\n",
       "      <th>27111</th>\n",
       "      <td>2015</td>\n",
       "      <td>PB</td>\n",
       "      <td>1</td>\n",
       "      <td>17523018</td>\n",
       "      <td>0</td>\n",
       "      <td>MT</td>\n",
       "      <td>-0.627672</td>\n",
       "      <td>0.648351</td>\n",
       "      <td>214.882332</td>\n",
       "      <td>36.237847</td>\n",
       "      <td>...</td>\n",
       "      <td>1.0</td>\n",
       "      <td>0.0</td>\n",
       "      <td>1.0</td>\n",
       "      <td>1.0</td>\n",
       "      <td>1.0</td>\n",
       "      <td>2</td>\n",
       "      <td>25083490</td>\n",
       "      <td>9</td>\n",
       "      <td>3</td>\n",
       "      <td>0</td>\n",
       "    </tr>\n",
       "    <tr>\n",
       "      <th>27112</th>\n",
       "      <td>2015</td>\n",
       "      <td>PB</td>\n",
       "      <td>1</td>\n",
       "      <td>17491737</td>\n",
       "      <td>0</td>\n",
       "      <td>LP</td>\n",
       "      <td>-1.027257</td>\n",
       "      <td>0.354996</td>\n",
       "      <td>193.389947</td>\n",
       "      <td>19.557923</td>\n",
       "      <td>...</td>\n",
       "      <td>2.0</td>\n",
       "      <td>1.0</td>\n",
       "      <td>2.0</td>\n",
       "      <td>2.0</td>\n",
       "      <td>2.0</td>\n",
       "      <td>2</td>\n",
       "      <td>61134907</td>\n",
       "      <td>9</td>\n",
       "      <td>1</td>\n",
       "      <td>0</td>\n",
       "    </tr>\n",
       "    <tr>\n",
       "      <th>27115</th>\n",
       "      <td>2015</td>\n",
       "      <td>PB</td>\n",
       "      <td>1</td>\n",
       "      <td>17491737</td>\n",
       "      <td>0</td>\n",
       "      <td>MT</td>\n",
       "      <td>-0.807123</td>\n",
       "      <td>0.639382</td>\n",
       "      <td>204.852398</td>\n",
       "      <td>35.736548</td>\n",
       "      <td>...</td>\n",
       "      <td>2.0</td>\n",
       "      <td>1.0</td>\n",
       "      <td>2.0</td>\n",
       "      <td>2.0</td>\n",
       "      <td>2.0</td>\n",
       "      <td>2</td>\n",
       "      <td>61134907</td>\n",
       "      <td>9</td>\n",
       "      <td>1</td>\n",
       "      <td>0</td>\n",
       "    </tr>\n",
       "    <tr>\n",
       "      <th>27122</th>\n",
       "      <td>2015</td>\n",
       "      <td>PB</td>\n",
       "      <td>1</td>\n",
       "      <td>17488937</td>\n",
       "      <td>0</td>\n",
       "      <td>LP</td>\n",
       "      <td>-0.341425</td>\n",
       "      <td>0.380753</td>\n",
       "      <td>231.174739</td>\n",
       "      <td>20.976963</td>\n",
       "      <td>...</td>\n",
       "      <td>1.0</td>\n",
       "      <td>1.0</td>\n",
       "      <td>2.0</td>\n",
       "      <td>2.0</td>\n",
       "      <td>1.0</td>\n",
       "      <td>2</td>\n",
       "      <td>25027573</td>\n",
       "      <td>9</td>\n",
       "      <td>1</td>\n",
       "      <td>1</td>\n",
       "    </tr>\n",
       "    <tr>\n",
       "      <th>27123</th>\n",
       "      <td>2015</td>\n",
       "      <td>PB</td>\n",
       "      <td>1</td>\n",
       "      <td>17488937</td>\n",
       "      <td>0</td>\n",
       "      <td>MT</td>\n",
       "      <td>-0.906444</td>\n",
       "      <td>0.545208</td>\n",
       "      <td>199.301116</td>\n",
       "      <td>30.472944</td>\n",
       "      <td>...</td>\n",
       "      <td>1.0</td>\n",
       "      <td>1.0</td>\n",
       "      <td>2.0</td>\n",
       "      <td>2.0</td>\n",
       "      <td>1.0</td>\n",
       "      <td>2</td>\n",
       "      <td>25027573</td>\n",
       "      <td>9</td>\n",
       "      <td>1</td>\n",
       "      <td>0</td>\n",
       "    </tr>\n",
       "  </tbody>\n",
       "</table>\n",
       "<p>5 rows × 47 columns</p>\n",
       "</div>"
      ],
      "text/plain": [
       "        ano sigla_uf  escola_publica  id_aluno  situacao_censo disciplina  \\\n",
       "27111  2015       PB               1  17523018               0         MT   \n",
       "27112  2015       PB               1  17491737               0         LP   \n",
       "27115  2015       PB               1  17491737               0         MT   \n",
       "27122  2015       PB               1  17488937               0         LP   \n",
       "27123  2015       PB               1  17488937               0         MT   \n",
       "\n",
       "       proficiencia  erro_padrao  proficiencia_saeb  erro_padrao_saeb  ...  \\\n",
       "27111     -0.627672     0.648351         214.882332         36.237847  ...   \n",
       "27112     -1.027257     0.354996         193.389947         19.557923  ...   \n",
       "27115     -0.807123     0.639382         204.852398         35.736548  ...   \n",
       "27122     -0.341425     0.380753         231.174739         20.976963  ...   \n",
       "27123     -0.906444     0.545208         199.301116         30.472944  ...   \n",
       "\n",
       "      frequenta_festas_comunidade gosta_estudar_disciplina faz_licao_casa  \\\n",
       "27111                         1.0                      0.0            1.0   \n",
       "27112                         2.0                      1.0            2.0   \n",
       "27115                         2.0                      1.0            2.0   \n",
       "27122                         1.0                      1.0            2.0   \n",
       "27123                         1.0                      1.0            2.0   \n",
       "\n",
       "       correcao_licao_casa  utiliza_biblioteca_escola  rede  id_escola  serie  \\\n",
       "27111                  1.0                        1.0     2   25083490      9   \n",
       "27112                  2.0                        2.0     2   61134907      9   \n",
       "27115                  2.0                        2.0     2   61134907      9   \n",
       "27122                  2.0                        1.0     2   25027573      9   \n",
       "27123                  2.0                        1.0     2   25027573      9   \n",
       "\n",
       "       turno  desempenho_aluno_cat  \n",
       "27111      3                     0  \n",
       "27112      1                     0  \n",
       "27115      1                     0  \n",
       "27122      1                     1  \n",
       "27123      1                     0  \n",
       "\n",
       "[5 rows x 47 columns]"
      ]
     },
     "execution_count": 90,
     "metadata": {},
     "output_type": "execute_result"
    }
   ],
   "source": [
    "import pandas as pd\n",
    "import os\n",
    "cwd = os.getcwd()\n",
    "\n",
    "ROOT = os.path.join(cwd, '../../')\n",
    "DATA_FOLDER = os.path.join(ROOT, 'data/')\n",
    "\n",
    "df = pd.read_pickle(os.path.join(DATA_FOLDER, 'saeb_treated.pkl'))\n",
    "\n",
    "df = df.dropna()\n",
    "df.head()"
   ]
  },
  {
   "cell_type": "code",
   "execution_count": 91,
   "metadata": {},
   "outputs": [
    {
     "data": {
      "text/plain": [
       "desempenho_aluno\n",
       "Básico          27146\n",
       "Insuficiente    13118\n",
       "Proficiente      8646\n",
       "Avançado         1446\n",
       "Name: count, dtype: int64"
      ]
     },
     "execution_count": 91,
     "metadata": {},
     "output_type": "execute_result"
    }
   ],
   "source": [
    "# distribuição das classes\n",
    "df['desempenho_aluno'].value_counts(dropna=False)"
   ]
  },
  {
   "cell_type": "code",
   "execution_count": 92,
   "metadata": {},
   "outputs": [],
   "source": [
    "exclude = ['ano', 'sigla_uf', 'id_aluno', 'situacao_censo', 'disciplina', 'proficiencia', 'erro_padrao', 'proficiencia_saeb',\n",
    "       'erro_padrao_saeb', 'sexo', 'raca_cor','ano_nascimento', 'rede', 'id_escola', 'serie', 'turno', 'escola_publica', 'desempenho_aluno']"
   ]
  },
  {
   "cell_type": "code",
   "execution_count": 93,
   "metadata": {},
   "outputs": [
    {
     "name": "stdout",
     "output_type": "stream",
     "text": [
      "idade [18 17 16 15 14 13]\n",
      "escolaridade_mae [4. 1. 0. 2. 3. 5.]\n",
      "mae_sabe_ler_escrever [1 0]\n",
      "mae_le [1. 0.]\n",
      "escolaridade_pai [1. 3. 4. 2. 0. 5.]\n",
      "pai_sabe_ler_escrever [1. 0.]\n",
      "pai_le [1. 0.]\n",
      "responsaveis_incentivam_realizacao_licao_casa [1. 0.]\n",
      "responsaveis_incentivam_estudos [1. 0.]\n",
      "responsaveis_incentivam_leitura [1. 0.]\n",
      "responsaveis_incentivam_comparecer_aulas [1. 0.]\n",
      "possui_computador [1. 0. 2. 3. 4.]\n",
      "tempo_lazer [1. 4. 2. 3. 0.]\n",
      "leitura_jornais [1. 0. 2.]\n",
      "leitura_livros_geral [1. 2. 0.]\n",
      "leitura_literatura_infantojuvenil [1. 2. 0.]\n",
      "leitura_historia_quadrinhos [1. 2. 0.]\n",
      "leitura_revista_comportamento [1. 2. 0.]\n",
      "leitura_revistas_geral [1. 2. 0.]\n",
      "leitura_internet [0. 1. 2.]\n",
      "frequenta_biblioteca [1. 0. 2.]\n",
      "frequenta_cinema [0. 2. 1.]\n",
      "frequenta_espetaculo_exposicao [1. 2. 0.]\n",
      "frequenta_festas_comunidade [1. 2. 0.]\n",
      "gosta_estudar_disciplina [0. 1.]\n",
      "faz_licao_casa [1. 2. 0.]\n",
      "correcao_licao_casa [1. 2. 0.]\n",
      "utiliza_biblioteca_escola [1. 2. 0.]\n",
      "desempenho_aluno_cat [0 1 2 3]\n"
     ]
    }
   ],
   "source": [
    "# para cada coluna tirando as exclude, mostrar cada valor único\n",
    "for col in df.drop(columns=exclude).columns:\n",
    "    print(col, df[col].unique())"
   ]
  },
  {
   "cell_type": "code",
   "execution_count": 94,
   "metadata": {},
   "outputs": [],
   "source": [
    "import numpy as np\n",
    "from sklearn.model_selection import train_test_split\n",
    "from sklearn.preprocessing import LabelEncoder\n",
    "from sklearn.metrics import classification_report\n",
    "from tensorflow.keras.models import Sequential\n",
    "from tensorflow.keras.layers import Dense\n",
    "from tensorflow.keras.utils import to_categorical\n",
    "from tensorflow.keras.layers import Dropout\n",
    "from tensorflow.keras.callbacks import EarlyStopping\n",
    "from sklearn.preprocessing import MinMaxScaler\n",
    "from sklearn.preprocessing import OneHotEncoder\n",
    "\n",
    "from IPython.display import clear_output\n",
    "\n",
    "clear_output()"
   ]
  },
  {
   "cell_type": "code",
   "execution_count": 95,
   "metadata": {},
   "outputs": [],
   "source": [
    "df = df[df['disciplina'] == 'MT']"
   ]
  },
  {
   "cell_type": "markdown",
   "metadata": {},
   "source": [
    "https://www.kaggle.com/code/cicerosc/trabalhofinal"
   ]
  },
  {
   "cell_type": "code",
   "execution_count": 96,
   "metadata": {},
   "outputs": [
    {
     "name": "stdout",
     "output_type": "stream",
     "text": [
      "-0.107822\n"
     ]
    },
    {
     "data": {
      "text/plain": [
       "target\n",
       "0    12604\n",
       "1    12604\n",
       "Name: count, dtype: int64"
      ]
     },
     "execution_count": 96,
     "metadata": {},
     "output_type": "execute_result"
    }
   ],
   "source": [
    "# transforming target\n",
    "\n",
    "median = df['proficiencia'].median()\n",
    "\n",
    "print(median)\n",
    "\n",
    "df['target'] = np.where(df['proficiencia'] > median, 1, 0)\n",
    "df['target'].value_counts()"
   ]
  },
  {
   "cell_type": "code",
   "execution_count": 97,
   "metadata": {},
   "outputs": [],
   "source": [
    "X = df.drop(columns=exclude + ['target'])\n",
    "y = df['target']"
   ]
  },
  {
   "cell_type": "code",
   "execution_count": 98,
   "metadata": {},
   "outputs": [],
   "source": [
    "X_train, X_test, y_train, y_test = train_test_split(X, y, test_size=0.2, random_state=42)\n",
    "\n",
    "X_val, X_test, y_val, y_test = train_test_split(X_test, y_test, test_size=0.2, random_state=42)\n",
    "\n",
    "scaler = MinMaxScaler()\n",
    "X_train = scaler.fit_transform(X_train)\n",
    "X_test = scaler.transform(X_test)"
   ]
  },
  {
   "cell_type": "code",
   "execution_count": 99,
   "metadata": {},
   "outputs": [
    {
     "name": "stdout",
     "output_type": "stream",
     "text": [
      "0 [0.  0.2 0.4 0.6 0.8 1. ]\n",
      "1 [0.  0.2 0.4 0.6 0.8 1. ]\n",
      "2 [0. 1.]\n",
      "3 [0. 1.]\n",
      "4 [0.  0.2 0.4 0.6 0.8 1. ]\n",
      "5 [0. 1.]\n",
      "6 [0. 1.]\n",
      "7 [0. 1.]\n",
      "8 [0. 1.]\n",
      "9 [0. 1.]\n",
      "10 [0. 1.]\n",
      "11 [0.   0.25 0.5  0.75 1.  ]\n",
      "12 [0.   0.25 0.5  0.75 1.  ]\n",
      "13 [0.  0.5 1. ]\n",
      "14 [0.  0.5 1. ]\n",
      "15 [0.  0.5 1. ]\n",
      "16 [0.  0.5 1. ]\n",
      "17 [0.  0.5 1. ]\n",
      "18 [0.  0.5 1. ]\n",
      "19 [0.  0.5 1. ]\n",
      "20 [0.  0.5 1. ]\n",
      "21 [0.  0.5 1. ]\n",
      "22 [0.  0.5 1. ]\n",
      "23 [0.  0.5 1. ]\n",
      "24 [0. 1.]\n",
      "25 [0.  0.5 1. ]\n",
      "26 [0.  0.5 1. ]\n",
      "27 [0.  0.5 1. ]\n",
      "28 [0.         0.33333333 0.66666667 1.        ]\n"
     ]
    }
   ],
   "source": [
    "# print unique values for each col\n",
    "for col in range(X_train.shape[1]):\n",
    "    print(col, np.unique(X_train[:, col]))"
   ]
  },
  {
   "cell_type": "code",
   "execution_count": 100,
   "metadata": {},
   "outputs": [
    {
     "name": "stderr",
     "output_type": "stream",
     "text": [
      "/home/erlo/.local/lib/python3.12/site-packages/keras/src/layers/core/dense.py:87: UserWarning: Do not pass an `input_shape`/`input_dim` argument to a layer. When using Sequential models, prefer using an `Input(shape)` object as the first layer in the model instead.\n",
      "  super().__init__(activity_regularizer=activity_regularizer, **kwargs)\n"
     ]
    },
    {
     "data": {
      "text/html": [
       "<pre style=\"white-space:pre;overflow-x:auto;line-height:normal;font-family:Menlo,'DejaVu Sans Mono',consolas,'Courier New',monospace\"><span style=\"font-weight: bold\">Model: \"sequential_7\"</span>\n",
       "</pre>\n"
      ],
      "text/plain": [
       "\u001b[1mModel: \"sequential_7\"\u001b[0m\n"
      ]
     },
     "metadata": {},
     "output_type": "display_data"
    },
    {
     "data": {
      "text/html": [
       "<pre style=\"white-space:pre;overflow-x:auto;line-height:normal;font-family:Menlo,'DejaVu Sans Mono',consolas,'Courier New',monospace\">┏━━━━━━━━━━━━━━━━━━━━━━━━━━━━━━━━━┳━━━━━━━━━━━━━━━━━━━━━━━━┳━━━━━━━━━━━━━━━┓\n",
       "┃<span style=\"font-weight: bold\"> Layer (type)                    </span>┃<span style=\"font-weight: bold\"> Output Shape           </span>┃<span style=\"font-weight: bold\">       Param # </span>┃\n",
       "┡━━━━━━━━━━━━━━━━━━━━━━━━━━━━━━━━━╇━━━━━━━━━━━━━━━━━━━━━━━━╇━━━━━━━━━━━━━━━┩\n",
       "│ dense_14 (<span style=\"color: #0087ff; text-decoration-color: #0087ff\">Dense</span>)                │ (<span style=\"color: #00d7ff; text-decoration-color: #00d7ff\">None</span>, <span style=\"color: #00af00; text-decoration-color: #00af00\">4</span>)              │           <span style=\"color: #00af00; text-decoration-color: #00af00\">120</span> │\n",
       "├─────────────────────────────────┼────────────────────────┼───────────────┤\n",
       "│ dense_15 (<span style=\"color: #0087ff; text-decoration-color: #0087ff\">Dense</span>)                │ (<span style=\"color: #00d7ff; text-decoration-color: #00d7ff\">None</span>, <span style=\"color: #00af00; text-decoration-color: #00af00\">1</span>)              │             <span style=\"color: #00af00; text-decoration-color: #00af00\">5</span> │\n",
       "└─────────────────────────────────┴────────────────────────┴───────────────┘\n",
       "</pre>\n"
      ],
      "text/plain": [
       "┏━━━━━━━━━━━━━━━━━━━━━━━━━━━━━━━━━┳━━━━━━━━━━━━━━━━━━━━━━━━┳━━━━━━━━━━━━━━━┓\n",
       "┃\u001b[1m \u001b[0m\u001b[1mLayer (type)                   \u001b[0m\u001b[1m \u001b[0m┃\u001b[1m \u001b[0m\u001b[1mOutput Shape          \u001b[0m\u001b[1m \u001b[0m┃\u001b[1m \u001b[0m\u001b[1m      Param #\u001b[0m\u001b[1m \u001b[0m┃\n",
       "┡━━━━━━━━━━━━━━━━━━━━━━━━━━━━━━━━━╇━━━━━━━━━━━━━━━━━━━━━━━━╇━━━━━━━━━━━━━━━┩\n",
       "│ dense_14 (\u001b[38;5;33mDense\u001b[0m)                │ (\u001b[38;5;45mNone\u001b[0m, \u001b[38;5;34m4\u001b[0m)              │           \u001b[38;5;34m120\u001b[0m │\n",
       "├─────────────────────────────────┼────────────────────────┼───────────────┤\n",
       "│ dense_15 (\u001b[38;5;33mDense\u001b[0m)                │ (\u001b[38;5;45mNone\u001b[0m, \u001b[38;5;34m1\u001b[0m)              │             \u001b[38;5;34m5\u001b[0m │\n",
       "└─────────────────────────────────┴────────────────────────┴───────────────┘\n"
      ]
     },
     "metadata": {},
     "output_type": "display_data"
    },
    {
     "data": {
      "text/html": [
       "<pre style=\"white-space:pre;overflow-x:auto;line-height:normal;font-family:Menlo,'DejaVu Sans Mono',consolas,'Courier New',monospace\"><span style=\"font-weight: bold\"> Total params: </span><span style=\"color: #00af00; text-decoration-color: #00af00\">125</span> (500.00 B)\n",
       "</pre>\n"
      ],
      "text/plain": [
       "\u001b[1m Total params: \u001b[0m\u001b[38;5;34m125\u001b[0m (500.00 B)\n"
      ]
     },
     "metadata": {},
     "output_type": "display_data"
    },
    {
     "data": {
      "text/html": [
       "<pre style=\"white-space:pre;overflow-x:auto;line-height:normal;font-family:Menlo,'DejaVu Sans Mono',consolas,'Courier New',monospace\"><span style=\"font-weight: bold\"> Trainable params: </span><span style=\"color: #00af00; text-decoration-color: #00af00\">125</span> (500.00 B)\n",
       "</pre>\n"
      ],
      "text/plain": [
       "\u001b[1m Trainable params: \u001b[0m\u001b[38;5;34m125\u001b[0m (500.00 B)\n"
      ]
     },
     "metadata": {},
     "output_type": "display_data"
    },
    {
     "data": {
      "text/html": [
       "<pre style=\"white-space:pre;overflow-x:auto;line-height:normal;font-family:Menlo,'DejaVu Sans Mono',consolas,'Courier New',monospace\"><span style=\"font-weight: bold\"> Non-trainable params: </span><span style=\"color: #00af00; text-decoration-color: #00af00\">0</span> (0.00 B)\n",
       "</pre>\n"
      ],
      "text/plain": [
       "\u001b[1m Non-trainable params: \u001b[0m\u001b[38;5;34m0\u001b[0m (0.00 B)\n"
      ]
     },
     "metadata": {},
     "output_type": "display_data"
    }
   ],
   "source": [
    "model = Sequential()\n",
    "model.add(Dense(4, input_dim=X_train.shape[1], activation='relu', kernel_regularizer='l2'))\n",
    "\n",
    "model.add(Dense(1, kernel_initializer='normal', activation='sigmoid'))\n",
    "\n",
    "es = EarlyStopping(monitor='val_loss', mode='min', verbose=1, patience=10)\n",
    "\n",
    "# Compilar o modelo\n",
    "model.compile(loss='binary_crossentropy', optimizer='adam', metrics=['accuracy'])\n",
    "model.summary()"
   ]
  },
  {
   "cell_type": "code",
   "execution_count": 101,
   "metadata": {},
   "outputs": [
    {
     "name": "stdout",
     "output_type": "stream",
     "text": [
      "Epoch 1/100\n",
      "\u001b[1m631/631\u001b[0m \u001b[32m━━━━━━━━━━━━━━━━━━━━\u001b[0m\u001b[37m\u001b[0m \u001b[1m1s\u001b[0m 673us/step - accuracy: 0.5626 - loss: 0.7236 - val_accuracy: 0.5579 - val_loss: 0.8572\n",
      "Epoch 2/100\n",
      "\u001b[1m631/631\u001b[0m \u001b[32m━━━━━━━━━━━━━━━━━━━━\u001b[0m\u001b[37m\u001b[0m \u001b[1m0s\u001b[0m 475us/step - accuracy: 0.7647 - loss: 0.5958 - val_accuracy: 0.5549 - val_loss: 2.0487\n",
      "Epoch 3/100\n",
      "\u001b[1m631/631\u001b[0m \u001b[32m━━━━━━━━━━━━━━━━━━━━\u001b[0m\u001b[37m\u001b[0m \u001b[1m0s\u001b[0m 546us/step - accuracy: 0.8142 - loss: 0.5126 - val_accuracy: 0.5986 - val_loss: 2.2111\n",
      "Epoch 4/100\n",
      "\u001b[1m631/631\u001b[0m \u001b[32m━━━━━━━━━━━━━━━━━━━━\u001b[0m\u001b[37m\u001b[0m \u001b[1m0s\u001b[0m 525us/step - accuracy: 0.8287 - loss: 0.4724 - val_accuracy: 0.6348 - val_loss: 1.6526\n",
      "Epoch 5/100\n",
      "\u001b[1m631/631\u001b[0m \u001b[32m━━━━━━━━━━━━━━━━━━━━\u001b[0m\u001b[37m\u001b[0m \u001b[1m0s\u001b[0m 558us/step - accuracy: 0.8308 - loss: 0.4499 - val_accuracy: 0.6375 - val_loss: 1.3706\n",
      "Epoch 6/100\n",
      "\u001b[1m631/631\u001b[0m \u001b[32m━━━━━━━━━━━━━━━━━━━━\u001b[0m\u001b[37m\u001b[0m \u001b[1m0s\u001b[0m 570us/step - accuracy: 0.8317 - loss: 0.4386 - val_accuracy: 0.6395 - val_loss: 1.1997\n",
      "Epoch 7/100\n",
      "\u001b[1m631/631\u001b[0m \u001b[32m━━━━━━━━━━━━━━━━━━━━\u001b[0m\u001b[37m\u001b[0m \u001b[1m0s\u001b[0m 568us/step - accuracy: 0.8321 - loss: 0.4266 - val_accuracy: 0.6506 - val_loss: 0.8885\n",
      "Epoch 8/100\n",
      "\u001b[1m631/631\u001b[0m \u001b[32m━━━━━━━━━━━━━━━━━━━━\u001b[0m\u001b[37m\u001b[0m \u001b[1m0s\u001b[0m 635us/step - accuracy: 0.8366 - loss: 0.4170 - val_accuracy: 0.6524 - val_loss: 0.8766\n",
      "Epoch 9/100\n",
      "\u001b[1m631/631\u001b[0m \u001b[32m━━━━━━━━━━━━━━━━━━━━\u001b[0m\u001b[37m\u001b[0m \u001b[1m0s\u001b[0m 557us/step - accuracy: 0.8298 - loss: 0.4122 - val_accuracy: 0.7255 - val_loss: 0.5599\n",
      "Epoch 10/100\n",
      "\u001b[1m631/631\u001b[0m \u001b[32m━━━━━━━━━━━━━━━━━━━━\u001b[0m\u001b[37m\u001b[0m \u001b[1m0s\u001b[0m 617us/step - accuracy: 0.8330 - loss: 0.4038 - val_accuracy: 0.7270 - val_loss: 0.5571\n",
      "Epoch 11/100\n",
      "\u001b[1m631/631\u001b[0m \u001b[32m━━━━━━━━━━━━━━━━━━━━\u001b[0m\u001b[37m\u001b[0m \u001b[1m0s\u001b[0m 584us/step - accuracy: 0.8305 - loss: 0.4056 - val_accuracy: 0.7089 - val_loss: 0.6018\n",
      "Epoch 12/100\n",
      "\u001b[1m631/631\u001b[0m \u001b[32m━━━━━━━━━━━━━━━━━━━━\u001b[0m\u001b[37m\u001b[0m \u001b[1m0s\u001b[0m 563us/step - accuracy: 0.8315 - loss: 0.4006 - val_accuracy: 0.7369 - val_loss: 0.5202\n",
      "Epoch 13/100\n",
      "\u001b[1m631/631\u001b[0m \u001b[32m━━━━━━━━━━━━━━━━━━━━\u001b[0m\u001b[37m\u001b[0m \u001b[1m0s\u001b[0m 633us/step - accuracy: 0.8339 - loss: 0.3933 - val_accuracy: 0.7915 - val_loss: 0.4177\n",
      "Epoch 14/100\n",
      "\u001b[1m631/631\u001b[0m \u001b[32m━━━━━━━━━━━━━━━━━━━━\u001b[0m\u001b[37m\u001b[0m \u001b[1m0s\u001b[0m 711us/step - accuracy: 0.8358 - loss: 0.3915 - val_accuracy: 0.7773 - val_loss: 0.4459\n",
      "Epoch 15/100\n",
      "\u001b[1m631/631\u001b[0m \u001b[32m━━━━━━━━━━━━━━━━━━━━\u001b[0m\u001b[37m\u001b[0m \u001b[1m0s\u001b[0m 652us/step - accuracy: 0.8384 - loss: 0.3852 - val_accuracy: 0.7697 - val_loss: 0.4630\n",
      "Epoch 16/100\n",
      "\u001b[1m631/631\u001b[0m \u001b[32m━━━━━━━━━━━━━━━━━━━━\u001b[0m\u001b[37m\u001b[0m \u001b[1m0s\u001b[0m 567us/step - accuracy: 0.8340 - loss: 0.3869 - val_accuracy: 0.8324 - val_loss: 0.4234\n",
      "Epoch 17/100\n",
      "\u001b[1m631/631\u001b[0m \u001b[32m━━━━━━━━━━━━━━━━━━━━\u001b[0m\u001b[37m\u001b[0m \u001b[1m0s\u001b[0m 645us/step - accuracy: 0.8321 - loss: 0.3862 - val_accuracy: 0.8351 - val_loss: 0.4915\n",
      "Epoch 18/100\n",
      "\u001b[1m631/631\u001b[0m \u001b[32m━━━━━━━━━━━━━━━━━━━━\u001b[0m\u001b[37m\u001b[0m \u001b[1m0s\u001b[0m 556us/step - accuracy: 0.8397 - loss: 0.3784 - val_accuracy: 0.8309 - val_loss: 0.4174\n",
      "Epoch 19/100\n",
      "\u001b[1m631/631\u001b[0m \u001b[32m━━━━━━━━━━━━━━━━━━━━\u001b[0m\u001b[37m\u001b[0m \u001b[1m0s\u001b[0m 739us/step - accuracy: 0.8302 - loss: 0.3847 - val_accuracy: 0.8311 - val_loss: 0.4062\n",
      "Epoch 20/100\n",
      "\u001b[1m631/631\u001b[0m \u001b[32m━━━━━━━━━━━━━━━━━━━━\u001b[0m\u001b[37m\u001b[0m \u001b[1m0s\u001b[0m 569us/step - accuracy: 0.8345 - loss: 0.3802 - val_accuracy: 0.8284 - val_loss: 0.4177\n",
      "Epoch 21/100\n",
      "\u001b[1m631/631\u001b[0m \u001b[32m━━━━━━━━━━━━━━━━━━━━\u001b[0m\u001b[37m\u001b[0m \u001b[1m0s\u001b[0m 635us/step - accuracy: 0.8338 - loss: 0.3812 - val_accuracy: 0.8319 - val_loss: 0.4321\n",
      "Epoch 22/100\n",
      "\u001b[1m631/631\u001b[0m \u001b[32m━━━━━━━━━━━━━━━━━━━━\u001b[0m\u001b[37m\u001b[0m \u001b[1m0s\u001b[0m 604us/step - accuracy: 0.8324 - loss: 0.3740 - val_accuracy: 0.8299 - val_loss: 0.4027\n",
      "Epoch 23/100\n",
      "\u001b[1m631/631\u001b[0m \u001b[32m━━━━━━━━━━━━━━━━━━━━\u001b[0m\u001b[37m\u001b[0m \u001b[1m0s\u001b[0m 555us/step - accuracy: 0.8380 - loss: 0.3726 - val_accuracy: 0.8359 - val_loss: 0.5240\n",
      "Epoch 24/100\n",
      "\u001b[1m631/631\u001b[0m \u001b[32m━━━━━━━━━━━━━━━━━━━━\u001b[0m\u001b[37m\u001b[0m \u001b[1m0s\u001b[0m 665us/step - accuracy: 0.8352 - loss: 0.3756 - val_accuracy: 0.8334 - val_loss: 0.4442\n",
      "Epoch 25/100\n",
      "\u001b[1m631/631\u001b[0m \u001b[32m━━━━━━━━━━━━━━━━━━━━\u001b[0m\u001b[37m\u001b[0m \u001b[1m0s\u001b[0m 538us/step - accuracy: 0.8327 - loss: 0.3759 - val_accuracy: 0.8121 - val_loss: 0.4049\n",
      "Epoch 26/100\n",
      "\u001b[1m631/631\u001b[0m \u001b[32m━━━━━━━━━━━━━━━━━━━━\u001b[0m\u001b[37m\u001b[0m \u001b[1m0s\u001b[0m 594us/step - accuracy: 0.8363 - loss: 0.3710 - val_accuracy: 0.8344 - val_loss: 0.5075\n",
      "Epoch 27/100\n",
      "\u001b[1m631/631\u001b[0m \u001b[32m━━━━━━━━━━━━━━━━━━━━\u001b[0m\u001b[37m\u001b[0m \u001b[1m0s\u001b[0m 503us/step - accuracy: 0.8348 - loss: 0.3717 - val_accuracy: 0.8279 - val_loss: 0.4045\n",
      "Epoch 28/100\n",
      "\u001b[1m631/631\u001b[0m \u001b[32m━━━━━━━━━━━━━━━━━━━━\u001b[0m\u001b[37m\u001b[0m \u001b[1m0s\u001b[0m 485us/step - accuracy: 0.8346 - loss: 0.3710 - val_accuracy: 0.8351 - val_loss: 0.5435\n",
      "Epoch 29/100\n",
      "\u001b[1m631/631\u001b[0m \u001b[32m━━━━━━━━━━━━━━━━━━━━\u001b[0m\u001b[37m\u001b[0m \u001b[1m0s\u001b[0m 610us/step - accuracy: 0.8366 - loss: 0.3675 - val_accuracy: 0.8351 - val_loss: 0.5216\n",
      "Epoch 30/100\n",
      "\u001b[1m631/631\u001b[0m \u001b[32m━━━━━━━━━━━━━━━━━━━━\u001b[0m\u001b[37m\u001b[0m \u001b[1m0s\u001b[0m 591us/step - accuracy: 0.8329 - loss: 0.3693 - val_accuracy: 0.8349 - val_loss: 0.5801\n",
      "Epoch 31/100\n",
      "\u001b[1m631/631\u001b[0m \u001b[32m━━━━━━━━━━━━━━━━━━━━\u001b[0m\u001b[37m\u001b[0m \u001b[1m1s\u001b[0m 839us/step - accuracy: 0.8354 - loss: 0.3683 - val_accuracy: 0.8341 - val_loss: 0.5672\n",
      "Epoch 32/100\n",
      "\u001b[1m631/631\u001b[0m \u001b[32m━━━━━━━━━━━━━━━━━━━━\u001b[0m\u001b[37m\u001b[0m \u001b[1m0s\u001b[0m 652us/step - accuracy: 0.8368 - loss: 0.3656 - val_accuracy: 0.8344 - val_loss: 0.5890\n",
      "Epoch 32: early stopping\n"
     ]
    }
   ],
   "source": [
    "history = model.fit(X_train, y_train, epochs=100, batch_size=32, callbacks=[es], validation_data=(X_val, y_val))"
   ]
  },
  {
   "cell_type": "code",
   "execution_count": 102,
   "metadata": {},
   "outputs": [
    {
     "name": "stdout",
     "output_type": "stream",
     "text": [
      "65.0\n",
      "7.0\n"
     ]
    }
   ],
   "source": [
    "def max_neurons(qtd_dados, qtd_features):\n",
    "    return np.floor((qtd_dados - 10) / (10 * (qtd_features + 2)))\n",
    "\n",
    "qtd_dados = X_train.shape[0]\n",
    "qtd_features = X_train.shape[1]\n",
    "\n",
    "print(max_neurons(qtd_dados, qtd_features))\n",
    "\n",
    "qtd_dados = 300\n",
    "qtd_features = 2\n",
    "\n",
    "print(max_neurons(qtd_dados, qtd_features))"
   ]
  },
  {
   "cell_type": "code",
   "execution_count": 103,
   "metadata": {},
   "outputs": [
    {
     "data": {
      "image/png": "[encoded data removed]",
      "text/plain": [
       "<Figure size 640x480 with 1 Axes>"
      ]
     },
     "metadata": {},
     "output_type": "display_data"
    },
    {
     "name": "stdout",
     "output_type": "stream",
     "text": [
      "\u001b[1m631/631\u001b[0m \u001b[32m━━━━━━━━━━━━━━━━━━━━\u001b[0m\u001b[37m\u001b[0m \u001b[1m0s\u001b[0m 356us/step\n",
      "\u001b[1m127/127\u001b[0m \u001b[32m━━━━━━━━━━━━━━━━━━━━\u001b[0m\u001b[37m\u001b[0m \u001b[1m0s\u001b[0m 245us/step\n",
      "\n",
      "--> Acuracia (treino): 0.8372\n",
      "--> Acuracia (validacao): 0.8344\n",
      "--> acc_train - acc_val = 0.0028\n",
      "--> E_val - E_in = 0.2220\n"
     ]
    }
   ],
   "source": [
    "import matplotlib.pyplot as plt\n",
    "from sklearn.metrics import accuracy_score\n",
    "\n",
    "plt.plot(history.history['loss'])\n",
    "plt.plot(history.history['val_loss'])\n",
    "plt.title('Metrica de erro')\n",
    "plt.ylabel('Erro')\n",
    "plt.xlabel('Epoca')\n",
    "plt.legend(['Treinamento', 'Validacao'])\n",
    "plt.show()\n",
    "\n",
    "pred = np.round(model.predict(X_train))\n",
    "acc_train = accuracy_score(y_train, pred)\n",
    "\n",
    "pred = np.round(model.predict(X_val))\n",
    "acc_val = accuracy_score(y_val, pred)\n",
    "\n",
    "print(f'\\n--> Acuracia (treino): {acc_train:.4f}')\n",
    "print(f'--> Acuracia (validacao): {acc_val:.4f}')\n",
    "print(f\"--> acc_train - acc_val = {acc_train - acc_val:.4f}\")\n",
    "print(f\"--> E_val - E_in = {(history.history['val_loss'][-1] - history.history['loss'][-1]):.4f}\")"
   ]
  },
  {
   "cell_type": "code",
   "execution_count": 104,
   "metadata": {},
   "outputs": [
    {
     "name": "stdout",
     "output_type": "stream",
     "text": [
      "Fitting 3 folds for each of 18 candidates, totalling 54 fits\n"
     ]
    },
    {
     "name": "stderr",
     "output_type": "stream",
     "text": [
      "/home/erlo/.local/lib/python3.12/site-packages/pandas/core/arrays/masked.py:60: UserWarning: Pandas requires version '1.3.6' or newer of 'bottleneck' (version '1.3.5' currently installed).\n",
      "  from pandas.core import (\n",
      "/home/erlo/.local/lib/python3.12/site-packages/pandas/core/arrays/masked.py:60: UserWarning: Pandas requires version '1.3.6' or newer of 'bottleneck' (version '1.3.5' currently installed).\n",
      "  from pandas.core import (\n"
     ]
    },
    {
     "name": "stdout",
     "output_type": "stream",
     "text": [
      "[CV] END .max_depth=5, min_samples_split=2, n_estimators=100; total time=   0.3s\n",
      "[CV] END .max_depth=5, min_samples_split=2, n_estimators=100; total time=   0.3s\n",
      "[CV] END .max_depth=5, min_samples_split=2, n_estimators=100; total time=   0.3s\n",
      "[CV] END .max_depth=5, min_samples_split=2, n_estimators=200; total time=   0.7s\n",
      "[CV] END .max_depth=5, min_samples_split=2, n_estimators=200; total time=   0.7s\n",
      "[CV] END .max_depth=5, min_samples_split=2, n_estimators=200; total time=   0.6s\n",
      "[CV] END .max_depth=5, min_samples_split=5, n_estimators=100; total time=   0.3s\n",
      "[CV] END .max_depth=5, min_samples_split=5, n_estimators=100; total time=   0.3s\n",
      "[CV] END .max_depth=5, min_samples_split=5, n_estimators=100; total time=   0.3s\n",
      "[CV] END .max_depth=5, min_samples_split=5, n_estimators=200; total time=   0.6s\n",
      "[CV] END .max_depth=5, min_samples_split=5, n_estimators=200; total time=   0.6s\n",
      "[CV] END max_depth=5, min_samples_split=10, n_estimators=100; total time=   0.3s\n",
      "[CV] END .max_depth=5, min_samples_split=5, n_estimators=200; total time=   0.6s\n",
      "[CV] END max_depth=5, min_samples_split=10, n_estimators=100; total time=   0.3s\n",
      "[CV] END max_depth=5, min_samples_split=10, n_estimators=100; total time=   0.4s\n",
      "[CV] END max_depth=5, min_samples_split=10, n_estimators=200; total time=   0.7s\n",
      "[CV] END max_depth=5, min_samples_split=10, n_estimators=200; total time=   0.6s\n",
      "[CV] END max_depth=5, min_samples_split=10, n_estimators=200; total time=   0.6s\n",
      "[CV] END max_depth=10, min_samples_split=2, n_estimators=100; total time=   0.5s\n",
      "[CV] END max_depth=10, min_samples_split=2, n_estimators=100; total time=   0.5s\n",
      "[CV] END max_depth=10, min_samples_split=2, n_estimators=100; total time=   0.5s\n",
      "[CV] END max_depth=10, min_samples_split=2, n_estimators=200; total time=   1.0s\n",
      "[CV] END max_depth=10, min_samples_split=2, n_estimators=200; total time=   1.1s\n",
      "[CV] END max_depth=10, min_samples_split=5, n_estimators=100; total time=   0.6s\n",
      "[CV] END max_depth=10, min_samples_split=2, n_estimators=200; total time=   1.1s\n",
      "[CV] END max_depth=10, min_samples_split=5, n_estimators=100; total time=   0.5s\n",
      "[CV] END max_depth=10, min_samples_split=5, n_estimators=100; total time=   0.6s\n",
      "[CV] END max_depth=10, min_samples_split=5, n_estimators=200; total time=   1.0s\n",
      "[CV] END max_depth=10, min_samples_split=5, n_estimators=200; total time=   1.0s\n",
      "[CV] END max_depth=10, min_samples_split=10, n_estimators=100; total time=   0.5s\n",
      "[CV] END max_depth=10, min_samples_split=5, n_estimators=200; total time=   1.0s\n",
      "[CV] END max_depth=10, min_samples_split=10, n_estimators=100; total time=   0.5s\n",
      "[CV] END max_depth=10, min_samples_split=10, n_estimators=100; total time=   0.5s\n",
      "[CV] END max_depth=10, min_samples_split=10, n_estimators=200; total time=   1.1s\n",
      "[CV] END max_depth=10, min_samples_split=10, n_estimators=200; total time=   1.1s\n",
      "[CV] END max_depth=10, min_samples_split=10, n_estimators=200; total time=   1.0s\n",
      "[CV] END max_depth=None, min_samples_split=2, n_estimators=100; total time=   0.9s\n",
      "[CV] END max_depth=None, min_samples_split=2, n_estimators=100; total time=   0.9s\n",
      "[CV] END max_depth=None, min_samples_split=2, n_estimators=100; total time=   0.9s\n",
      "[CV] END max_depth=None, min_samples_split=2, n_estimators=200; total time=   1.7s\n",
      "[CV] END max_depth=None, min_samples_split=2, n_estimators=200; total time=   1.7s\n",
      "[CV] END max_depth=None, min_samples_split=5, n_estimators=100; total time=   0.8s\n",
      "[CV] END max_depth=None, min_samples_split=5, n_estimators=100; total time=   0.8s\n",
      "[CV] END max_depth=None, min_samples_split=2, n_estimators=200; total time=   1.8s\n",
      "[CV] END max_depth=None, min_samples_split=5, n_estimators=100; total time=   0.8s\n",
      "[CV] END max_depth=None, min_samples_split=5, n_estimators=200; total time=   1.5s\n",
      "[CV] END max_depth=None, min_samples_split=5, n_estimators=200; total time=   1.5s\n",
      "[CV] END max_depth=None, min_samples_split=10, n_estimators=100; total time=   0.7s\n",
      "[CV] END max_depth=None, min_samples_split=5, n_estimators=200; total time=   1.5s\n",
      "[CV] END max_depth=None, min_samples_split=10, n_estimators=100; total time=   0.7s\n",
      "[CV] END max_depth=None, min_samples_split=10, n_estimators=100; total time=   0.7s\n",
      "[CV] END max_depth=None, min_samples_split=10, n_estimators=200; total time=   1.4s\n",
      "[CV] END max_depth=None, min_samples_split=10, n_estimators=200; total time=   1.4s\n",
      "[CV] END max_depth=None, min_samples_split=10, n_estimators=200; total time=   1.4s\n",
      "Matriz de Confusão:\n",
      "[[353 178]\n",
      " [  1 477]]\n",
      "\n",
      "Relatório de Classificação:\n",
      "              precision    recall  f1-score   support\n",
      "\n",
      "           0       1.00      0.66      0.80       531\n",
      "           1       0.73      1.00      0.84       478\n",
      "\n",
      "    accuracy                           0.82      1009\n",
      "   macro avg       0.86      0.83      0.82      1009\n",
      "weighted avg       0.87      0.82      0.82      1009\n",
      "\n"
     ]
    }
   ],
   "source": [
    "from sklearn.ensemble import RandomForestClassifier\n",
    "from sklearn.model_selection import train_test_split, GridSearchCV\n",
    "from sklearn.metrics import classification_report, confusion_matrix\n",
    "# Instancia o modelo Random Forest\n",
    "rf = RandomForestClassifier()\n",
    "\n",
    "# Ajuste de hiperparâmetros (opcional)\n",
    "param_grid = {\n",
    "    'n_estimators': [100, 200],\n",
    "    'max_depth': [5, 10, None],\n",
    "    'min_samples_split': [2, 5, 10],\n",
    "}\n",
    "\n",
    "grid_search = GridSearchCV(estimator=rf, param_grid=param_grid, cv=3, verbose=2, n_jobs=2)\n",
    "grid_search.fit(X_train, y_train)\n",
    "\n",
    "# Melhor modelo\n",
    "best_rf = grid_search.best_estimator_\n",
    "\n",
    "# Previsão\n",
    "y_pred = best_rf.predict(X_test)\n",
    "\n",
    "# Avaliação\n",
    "print(\"Matriz de Confusão:\")\n",
    "print(confusion_matrix(y_test, y_pred))\n",
    "\n",
    "print(\"\\nRelatório de Classificação:\")\n",
    "print(classification_report(y_test, y_pred))\n"
   ]
  },
  {
   "cell_type": "code",
   "execution_count": null,
   "metadata": {},
   "outputs": [],
   "source": [
    "# training the model on training set \n",
    "from sklearn.svm import SVC\n",
    "from sklearn.model_selection import GridSearchCV\n",
    "\n",
    "param_grid = {'C': [1, 5, 10, 50],\n",
    "              'gamma': [0.0001, 0.0005, 0.001, 0.005, 0.01, 0.05, 0.1, 0.5]}\n",
    "grid = GridSearchCV(estimator=SVC(kernel='rbf'), param_grid=param_grid, cv=5)\n",
    "\n",
    "%time grid.fit(X_train, y_train)\n",
    "print(grid.best_params_)\n"
   ]
  }
 ],
 "metadata": {
  "kernelspec": {
   "display_name": ".local",
   "language": "python",
   "name": "python3"
  },
  "language_info": {
   "codemirror_mode": {
    "name": "ipython",
    "version": 3
   },
   "file_extension": ".py",
   "mimetype": "text/x-python",
   "name": "python",
   "nbconvert_exporter": "python",
   "pygments_lexer": "ipython3",
   "version": "3.12.3"
  }
 },
 "nbformat": 4,
 "nbformat_minor": 2
}
